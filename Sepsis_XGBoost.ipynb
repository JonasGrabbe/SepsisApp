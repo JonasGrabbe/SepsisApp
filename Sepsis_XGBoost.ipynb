{
  "nbformat": 4,
  "nbformat_minor": 0,
  "metadata": {
    "colab": {
      "name": "Sepsis_XGBoost.ipynb",
      "provenance": [],
      "collapsed_sections": []
    },
    "kernelspec": {
      "name": "python3",
      "display_name": "Python 3"
    },
    "language_info": {
      "name": "python"
    }
  },
  "cells": [
    {
      "cell_type": "markdown",
      "metadata": {
        "id": "n1tVnqbOiN68"
      },
      "source": [
        "# XGBoost for early sepsis detection\n",
        "\n",
        "----\n",
        "\n",
        "We use **XGBoost** to build a collection of boosted trees, and use continuous data  from the Beth Israel Deaconess Medical Center and Emory University Hospital (collected from 2001 and 20012) made public through the **[PhysioNet Challenge 2019](https://physionet.org/content/challenge-2019/1.0.0/)**.\n",
        "\n",
        "The data obtained is a 40.336 patient strong dataset.\n",
        "We use the six most common ED vital signs (Heart rate, O2Sat, Temperature, Systolic BP, MAP, and Respiration rate) as features to predict sepsis.\n",
        "\n",
        "\n",
        "\n"
      ]
    },
    {
      "cell_type": "code",
      "metadata": {
        "id": "7HxUM8D4cGYW"
      },
      "source": [
        "import pandas as pd \n",
        "import numpy as np \n",
        "import xgboost as xgb \n",
        "from sklearn.model_selection import train_test_split # split  data into training and testing sets\n",
        "from sklearn.metrics import balanced_accuracy_score, roc_auc_score, make_scorer # for scoring during cross validation\n",
        "from sklearn.model_selection import GridSearchCV # cross validation\n",
        "from sklearn.metrics import confusion_matrix # creates a confusion matrix\n",
        "from sklearn.metrics import plot_confusion_matrix # draws a confusion matrix"
      ],
      "execution_count": 3,
      "outputs": []
    },
    {
      "cell_type": "code",
      "metadata": {
        "colab": {
          "resources": {
            "http://localhost:8080/nbextensions/google.colab/files.js": {
              "data": "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",
              "ok": true,
              "headers": [
                [
                  "content-type",
                  "application/javascript"
                ]
              ],
              "status": 200,
              "status_text": ""
            }
          },
          "base_uri": "https://localhost:8080/",
          "height": 73
        },
        "id": "3FfXYnFicSd-",
        "outputId": "4b4d1b7d-cd90-4216-d952-270f88e6949d"
      },
      "source": [
        "from google.colab import files\n",
        "uploaded = files.upload()"
      ],
      "execution_count": 4,
      "outputs": [
        {
          "output_type": "display_data",
          "data": {
            "text/html": [
              "\n",
              "     <input type=\"file\" id=\"files-09bcba4a-d597-4f7e-8208-058e6edadbbb\" name=\"files[]\" multiple disabled\n",
              "        style=\"border:none\" />\n",
              "     <output id=\"result-09bcba4a-d597-4f7e-8208-058e6edadbbb\">\n",
              "      Upload widget is only available when the cell has been executed in the\n",
              "      current browser session. Please rerun this cell to enable.\n",
              "      </output>\n",
              "      <script src=\"/nbextensions/google.colab/files.js\"></script> "
            ],
            "text/plain": [
              "<IPython.core.display.HTML object>"
            ]
          },
          "metadata": {
            "tags": []
          }
        },
        {
          "output_type": "stream",
          "text": [
            "Saving SepsisDataSet.csv to SepsisDataSet (1).csv\n"
          ],
          "name": "stdout"
        }
      ]
    },
    {
      "cell_type": "code",
      "metadata": {
        "id": "7O2DIJOjcblj"
      },
      "source": [
        "import io\n",
        "df = pd.read_csv(io.BytesIO(uploaded['SepsisDataSet.csv']))\n",
        "# Dataset is now stored in a Pandas Dataframe"
      ],
      "execution_count": 5,
      "outputs": []
    },
    {
      "cell_type": "code",
      "metadata": {
        "id": "AR2Krd3ho8ov",
        "colab": {
          "base_uri": "https://localhost:8080/",
          "height": 223
        },
        "outputId": "0344c6e7-7a2e-4724-d2c7-f96e5bfbd31f"
      },
      "source": [
        "df.head()"
      ],
      "execution_count": 7,
      "outputs": [
        {
          "output_type": "execute_result",
          "data": {
            "text/html": [
              "<div>\n",
              "<style scoped>\n",
              "    .dataframe tbody tr th:only-of-type {\n",
              "        vertical-align: middle;\n",
              "    }\n",
              "\n",
              "    .dataframe tbody tr th {\n",
              "        vertical-align: top;\n",
              "    }\n",
              "\n",
              "    .dataframe thead th {\n",
              "        text-align: right;\n",
              "    }\n",
              "</style>\n",
              "<table border=\"1\" class=\"dataframe\">\n",
              "  <thead>\n",
              "    <tr style=\"text-align: right;\">\n",
              "      <th></th>\n",
              "      <th>HR</th>\n",
              "      <th>O2Sat</th>\n",
              "      <th>Temp</th>\n",
              "      <th>SBP</th>\n",
              "      <th>MAP</th>\n",
              "      <th>DBP</th>\n",
              "      <th>Resp</th>\n",
              "      <th>EtCO2</th>\n",
              "      <th>BaseExcess</th>\n",
              "      <th>HCO3</th>\n",
              "      <th>FiO2</th>\n",
              "      <th>pH</th>\n",
              "      <th>PaCO2</th>\n",
              "      <th>SaO2</th>\n",
              "      <th>AST</th>\n",
              "      <th>BUN</th>\n",
              "      <th>Alkalinephos</th>\n",
              "      <th>Calcium</th>\n",
              "      <th>Chloride</th>\n",
              "      <th>Creatinine</th>\n",
              "      <th>Bilirubin_direct</th>\n",
              "      <th>Glucose</th>\n",
              "      <th>Lactate</th>\n",
              "      <th>Magnesium</th>\n",
              "      <th>Phosphate</th>\n",
              "      <th>Potassium</th>\n",
              "      <th>Bilirubin_total</th>\n",
              "      <th>TroponinI</th>\n",
              "      <th>Hct</th>\n",
              "      <th>Hgb</th>\n",
              "      <th>PTT</th>\n",
              "      <th>WBC</th>\n",
              "      <th>Fibrinogen</th>\n",
              "      <th>Platelets</th>\n",
              "      <th>Age</th>\n",
              "      <th>Gender</th>\n",
              "      <th>Unit1</th>\n",
              "      <th>Unit2</th>\n",
              "      <th>HospAdmTime</th>\n",
              "      <th>ICULOS</th>\n",
              "      <th>SepsisLabel</th>\n",
              "      <th>Patient_id</th>\n",
              "      <th>time</th>\n",
              "    </tr>\n",
              "  </thead>\n",
              "  <tbody>\n",
              "    <tr>\n",
              "      <th>0</th>\n",
              "      <td>NaN</td>\n",
              "      <td>NaN</td>\n",
              "      <td>NaN</td>\n",
              "      <td>NaN</td>\n",
              "      <td>NaN</td>\n",
              "      <td>NaN</td>\n",
              "      <td>NaN</td>\n",
              "      <td>NaN</td>\n",
              "      <td>NaN</td>\n",
              "      <td>NaN</td>\n",
              "      <td>NaN</td>\n",
              "      <td>NaN</td>\n",
              "      <td>NaN</td>\n",
              "      <td>NaN</td>\n",
              "      <td>NaN</td>\n",
              "      <td>NaN</td>\n",
              "      <td>NaN</td>\n",
              "      <td>NaN</td>\n",
              "      <td>NaN</td>\n",
              "      <td>NaN</td>\n",
              "      <td>NaN</td>\n",
              "      <td>NaN</td>\n",
              "      <td>NaN</td>\n",
              "      <td>NaN</td>\n",
              "      <td>NaN</td>\n",
              "      <td>NaN</td>\n",
              "      <td>NaN</td>\n",
              "      <td>NaN</td>\n",
              "      <td>NaN</td>\n",
              "      <td>NaN</td>\n",
              "      <td>NaN</td>\n",
              "      <td>NaN</td>\n",
              "      <td>NaN</td>\n",
              "      <td>NaN</td>\n",
              "      <td>60.08</td>\n",
              "      <td>1</td>\n",
              "      <td>NaN</td>\n",
              "      <td>NaN</td>\n",
              "      <td>-0.01</td>\n",
              "      <td>1</td>\n",
              "      <td>0</td>\n",
              "      <td>0</td>\n",
              "      <td>0</td>\n",
              "    </tr>\n",
              "    <tr>\n",
              "      <th>1</th>\n",
              "      <td>85.0</td>\n",
              "      <td>100.0</td>\n",
              "      <td>NaN</td>\n",
              "      <td>121.0</td>\n",
              "      <td>79.67</td>\n",
              "      <td>NaN</td>\n",
              "      <td>16.0</td>\n",
              "      <td>NaN</td>\n",
              "      <td>NaN</td>\n",
              "      <td>NaN</td>\n",
              "      <td>0.4</td>\n",
              "      <td>NaN</td>\n",
              "      <td>NaN</td>\n",
              "      <td>NaN</td>\n",
              "      <td>NaN</td>\n",
              "      <td>NaN</td>\n",
              "      <td>NaN</td>\n",
              "      <td>NaN</td>\n",
              "      <td>NaN</td>\n",
              "      <td>NaN</td>\n",
              "      <td>NaN</td>\n",
              "      <td>NaN</td>\n",
              "      <td>NaN</td>\n",
              "      <td>NaN</td>\n",
              "      <td>NaN</td>\n",
              "      <td>NaN</td>\n",
              "      <td>NaN</td>\n",
              "      <td>NaN</td>\n",
              "      <td>NaN</td>\n",
              "      <td>NaN</td>\n",
              "      <td>NaN</td>\n",
              "      <td>NaN</td>\n",
              "      <td>NaN</td>\n",
              "      <td>NaN</td>\n",
              "      <td>60.08</td>\n",
              "      <td>1</td>\n",
              "      <td>NaN</td>\n",
              "      <td>NaN</td>\n",
              "      <td>-0.01</td>\n",
              "      <td>2</td>\n",
              "      <td>0</td>\n",
              "      <td>0</td>\n",
              "      <td>1</td>\n",
              "    </tr>\n",
              "    <tr>\n",
              "      <th>2</th>\n",
              "      <td>72.0</td>\n",
              "      <td>100.0</td>\n",
              "      <td>NaN</td>\n",
              "      <td>110.0</td>\n",
              "      <td>72.67</td>\n",
              "      <td>NaN</td>\n",
              "      <td>16.0</td>\n",
              "      <td>NaN</td>\n",
              "      <td>NaN</td>\n",
              "      <td>24.0</td>\n",
              "      <td>NaN</td>\n",
              "      <td>NaN</td>\n",
              "      <td>NaN</td>\n",
              "      <td>NaN</td>\n",
              "      <td>NaN</td>\n",
              "      <td>16.0</td>\n",
              "      <td>NaN</td>\n",
              "      <td>8.9</td>\n",
              "      <td>105.0</td>\n",
              "      <td>1.2</td>\n",
              "      <td>NaN</td>\n",
              "      <td>259.0</td>\n",
              "      <td>NaN</td>\n",
              "      <td>1.5</td>\n",
              "      <td>2.8</td>\n",
              "      <td>4.2</td>\n",
              "      <td>NaN</td>\n",
              "      <td>NaN</td>\n",
              "      <td>36.8</td>\n",
              "      <td>NaN</td>\n",
              "      <td>NaN</td>\n",
              "      <td>10.5</td>\n",
              "      <td>NaN</td>\n",
              "      <td>237.0</td>\n",
              "      <td>60.08</td>\n",
              "      <td>1</td>\n",
              "      <td>NaN</td>\n",
              "      <td>NaN</td>\n",
              "      <td>-0.01</td>\n",
              "      <td>3</td>\n",
              "      <td>0</td>\n",
              "      <td>0</td>\n",
              "      <td>2</td>\n",
              "    </tr>\n",
              "    <tr>\n",
              "      <th>3</th>\n",
              "      <td>74.0</td>\n",
              "      <td>100.0</td>\n",
              "      <td>NaN</td>\n",
              "      <td>109.0</td>\n",
              "      <td>75.00</td>\n",
              "      <td>NaN</td>\n",
              "      <td>16.0</td>\n",
              "      <td>NaN</td>\n",
              "      <td>NaN</td>\n",
              "      <td>NaN</td>\n",
              "      <td>0.4</td>\n",
              "      <td>NaN</td>\n",
              "      <td>NaN</td>\n",
              "      <td>NaN</td>\n",
              "      <td>NaN</td>\n",
              "      <td>NaN</td>\n",
              "      <td>NaN</td>\n",
              "      <td>NaN</td>\n",
              "      <td>NaN</td>\n",
              "      <td>NaN</td>\n",
              "      <td>NaN</td>\n",
              "      <td>NaN</td>\n",
              "      <td>NaN</td>\n",
              "      <td>NaN</td>\n",
              "      <td>NaN</td>\n",
              "      <td>NaN</td>\n",
              "      <td>NaN</td>\n",
              "      <td>NaN</td>\n",
              "      <td>NaN</td>\n",
              "      <td>NaN</td>\n",
              "      <td>NaN</td>\n",
              "      <td>NaN</td>\n",
              "      <td>NaN</td>\n",
              "      <td>NaN</td>\n",
              "      <td>60.08</td>\n",
              "      <td>1</td>\n",
              "      <td>NaN</td>\n",
              "      <td>NaN</td>\n",
              "      <td>-0.01</td>\n",
              "      <td>4</td>\n",
              "      <td>0</td>\n",
              "      <td>0</td>\n",
              "      <td>3</td>\n",
              "    </tr>\n",
              "    <tr>\n",
              "      <th>4</th>\n",
              "      <td>75.0</td>\n",
              "      <td>100.0</td>\n",
              "      <td>37.39</td>\n",
              "      <td>104.0</td>\n",
              "      <td>70.00</td>\n",
              "      <td>NaN</td>\n",
              "      <td>16.0</td>\n",
              "      <td>NaN</td>\n",
              "      <td>NaN</td>\n",
              "      <td>NaN</td>\n",
              "      <td>NaN</td>\n",
              "      <td>NaN</td>\n",
              "      <td>NaN</td>\n",
              "      <td>NaN</td>\n",
              "      <td>NaN</td>\n",
              "      <td>NaN</td>\n",
              "      <td>NaN</td>\n",
              "      <td>NaN</td>\n",
              "      <td>NaN</td>\n",
              "      <td>NaN</td>\n",
              "      <td>NaN</td>\n",
              "      <td>NaN</td>\n",
              "      <td>NaN</td>\n",
              "      <td>NaN</td>\n",
              "      <td>NaN</td>\n",
              "      <td>NaN</td>\n",
              "      <td>NaN</td>\n",
              "      <td>NaN</td>\n",
              "      <td>NaN</td>\n",
              "      <td>NaN</td>\n",
              "      <td>NaN</td>\n",
              "      <td>NaN</td>\n",
              "      <td>NaN</td>\n",
              "      <td>NaN</td>\n",
              "      <td>60.08</td>\n",
              "      <td>1</td>\n",
              "      <td>NaN</td>\n",
              "      <td>NaN</td>\n",
              "      <td>-0.01</td>\n",
              "      <td>5</td>\n",
              "      <td>0</td>\n",
              "      <td>0</td>\n",
              "      <td>4</td>\n",
              "    </tr>\n",
              "  </tbody>\n",
              "</table>\n",
              "</div>"
            ],
            "text/plain": [
              "     HR  O2Sat   Temp    SBP  ...  ICULOS  SepsisLabel  Patient_id  time\n",
              "0   NaN    NaN    NaN    NaN  ...       1            0           0     0\n",
              "1  85.0  100.0    NaN  121.0  ...       2            0           0     1\n",
              "2  72.0  100.0    NaN  110.0  ...       3            0           0     2\n",
              "3  74.0  100.0    NaN  109.0  ...       4            0           0     3\n",
              "4  75.0  100.0  37.39  104.0  ...       5            0           0     4\n",
              "\n",
              "[5 rows x 43 columns]"
            ]
          },
          "metadata": {
            "tags": []
          },
          "execution_count": 7
        }
      ]
    },
    {
      "cell_type": "markdown",
      "metadata": {
        "id": "LkybdUGvkj6Q"
      },
      "source": [
        "Defining features that will be droped.\n"
      ]
    },
    {
      "cell_type": "code",
      "metadata": {
        "id": "EPrH5afxcbua"
      },
      "source": [
        "lab=['BaseExcess','HCO3','FiO2','pH','PaCO2','SaO2','AST','BUN','Alkalinephos','Calcium','Chloride','Creatinine','Bilirubin_direct','Glucose','Lactate',\n",
        "      'Magnesium','Phosphate','Potassium','Bilirubin_total','TroponinI','Hct','Hgb','PTT','WBC','Fibrinogen','Platelets']\n",
        "\n",
        "vitals = ['DBP','EtCO2']\n",
        "\n",
        "demo = ['Age','Gender','Unit1','Unit2','HospAdmTime','ICULOS', 'Patient_id', 'time']\n",
        "\n",
        "label = ['SepsisLabel']"
      ],
      "execution_count": 8,
      "outputs": []
    },
    {
      "cell_type": "markdown",
      "metadata": {
        "id": "1HHoN2EgcvZK"
      },
      "source": [
        "First step for bulding a datapipline:"
      ]
    },
    {
      "cell_type": "code",
      "metadata": {
        "id": "FijvGf0Pcbzz"
      },
      "source": [
        "def drop_vitals(df):\n",
        "    df.drop(vitals, axis = 1, inplace = True)\n",
        "   \n",
        "    \n",
        "def drop_lab(df):\n",
        "    df.drop(lab, axis = 1, inplace = True)\n",
        "\n",
        "def drop_demo(df):\n",
        "    df.drop(demo, axis = 1, inplace = True)"
      ],
      "execution_count": 9,
      "outputs": []
    },
    {
      "cell_type": "code",
      "metadata": {
        "id": "blpTKkbZcb6S"
      },
      "source": [
        "def carry_fwd_imp(df):\n",
        "    df.fillna(method='ffill', inplace=True)\n",
        "    df.fillna(method='bfill', inplace=True)\n",
        "\n",
        "def drop_features(df):\n",
        "    drop_vitals(df)\n",
        "    drop_lab(df)\n",
        "    drop_demo(df)\n",
        "    \n",
        "\n",
        "def drop_ado(df):\n",
        "    df.drop(df[df.Age <= 15].index, inplace=True)"
      ],
      "execution_count": 10,
      "outputs": []
    },
    {
      "cell_type": "code",
      "metadata": {
        "id": "lMICR0TxccAL"
      },
      "source": [
        "drop_ado(df)\n",
        "drop_features(df)\n",
        "carry_fwd_imp(df)"
      ],
      "execution_count": 11,
      "outputs": []
    },
    {
      "cell_type": "code",
      "metadata": {
        "colab": {
          "base_uri": "https://localhost:8080/",
          "height": 203
        },
        "id": "9uSE02CWccE0",
        "outputId": "4330ff19-9f11-43ad-bdab-cf4533f74ce0"
      },
      "source": [
        "df.head()"
      ],
      "execution_count": 12,
      "outputs": [
        {
          "output_type": "execute_result",
          "data": {
            "text/html": [
              "<div>\n",
              "<style scoped>\n",
              "    .dataframe tbody tr th:only-of-type {\n",
              "        vertical-align: middle;\n",
              "    }\n",
              "\n",
              "    .dataframe tbody tr th {\n",
              "        vertical-align: top;\n",
              "    }\n",
              "\n",
              "    .dataframe thead th {\n",
              "        text-align: right;\n",
              "    }\n",
              "</style>\n",
              "<table border=\"1\" class=\"dataframe\">\n",
              "  <thead>\n",
              "    <tr style=\"text-align: right;\">\n",
              "      <th></th>\n",
              "      <th>HR</th>\n",
              "      <th>O2Sat</th>\n",
              "      <th>Temp</th>\n",
              "      <th>SBP</th>\n",
              "      <th>MAP</th>\n",
              "      <th>Resp</th>\n",
              "      <th>SepsisLabel</th>\n",
              "    </tr>\n",
              "  </thead>\n",
              "  <tbody>\n",
              "    <tr>\n",
              "      <th>0</th>\n",
              "      <td>85.0</td>\n",
              "      <td>100.0</td>\n",
              "      <td>37.39</td>\n",
              "      <td>121.0</td>\n",
              "      <td>79.67</td>\n",
              "      <td>16.0</td>\n",
              "      <td>0</td>\n",
              "    </tr>\n",
              "    <tr>\n",
              "      <th>1</th>\n",
              "      <td>85.0</td>\n",
              "      <td>100.0</td>\n",
              "      <td>37.39</td>\n",
              "      <td>121.0</td>\n",
              "      <td>79.67</td>\n",
              "      <td>16.0</td>\n",
              "      <td>0</td>\n",
              "    </tr>\n",
              "    <tr>\n",
              "      <th>2</th>\n",
              "      <td>72.0</td>\n",
              "      <td>100.0</td>\n",
              "      <td>37.39</td>\n",
              "      <td>110.0</td>\n",
              "      <td>72.67</td>\n",
              "      <td>16.0</td>\n",
              "      <td>0</td>\n",
              "    </tr>\n",
              "    <tr>\n",
              "      <th>3</th>\n",
              "      <td>74.0</td>\n",
              "      <td>100.0</td>\n",
              "      <td>37.39</td>\n",
              "      <td>109.0</td>\n",
              "      <td>75.00</td>\n",
              "      <td>16.0</td>\n",
              "      <td>0</td>\n",
              "    </tr>\n",
              "    <tr>\n",
              "      <th>4</th>\n",
              "      <td>75.0</td>\n",
              "      <td>100.0</td>\n",
              "      <td>37.39</td>\n",
              "      <td>104.0</td>\n",
              "      <td>70.00</td>\n",
              "      <td>16.0</td>\n",
              "      <td>0</td>\n",
              "    </tr>\n",
              "  </tbody>\n",
              "</table>\n",
              "</div>"
            ],
            "text/plain": [
              "     HR  O2Sat   Temp    SBP    MAP  Resp  SepsisLabel\n",
              "0  85.0  100.0  37.39  121.0  79.67  16.0            0\n",
              "1  85.0  100.0  37.39  121.0  79.67  16.0            0\n",
              "2  72.0  100.0  37.39  110.0  72.67  16.0            0\n",
              "3  74.0  100.0  37.39  109.0  75.00  16.0            0\n",
              "4  75.0  100.0  37.39  104.0  70.00  16.0            0"
            ]
          },
          "metadata": {
            "tags": []
          },
          "execution_count": 12
        }
      ]
    },
    {
      "cell_type": "markdown",
      "metadata": {
        "id": "0GNqQgG2dHM0"
      },
      "source": [
        "# Build A Preliminary XGBoost Model\n",
        "\n",
        "\n",
        " we simply split the data into **training** and **testing** data sets and build the model. However, first, let's observe that this data is imbalanced by dividing the number of people who left the company, where `y = 1`, by the total number of people in the dataset. \n"
      ]
    },
    {
      "cell_type": "code",
      "metadata": {
        "id": "_wYJf2ejccU2"
      },
      "source": [
        "y = df['SepsisLabel']\n",
        "df.drop(['SepsisLabel'], axis = 1, inplace = True)"
      ],
      "execution_count": 14,
      "outputs": []
    },
    {
      "cell_type": "code",
      "metadata": {
        "colab": {
          "base_uri": "https://localhost:8080/"
        },
        "id": "oBNMIaiwccbZ",
        "outputId": "cf26a951-04a5-4bd5-a01f-3869ef8eba84"
      },
      "source": [
        "sum(y)/len(y)"
      ],
      "execution_count": 15,
      "outputs": [
        {
          "output_type": "execute_result",
          "data": {
            "text/plain": [
              "0.01798600086592582"
            ]
          },
          "metadata": {
            "tags": []
          },
          "execution_count": 15
        }
      ]
    },
    {
      "cell_type": "markdown",
      "metadata": {
        "id": "PxrYlmLXlaCf"
      },
      "source": [
        "So we see that only **1,8%** of the people in the dataset left the company. Because of this, when we split the data into training and testing, we will split using stratification in order to maintain the same percentage of people who left the company in both the **training** set and the **testing** set."
      ]
    },
    {
      "cell_type": "code",
      "metadata": {
        "id": "XJdi7ndadLdA"
      },
      "source": [
        "X_train, X_test, y_train, y_test = train_test_split(df, y, random_state=42, stratify=y)"
      ],
      "execution_count": 16,
      "outputs": []
    },
    {
      "cell_type": "markdown",
      "metadata": {
        "id": "ZbTS8DKEllr0"
      },
      "source": [
        "Now let's verify that using `stratify` worked as expected..."
      ]
    },
    {
      "cell_type": "code",
      "metadata": {
        "colab": {
          "base_uri": "https://localhost:8080/"
        },
        "id": "2NXYDszLdLhQ",
        "outputId": "c44f00b9-af19-4986-f421-95ed8ba6b005"
      },
      "source": [
        "sum(y_train)/len(y_train)"
      ],
      "execution_count": 17,
      "outputs": [
        {
          "output_type": "execute_result",
          "data": {
            "text/plain": [
              "0.01798600086592582"
            ]
          },
          "metadata": {
            "tags": []
          },
          "execution_count": 17
        }
      ]
    },
    {
      "cell_type": "code",
      "metadata": {
        "id": "Y0KjDheLl75a"
      },
      "source": [
        "sum(y_test)/len(y_test)"
      ],
      "execution_count": null,
      "outputs": []
    },
    {
      "cell_type": "markdown",
      "metadata": {
        "id": "RJ5j1fHGlz0F"
      },
      "source": [
        "`stratify` worked as expected and both `y_train` and `y_test` have the same percentage of people that left the company. Now let's build the preliminary model.\n",
        "\n",
        "Instead of determining the optimal number of trees with cross validation, we will use **early stopping** to stop building trees when they no longer improve the situation."
      ]
    },
    {
      "cell_type": "code",
      "metadata": {
        "colab": {
          "base_uri": "https://localhost:8080/"
        },
        "id": "kPx3aIv5dLrc",
        "outputId": "8a81485e-73ac-40e2-a977-e2141ce16863"
      },
      "source": [
        "clf_xgb = xgb.XGBClassifier(objective='binary:logistic', \n",
        "                            eval_metric=\"logloss\", ## this avoids a warning...\n",
        "                            missing=None, seed=42, \n",
        "                            use_label_encoder=False)\n",
        "\n",
        "\n",
        "clf_xgb.fit(X_train, \n",
        "            y_train,\n",
        "            verbose=True,\n",
        "            ## the next three arguments set up early stopping.\n",
        "            early_stopping_rounds=10,\n",
        "            eval_metric='aucpr',\n",
        "            eval_set=[(X_test, y_test)])\n"
      ],
      "execution_count": 19,
      "outputs": [
        {
          "output_type": "stream",
          "text": [
            "[0]\tvalidation_0-aucpr:0.038469\n",
            "Will train until validation_0-aucpr hasn't improved in 10 rounds.\n",
            "[1]\tvalidation_0-aucpr:0.039098\n",
            "[2]\tvalidation_0-aucpr:0.039337\n",
            "[3]\tvalidation_0-aucpr:0.039835\n",
            "[4]\tvalidation_0-aucpr:0.040509\n",
            "[5]\tvalidation_0-aucpr:0.040395\n",
            "[6]\tvalidation_0-aucpr:0.040436\n",
            "[7]\tvalidation_0-aucpr:0.040386\n",
            "[8]\tvalidation_0-aucpr:0.040404\n",
            "[9]\tvalidation_0-aucpr:0.040393\n",
            "[10]\tvalidation_0-aucpr:0.040398\n",
            "[11]\tvalidation_0-aucpr:0.040394\n",
            "[12]\tvalidation_0-aucpr:0.040388\n",
            "[13]\tvalidation_0-aucpr:0.040529\n",
            "[14]\tvalidation_0-aucpr:0.040508\n",
            "[15]\tvalidation_0-aucpr:0.040747\n",
            "[16]\tvalidation_0-aucpr:0.040734\n",
            "[17]\tvalidation_0-aucpr:0.040867\n",
            "[18]\tvalidation_0-aucpr:0.040958\n",
            "[19]\tvalidation_0-aucpr:0.041084\n",
            "[20]\tvalidation_0-aucpr:0.041244\n",
            "[21]\tvalidation_0-aucpr:0.041348\n",
            "[22]\tvalidation_0-aucpr:0.041485\n",
            "[23]\tvalidation_0-aucpr:0.041863\n",
            "[24]\tvalidation_0-aucpr:0.041859\n",
            "[25]\tvalidation_0-aucpr:0.042028\n",
            "[26]\tvalidation_0-aucpr:0.042038\n",
            "[27]\tvalidation_0-aucpr:0.042207\n",
            "[28]\tvalidation_0-aucpr:0.042233\n",
            "[29]\tvalidation_0-aucpr:0.042279\n",
            "[30]\tvalidation_0-aucpr:0.0428\n",
            "[31]\tvalidation_0-aucpr:0.042876\n",
            "[32]\tvalidation_0-aucpr:0.042968\n",
            "[33]\tvalidation_0-aucpr:0.043035\n",
            "[34]\tvalidation_0-aucpr:0.042837\n",
            "[35]\tvalidation_0-aucpr:0.04285\n",
            "[36]\tvalidation_0-aucpr:0.042903\n",
            "[37]\tvalidation_0-aucpr:0.043021\n",
            "[38]\tvalidation_0-aucpr:0.043096\n",
            "[39]\tvalidation_0-aucpr:0.04307\n",
            "[40]\tvalidation_0-aucpr:0.043064\n",
            "[41]\tvalidation_0-aucpr:0.04326\n",
            "[42]\tvalidation_0-aucpr:0.043414\n",
            "[43]\tvalidation_0-aucpr:0.043585\n",
            "[44]\tvalidation_0-aucpr:0.043817\n",
            "[45]\tvalidation_0-aucpr:0.043947\n",
            "[46]\tvalidation_0-aucpr:0.044039\n",
            "[47]\tvalidation_0-aucpr:0.044234\n",
            "[48]\tvalidation_0-aucpr:0.044392\n",
            "[49]\tvalidation_0-aucpr:0.044555\n",
            "[50]\tvalidation_0-aucpr:0.044565\n",
            "[51]\tvalidation_0-aucpr:0.044616\n",
            "[52]\tvalidation_0-aucpr:0.044804\n",
            "[53]\tvalidation_0-aucpr:0.044795\n",
            "[54]\tvalidation_0-aucpr:0.044898\n",
            "[55]\tvalidation_0-aucpr:0.044954\n",
            "[56]\tvalidation_0-aucpr:0.045082\n",
            "[57]\tvalidation_0-aucpr:0.04516\n",
            "[58]\tvalidation_0-aucpr:0.045252\n",
            "[59]\tvalidation_0-aucpr:0.045208\n",
            "[60]\tvalidation_0-aucpr:0.045249\n",
            "[61]\tvalidation_0-aucpr:0.045382\n",
            "[62]\tvalidation_0-aucpr:0.045325\n",
            "[63]\tvalidation_0-aucpr:0.04536\n",
            "[64]\tvalidation_0-aucpr:0.045435\n",
            "[65]\tvalidation_0-aucpr:0.045501\n",
            "[66]\tvalidation_0-aucpr:0.045605\n",
            "[67]\tvalidation_0-aucpr:0.045677\n",
            "[68]\tvalidation_0-aucpr:0.045741\n",
            "[69]\tvalidation_0-aucpr:0.045777\n",
            "[70]\tvalidation_0-aucpr:0.045829\n",
            "[71]\tvalidation_0-aucpr:0.045849\n",
            "[72]\tvalidation_0-aucpr:0.045913\n",
            "[73]\tvalidation_0-aucpr:0.045933\n",
            "[74]\tvalidation_0-aucpr:0.046005\n",
            "[75]\tvalidation_0-aucpr:0.046074\n",
            "[76]\tvalidation_0-aucpr:0.046128\n",
            "[77]\tvalidation_0-aucpr:0.046137\n",
            "[78]\tvalidation_0-aucpr:0.046154\n",
            "[79]\tvalidation_0-aucpr:0.046211\n",
            "[80]\tvalidation_0-aucpr:0.046281\n",
            "[81]\tvalidation_0-aucpr:0.046354\n",
            "[82]\tvalidation_0-aucpr:0.046388\n",
            "[83]\tvalidation_0-aucpr:0.046406\n",
            "[84]\tvalidation_0-aucpr:0.046444\n",
            "[85]\tvalidation_0-aucpr:0.046507\n",
            "[86]\tvalidation_0-aucpr:0.046574\n",
            "[87]\tvalidation_0-aucpr:0.046609\n",
            "[88]\tvalidation_0-aucpr:0.046601\n",
            "[89]\tvalidation_0-aucpr:0.046774\n",
            "[90]\tvalidation_0-aucpr:0.046798\n",
            "[91]\tvalidation_0-aucpr:0.046831\n",
            "[92]\tvalidation_0-aucpr:0.046855\n",
            "[93]\tvalidation_0-aucpr:0.046852\n",
            "[94]\tvalidation_0-aucpr:0.046863\n",
            "[95]\tvalidation_0-aucpr:0.046864\n",
            "[96]\tvalidation_0-aucpr:0.046886\n",
            "[97]\tvalidation_0-aucpr:0.046947\n",
            "[98]\tvalidation_0-aucpr:0.046985\n",
            "[99]\tvalidation_0-aucpr:0.046993\n"
          ],
          "name": "stdout"
        },
        {
          "output_type": "execute_result",
          "data": {
            "text/plain": [
              "XGBClassifier(base_score=0.5, booster='gbtree', colsample_bylevel=1,\n",
              "              colsample_bynode=1, colsample_bytree=1, eval_metric='logloss',\n",
              "              gamma=0, learning_rate=0.1, max_delta_step=0, max_depth=3,\n",
              "              min_child_weight=1, missing=None, n_estimators=100, n_jobs=1,\n",
              "              nthread=None, objective='binary:logistic', random_state=0,\n",
              "              reg_alpha=0, reg_lambda=1, scale_pos_weight=1, seed=42,\n",
              "              silent=None, subsample=1, use_label_encoder=False, verbosity=1)"
            ]
          },
          "metadata": {
            "tags": []
          },
          "execution_count": 19
        }
      ]
    },
    {
      "cell_type": "markdown",
      "metadata": {
        "id": "cy4Vc8vUmP1r"
      },
      "source": [
        "We see how it performs on the **Testing Dataset** by running the **Testing Dataset** down the model and drawing a **Confusion Matrix**."
      ]
    },
    {
      "cell_type": "code",
      "metadata": {
        "colab": {
          "base_uri": "https://localhost:8080/",
          "height": 297
        },
        "id": "-i3n8iLAdLy7",
        "outputId": "94c7d9ba-f631-4844-e207-75b2a0239757"
      },
      "source": [
        "plot_confusion_matrix(clf_xgb, \n",
        "                      X_test, \n",
        "                      y_test,\n",
        "                      values_format='d',\n",
        "                      display_labels=[\"Did not leave\", \"Left\"])"
      ],
      "execution_count": 20,
      "outputs": [
        {
          "output_type": "execute_result",
          "data": {
            "text/plain": [
              "<sklearn.metrics._plot.confusion_matrix.ConfusionMatrixDisplay at 0x7f99bd407f90>"
            ]
          },
          "metadata": {
            "tags": []
          },
          "execution_count": 20
        },
        {
          "output_type": "display_data",
          "data": {
            "image/png": "[encoded data removed]",
            "text/plain": [
              "<Figure size 432x288 with 2 Axes>"
            ]
          },
          "metadata": {
            "tags": [],
            "needs_background": "light"
          }
        }
      ]
    },
    {
      "cell_type": "markdown",
      "metadata": {
        "id": "B1l2DPDmmadT"
      },
      "source": [
        "By labeling everything non-sepsis the model get **98%** accurecy..."
      ]
    },
    {
      "cell_type": "markdown",
      "metadata": {
        "id": "KkLNdWdymqM7"
      },
      "source": [
        "# Optimize Parameters using Cross Validation and GridSearch()\n",
        "\n",
        "**XGBoost** has a lot of *hyperparameters*, parameters that we have to manually configure and are not determined by **XGBoost** itself, including `max_depth`, the maximum tree depth, `learning_rate`, the learning rate, or \"eta\", `gamma`, the parameter that encourages pruning, and `reg_lambda`, the regularization parameter lambda. So let's try to find the optimal values for these hyperparameters in hopes that we can improve the accuracy with the **Testing Dataset**.\n",
        "\n",
        "**NOTE:** Since we have many hyperparameters to optimize, we will use `GridSearchCV()`. We specify a bunch of potential values for the hyperparameters and `GridSearchCV()` tests all possible combinations of the parameters for us."
      ]
    },
    {
      "cell_type": "code",
      "metadata": {
        "id": "_4mQhA-0ddf5",
        "colab": {
          "base_uri": "https://localhost:8080/"
        },
        "outputId": "d6c095cf-82f8-4038-dcec-0195dd447d05"
      },
      "source": [
        " ## NOTE: When data are imbalanced, the XGBoost manual says...\n",
        " ## If you care only about the overall performance metric (AUC) of your prediction\n",
        " ##     * Balance the positive and negative weights via scale_pos_weight\n",
        " ##     * Use AUC for evaluation\n",
        " ## ALSO NOTE: We ran GridSearchCV sequentially on subsets of parameter options, rather than all at once\n",
        " ## in order to optimize parameters in a short period of time.\n",
        "\n",
        " # ROUND 1\n",
        " #param_grid = {\n",
        " #    'max_depth': [5,6,7]\n",
        " #    'learning_rate': [0.1,0.5,1],\n",
        " #   ' gamma': [0, 0.25,0.75],\n",
        " #    'reg_lambda': [10,20,100],\n",
        " #    'scale_pos_weight': [55,60,65] # NOTE: XGBoost recommends sum(negative instances) / sum(positive instances)\n",
        " # }\n",
        " \n",
        "\n",
        "# # Output: max_depth: 7, learning_rate: 0.1, gamma: 0, reg_lambda: 100, scale_pos_weight: 60\n",
        "# # Because max_depth and reg_lambda were at the ends of their range, we will continue to explore those...\n",
        "\n",
        " ## ROUND 2\n",
        " param_grid = {\n",
        "     'max_depth': [7,8,9],\n",
        "     'learning_rate': [0.1],\n",
        "     'gamma': [0],\n",
        "     'reg_lambda': [100, 150, 200],\n",
        "      'scale_pos_weight': [60]\n",
        "  }\n",
        "## Output: max_depth: 8, learning_rate: 0.1, reg_lambda: 100.\n",
        "\n",
        "# NOTE: To speed up cross validiation, and to further prevent overfitting.\n",
        "# We are only using a random subset of the data (90%) and are only\n",
        "# using a random subset of the features (columns) (50%) per tree.\n",
        " optimal_params = GridSearchCV(\n",
        "     estimator=xgb.XGBClassifier(objective='binary:logistic', \n",
        "                                 eval_metric=\"logloss\", ## this avoids a warning...\n",
        "                                 seed=42,\n",
        "                                 subsample=0.9,\n",
        "                                 colsample_bytree=0.5,\n",
        "                                 use_label_encoder=False),\n",
        "     param_grid=param_grid,\n",
        "     scoring='roc_auc', \n",
        "     verbose=0, # If you want to see what Grid Search is doing, set verbose=2\n",
        "     n_jobs = 10,\n",
        "     cv = 3\n",
        " )\n",
        "\n",
        " optimal_params.fit(X_train, \n",
        "                    y_train, \n",
        "                    early_stopping_rounds=10,                \n",
        "                    eval_metric='auc',\n",
        "                    eval_set=[(X_test, y_test)],\n",
        "                    verbose=False)\n",
        " print(optimal_params.best_params_)"
      ],
      "execution_count": 32,
      "outputs": [
        {
          "output_type": "stream",
          "text": [
            "/usr/local/lib/python3.7/dist-packages/joblib/externals/loky/process_executor.py:691: UserWarning: A worker stopped while some jobs were given to the executor. This can be caused by a too short worker timeout or by a memory leak.\n",
            "  \"timeout or by a memory leak.\", UserWarning\n"
          ],
          "name": "stderr"
        },
        {
          "output_type": "stream",
          "text": [
            "{' gamma': 0, 'learning_rate': 0.1, 'max_depth': 8, 'reg_lambda': 100, 'scale_pos_weight': 60}\n"
          ],
          "name": "stdout"
        }
      ]
    },
    {
      "cell_type": "markdown",
      "metadata": {
        "id": "h9bV1cQZpBMQ"
      },
      "source": [
        "So, after testing all possible combinations of the potential parameter values with **Cross Validation**, we see that we should set `gamma=0`, `learn_rate=0.1`, `max_depth=8`,  `scale_pos_weight=60`, and `reg_lambda=10`."
      ]
    },
    {
      "cell_type": "markdown",
      "metadata": {
        "id": "X45CIvOLpZmZ"
      },
      "source": [
        "----"
      ]
    },
    {
      "cell_type": "markdown",
      "metadata": {
        "id": "zC6gCZsEpZp-"
      },
      "source": [
        "# Building, Evaluating, Drawing, and Interpreting the Optimized XGBoost Model\n",
        "\n",
        "Now that we have the ideal parameter values, we can build the final **XGBoost** model:"
      ]
    },
    {
      "cell_type": "code",
      "metadata": {
        "id": "FhDHPfZCddm1",
        "colab": {
          "base_uri": "https://localhost:8080/"
        },
        "outputId": "361dc8bc-c05e-47eb-cf89-f1174a54a35a"
      },
      "source": [
        "clf_xgb = xgb.XGBClassifier(seed=42,\n",
        "                        objective='binary:logistic',\n",
        "                        eval_metric=\"logloss\", ## this avoids warning...\n",
        "                        gamma=0,\n",
        "                        learning_rate=0.1,\n",
        "                        max_depth=8,\n",
        "                        reg_lambda=100,\n",
        "                        scale_pos_weight=60,\n",
        "                        subsample=0.9,\n",
        "                        colsample_bytree=0.5,\n",
        "                        use_label_encoder=False)\n",
        "clf_xgb.fit(X_train, \n",
        "            y_train, \n",
        "            verbose=True, \n",
        "            early_stopping_rounds=10,\n",
        "            eval_metric='auc',\n",
        "            eval_set=[(X_test, y_test)])"
      ],
      "execution_count": 28,
      "outputs": [
        {
          "output_type": "stream",
          "text": [
            "[0]\tvalidation_0-auc:0.63277\n",
            "Will train until validation_0-auc hasn't improved in 10 rounds.\n",
            "[1]\tvalidation_0-auc:0.635263\n",
            "[2]\tvalidation_0-auc:0.645493\n",
            "[3]\tvalidation_0-auc:0.650582\n",
            "[4]\tvalidation_0-auc:0.651461\n",
            "[5]\tvalidation_0-auc:0.652507\n",
            "[6]\tvalidation_0-auc:0.652644\n",
            "[7]\tvalidation_0-auc:0.652917\n",
            "[8]\tvalidation_0-auc:0.652936\n",
            "[9]\tvalidation_0-auc:0.670466\n",
            "[10]\tvalidation_0-auc:0.670955\n",
            "[11]\tvalidation_0-auc:0.68233\n",
            "[12]\tvalidation_0-auc:0.689377\n",
            "[13]\tvalidation_0-auc:0.694013\n",
            "[14]\tvalidation_0-auc:0.693645\n",
            "[15]\tvalidation_0-auc:0.693736\n",
            "[16]\tvalidation_0-auc:0.69349\n",
            "[17]\tvalidation_0-auc:0.696655\n",
            "[18]\tvalidation_0-auc:0.696235\n",
            "[19]\tvalidation_0-auc:0.696003\n",
            "[20]\tvalidation_0-auc:0.695751\n",
            "[21]\tvalidation_0-auc:0.696448\n",
            "[22]\tvalidation_0-auc:0.698386\n",
            "[23]\tvalidation_0-auc:0.698299\n",
            "[24]\tvalidation_0-auc:0.698591\n",
            "[25]\tvalidation_0-auc:0.700905\n",
            "[26]\tvalidation_0-auc:0.701131\n",
            "[27]\tvalidation_0-auc:0.70163\n",
            "[28]\tvalidation_0-auc:0.701929\n",
            "[29]\tvalidation_0-auc:0.703497\n",
            "[30]\tvalidation_0-auc:0.703654\n",
            "[31]\tvalidation_0-auc:0.703519\n",
            "[32]\tvalidation_0-auc:0.703394\n",
            "[33]\tvalidation_0-auc:0.704898\n",
            "[34]\tvalidation_0-auc:0.706015\n",
            "[35]\tvalidation_0-auc:0.705978\n",
            "[36]\tvalidation_0-auc:0.706925\n",
            "[37]\tvalidation_0-auc:0.707743\n",
            "[38]\tvalidation_0-auc:0.708279\n",
            "[39]\tvalidation_0-auc:0.708741\n",
            "[40]\tvalidation_0-auc:0.708833\n",
            "[41]\tvalidation_0-auc:0.70871\n",
            "[42]\tvalidation_0-auc:0.709286\n",
            "[43]\tvalidation_0-auc:0.70932\n",
            "[44]\tvalidation_0-auc:0.709602\n",
            "[45]\tvalidation_0-auc:0.709737\n",
            "[46]\tvalidation_0-auc:0.710242\n",
            "[47]\tvalidation_0-auc:0.710334\n",
            "[48]\tvalidation_0-auc:0.710587\n",
            "[49]\tvalidation_0-auc:0.711177\n",
            "[50]\tvalidation_0-auc:0.711481\n",
            "[51]\tvalidation_0-auc:0.711702\n",
            "[52]\tvalidation_0-auc:0.712196\n",
            "[53]\tvalidation_0-auc:0.712285\n",
            "[54]\tvalidation_0-auc:0.712218\n",
            "[55]\tvalidation_0-auc:0.712261\n",
            "[56]\tvalidation_0-auc:0.712366\n",
            "[57]\tvalidation_0-auc:0.712299\n",
            "[58]\tvalidation_0-auc:0.712894\n",
            "[59]\tvalidation_0-auc:0.712862\n",
            "[60]\tvalidation_0-auc:0.712973\n",
            "[61]\tvalidation_0-auc:0.713197\n",
            "[62]\tvalidation_0-auc:0.713166\n",
            "[63]\tvalidation_0-auc:0.713153\n",
            "[64]\tvalidation_0-auc:0.713604\n",
            "[65]\tvalidation_0-auc:0.713997\n",
            "[66]\tvalidation_0-auc:0.714038\n",
            "[67]\tvalidation_0-auc:0.714022\n",
            "[68]\tvalidation_0-auc:0.714006\n",
            "[69]\tvalidation_0-auc:0.714202\n",
            "[70]\tvalidation_0-auc:0.714186\n",
            "[71]\tvalidation_0-auc:0.714626\n",
            "[72]\tvalidation_0-auc:0.714626\n",
            "[73]\tvalidation_0-auc:0.71487\n",
            "[74]\tvalidation_0-auc:0.715052\n",
            "[75]\tvalidation_0-auc:0.715374\n",
            "[76]\tvalidation_0-auc:0.715708\n",
            "[77]\tvalidation_0-auc:0.715796\n",
            "[78]\tvalidation_0-auc:0.715838\n",
            "[79]\tvalidation_0-auc:0.71591\n",
            "[80]\tvalidation_0-auc:0.716243\n",
            "[81]\tvalidation_0-auc:0.716393\n",
            "[82]\tvalidation_0-auc:0.716669\n",
            "[83]\tvalidation_0-auc:0.716763\n",
            "[84]\tvalidation_0-auc:0.71707\n",
            "[85]\tvalidation_0-auc:0.716986\n",
            "[86]\tvalidation_0-auc:0.717266\n",
            "[87]\tvalidation_0-auc:0.71725\n",
            "[88]\tvalidation_0-auc:0.717333\n",
            "[89]\tvalidation_0-auc:0.717438\n",
            "[90]\tvalidation_0-auc:0.717512\n",
            "[91]\tvalidation_0-auc:0.7176\n",
            "[92]\tvalidation_0-auc:0.71768\n",
            "[93]\tvalidation_0-auc:0.717752\n",
            "[94]\tvalidation_0-auc:0.717852\n",
            "[95]\tvalidation_0-auc:0.718\n",
            "[96]\tvalidation_0-auc:0.717929\n",
            "[97]\tvalidation_0-auc:0.717955\n",
            "[98]\tvalidation_0-auc:0.718099\n",
            "[99]\tvalidation_0-auc:0.718152\n"
          ],
          "name": "stdout"
        },
        {
          "output_type": "execute_result",
          "data": {
            "text/plain": [
              "XGBClassifier(base_score=0.5, booster='gbtree', colsample_bylevel=1,\n",
              "              colsample_bynode=1, colsample_bytree=0.5, eval_metric='logloss',\n",
              "              gamma=0, learning_rate=0.1, max_delta_step=0, max_depth=8,\n",
              "              min_child_weight=1, missing=None, n_estimators=100, n_jobs=1,\n",
              "              nthread=None, objective='binary:logistic', random_state=0,\n",
              "              reg_alpha=0, reg_lambda=100, scale_pos_weight=60, seed=42,\n",
              "              silent=None, subsample=0.9, use_label_encoder=False, verbosity=1)"
            ]
          },
          "metadata": {
            "tags": []
          },
          "execution_count": 28
        }
      ]
    },
    {
      "cell_type": "markdown",
      "metadata": {
        "id": "WJjyoSG5pqEW"
      },
      "source": [
        "Now let's draw another confusion matrix to see if the optimized **XGBoost** model does better."
      ]
    },
    {
      "cell_type": "code",
      "metadata": {
        "id": "V56XiUmgddpB",
        "colab": {
          "base_uri": "https://localhost:8080/",
          "height": 297
        },
        "outputId": "abbc7118-e9d3-404f-a57f-27049cf0e50f"
      },
      "source": [
        "plot_confusion_matrix(clf_xgb, \n",
        "                      X_test, \n",
        "                      y_test,\n",
        "                      values_format='d',\n",
        "                      display_labels=[\"Won't have Sepsis\", \"Will have\"])"
      ],
      "execution_count": 33,
      "outputs": [
        {
          "output_type": "execute_result",
          "data": {
            "text/plain": [
              "<sklearn.metrics._plot.confusion_matrix.ConfusionMatrixDisplay at 0x7f99bce25ed0>"
            ]
          },
          "metadata": {
            "tags": []
          },
          "execution_count": 33
        },
        {
          "output_type": "display_data",
          "data": {
            "image/png": "[encoded data removed]",
            "text/plain": [
              "<Figure size 432x288 with 2 Axes>"
            ]
          },
          "metadata": {
            "tags": [],
            "needs_background": "light"
          }
        }
      ]
    },
    {
      "cell_type": "markdown",
      "metadata": {
        "id": "VRSV3coVpveR"
      },
      "source": [
        "We see that the optimized **XGBoost** model is better at identifying sepsis. Of the patient that developted sepsis, about **2/3**, were correctly identified. Before optimization, we correctly identified **0 (0%)**. However, this improvement was at the expense of not being able to correctly classify as many  non-septic patients. Before optimization, we correctly identified **all** non-septic patients. Now we only correctly classify about **2/3**. That said, this trade off is better since it is more sensible for sepsis patient. "
      ]
    },
    {
      "cell_type": "markdown",
      "metadata": {
        "id": "BOWOk7WyvWor"
      },
      "source": [
        "# Save Model as Pickle Object\n",
        "\n",
        "We will save the model so we can inegrat it into the sepsis detection web app."
      ]
    },
    {
      "cell_type": "code",
      "metadata": {
        "id": "whAiJdwbddya"
      },
      "source": [
        "import pickle"
      ],
      "execution_count": null,
      "outputs": []
    },
    {
      "cell_type": "code",
      "metadata": {
        "id": "i9w1Lrkcdd17"
      },
      "source": [
        "pickle.dump(clf_xgb, open('xgb_clf_model.pkl', 'wb'))"
      ],
      "execution_count": null,
      "outputs": []
    },
    {
      "cell_type": "markdown",
      "metadata": {
        "id": "M7ldt3y0rJEW"
      },
      "source": [
        "# Drawing XGBoost Tree\n",
        "\n",
        "The last thing we are going to do is draw the first **XGBoost Tree** and discuss how to interpret it, and save it to pdf"
      ]
    },
    {
      "cell_type": "code",
      "metadata": {
        "id": "KAOuJ3JVddr9",
        "colab": {
          "base_uri": "https://localhost:8080/",
          "height": 885
        },
        "outputId": "977587d3-666f-4cb3-8ebb-d05c21aff9ab"
      },
      "source": [
        "## If we want to get information, like gain and cover etc, at each node in the first tree, \n",
        "## we just build the first tree, otherwise we'll get the average over all of the trees.\n",
        "clf_xgb = xgb.XGBClassifier(seed=42,\n",
        "                        eval_metric=\"logloss\", ## this avoids another warning...\n",
        "                        objective='binary:logistic',\n",
        "                        gamma=0,\n",
        "                        learning_rate=0.1,\n",
        "                        max_depth=6,\n",
        "                        reg_lambda=10,\n",
        "                        scale_pos_weight=60,\n",
        "                        subsample=0.9,\n",
        "                        colsample_bytree=0.5,\n",
        "                        n_estimators=1, ## We set this to 1 so we can get gain, cover etc.)\n",
        "                        use_label_encoder=False) \n",
        "\n",
        "clf_xgb.fit(X_train, y_train)\n",
        "\n",
        "## now print out the weight, gain, cover etc. for the tree\n",
        "## weight = number of times a feature is used in a branch or root across all trees\n",
        "## gain = the average gain across all splits that the feature is used in\n",
        "## cover = the average coverage across all splits a feature is used in\n",
        "## total_gain = the total gain across all splits the feature is used in\n",
        "## total_cover = the total coverage across all splits the feature is used in\n",
        "## NOTE: Since we only built one tree, gain = total_gain and cover=total_cover\n",
        "bst = clf_xgb.get_booster()\n",
        "for importance_type in ('weight', 'gain', 'cover', 'total_gain', 'total_cover'):\n",
        "    print('%s: ' % importance_type, bst.get_score(importance_type=importance_type))\n",
        "\n",
        "node_params = {'shape': 'box', ## make the nodes fancy\n",
        "               'style': 'filled, rounded',\n",
        "               'fillcolor': '#78cbe'} \n",
        "leaf_params = {'shape': 'box',\n",
        "               'style': 'filled',\n",
        "               'fillcolor': '#e48038'}\n",
        "## NOTE: num_trees is NOT the number of trees to plot, but the specific tree you want to plot\n",
        "## The default value is 0, but I'm setting it just to show it in action since it is\n",
        "## counter-intuitive.\n",
        "# xgb.to_graphviz(clf_xgb, num_trees=0, size=\"10,10\") \n",
        "\n",
        "xgb.to_graphviz(clf_xgb, num_trees=0, \n",
        "                condition_node_params=node_params,\n",
        "                leaf_node_params=leaf_params) \n",
        "## if you want to save the figure...\n",
        "# graph_data = xgb.to_graphviz(clf_xgb, num_trees=0, size=\"10,10\", \n",
        "#                 condition_node_params=node_params,\n",
        "#                 leaf_node_params=leaf_params) \n",
        "# graph_data.view(filename='xgboost_tree_customer_churn') ## save as PDF"
      ],
      "execution_count": 34,
      "outputs": [
        {
          "output_type": "stream",
          "text": [
            "weight:  {'HR': 25, 'Resp': 19, 'O2Sat': 17}\n",
            "gain:  {'HR': 2722.8444263319993, 'Resp': 2403.9058481052634, 'O2Sat': 665.0437755764705}\n",
            "cover:  {'HR': 49814.29, 'Resp': 66938.6447368421, 'O2Sat': 42674.92647058824}\n",
            "total_gain:  {'HR': 68071.11065829998, 'Resp': 45674.211114000005, 'O2Sat': 11305.744184799998}\n",
            "total_cover:  {'HR': 1245357.25, 'Resp': 1271834.25, 'O2Sat': 725473.75}\n"
          ],
          "name": "stdout"
        },
        {
          "output_type": "execute_result",
          "data": {
            "text/plain": [
              "<graphviz.dot.Digraph at 0x7f99bcb3f210>"
            ],
            "image/svg+xml": "<?xml version=\"1.0\" encoding=\"UTF-8\" standalone=\"no\"?>\n<!DOCTYPE svg PUBLIC \"-//W3C//DTD SVG 1.1//EN\"\n \"http://www.w3.org/Graphics/SVG/1.1/DTD/svg11.dtd\">\n<!-- Generated by graphviz version 2.40.1 (20161225.0304)\n -->\n<!-- Title: %3 Pages: 1 -->\n<svg width=\"8926pt\" height=\"566pt\"\n viewBox=\"0.00 0.00 8926.00 566.00\" xmlns=\"http://www.w3.org/2000/svg\" xmlns:xlink=\"http://www.w3.org/1999/xlink\">\n<g id=\"graph0\" class=\"graph\" transform=\"scale(1 1) rotate(0) translate(4 562)\">\n<title>%3</title>\n<polygon fill=\"#ffffff\" stroke=\"transparent\" points=\"-4,4 -4,-562 8922,-562 8922,4 -4,4\"/>\n<!-- 0 -->\n<g id=\"node1\" class=\"node\">\n<title>0</title>\n<path fill=\"#78cb0e\" stroke=\"#000000\" d=\"M4220.5,-558C4220.5,-558 4165.5,-558 4165.5,-558 4159.5,-558 4153.5,-552 4153.5,-546 4153.5,-546 4153.5,-534 4153.5,-534 4153.5,-528 4159.5,-522 4165.5,-522 4165.5,-522 4220.5,-522 4220.5,-522 4226.5,-522 4232.5,-528 4232.5,-534 4232.5,-534 4232.5,-546 4232.5,-546 4232.5,-552 4226.5,-558 4220.5,-558\"/>\n<text text-anchor=\"middle\" x=\"4193\" y=\"-536.3\" font-family=\"Times,serif\" font-size=\"14.00\" fill=\"#000000\">HR&lt;91.25</text>\n</g>\n<!-- 1 -->\n<g id=\"node2\" class=\"node\">\n<title>1</title>\n<path fill=\"#78cb0e\" stroke=\"#000000\" d=\"M3561.5,-471C3561.5,-471 3490.5,-471 3490.5,-471 3484.5,-471 3478.5,-465 3478.5,-459 3478.5,-459 3478.5,-447 3478.5,-447 3478.5,-441 3484.5,-435 3490.5,-435 3490.5,-435 3561.5,-435 3561.5,-435 3567.5,-435 3573.5,-441 3573.5,-447 3573.5,-447 3573.5,-459 3573.5,-459 3573.5,-465 3567.5,-471 3561.5,-471\"/>\n<text text-anchor=\"middle\" x=\"3526\" y=\"-449.3\" font-family=\"Times,serif\" font-size=\"14.00\" fill=\"#000000\">Resp&lt;22.125</text>\n</g>\n<!-- 0&#45;&gt;1 -->\n<g id=\"edge1\" class=\"edge\">\n<title>0&#45;&gt;1</title>\n<path fill=\"none\" stroke=\"#0000ff\" d=\"M4153.2736,-534.8183C4040.2501,-520.0761 3716.5271,-477.8514 3583.8155,-460.5411\"/>\n<polygon fill=\"#0000ff\" stroke=\"#0000ff\" points=\"3584.208,-457.0628 3573.8393,-459.2399 3583.3025,-464.004 3584.208,-457.0628\"/>\n<text text-anchor=\"middle\" x=\"3935.5\" y=\"-492.8\" font-family=\"Times,serif\" font-size=\"14.00\" fill=\"#000000\">yes, missing</text>\n</g>\n<!-- 2 -->\n<g id=\"node3\" class=\"node\">\n<title>2</title>\n<path fill=\"#78cb0e\" stroke=\"#000000\" d=\"M5728.5,-471C5728.5,-471 5657.5,-471 5657.5,-471 5651.5,-471 5645.5,-465 5645.5,-459 5645.5,-459 5645.5,-447 5645.5,-447 5645.5,-441 5651.5,-435 5657.5,-435 5657.5,-435 5728.5,-435 5728.5,-435 5734.5,-435 5740.5,-441 5740.5,-447 5740.5,-447 5740.5,-459 5740.5,-459 5740.5,-465 5734.5,-471 5728.5,-471\"/>\n<text text-anchor=\"middle\" x=\"5693\" y=\"-449.3\" font-family=\"Times,serif\" font-size=\"14.00\" fill=\"#000000\">Resp&lt;22.125</text>\n</g>\n<!-- 0&#45;&gt;2 -->\n<g id=\"edge2\" class=\"edge\">\n<title>0&#45;&gt;2</title>\n<path fill=\"none\" stroke=\"#ff0000\" d=\"M4232.735,-537.6954C4439.298,-525.7147 5390.3314,-470.5548 5635.3124,-456.3459\"/>\n<polygon fill=\"#ff0000\" stroke=\"#ff0000\" points=\"5635.6469,-459.8325 5645.4275,-455.7592 5635.2416,-452.8442 5635.6469,-459.8325\"/>\n<text text-anchor=\"middle\" x=\"5041\" y=\"-492.8\" font-family=\"Times,serif\" font-size=\"14.00\" fill=\"#000000\">no</text>\n</g>\n<!-- 3 -->\n<g id=\"node4\" class=\"node\">\n<title>3</title>\n<path fill=\"#78cb0e\" stroke=\"#000000\" d=\"M1855,-384C1855,-384 1793,-384 1793,-384 1787,-384 1781,-378 1781,-372 1781,-372 1781,-360 1781,-360 1781,-354 1787,-348 1793,-348 1793,-348 1855,-348 1855,-348 1861,-348 1867,-354 1867,-360 1867,-360 1867,-372 1867,-372 1867,-378 1861,-384 1855,-384\"/>\n<text text-anchor=\"middle\" x=\"1824\" y=\"-362.3\" font-family=\"Times,serif\" font-size=\"14.00\" fill=\"#000000\">HR&lt;67.875</text>\n</g>\n<!-- 1&#45;&gt;3 -->\n<g id=\"edge3\" class=\"edge\">\n<title>1&#45;&gt;3</title>\n<path fill=\"none\" stroke=\"#0000ff\" d=\"M3478.2542,-450.5594C3234.7978,-438.1148 2133.1817,-381.8042 1877.2368,-368.7213\"/>\n<polygon fill=\"#0000ff\" stroke=\"#0000ff\" points=\"1877.2512,-365.2175 1867.0855,-368.2024 1876.8938,-372.2084 1877.2512,-365.2175\"/>\n<text text-anchor=\"middle\" x=\"2812.5\" y=\"-405.8\" font-family=\"Times,serif\" font-size=\"14.00\" fill=\"#000000\">yes, missing</text>\n</g>\n<!-- 4 -->\n<g id=\"node5\" class=\"node\">\n<title>4</title>\n<path fill=\"#78cb0e\" stroke=\"#000000\" d=\"M3561.5,-384C3561.5,-384 3490.5,-384 3490.5,-384 3484.5,-384 3478.5,-378 3478.5,-372 3478.5,-372 3478.5,-360 3478.5,-360 3478.5,-354 3484.5,-348 3490.5,-348 3490.5,-348 3561.5,-348 3561.5,-348 3567.5,-348 3573.5,-354 3573.5,-360 3573.5,-360 3573.5,-372 3573.5,-372 3573.5,-378 3567.5,-384 3561.5,-384\"/>\n<text text-anchor=\"middle\" x=\"3526\" y=\"-362.3\" font-family=\"Times,serif\" font-size=\"14.00\" fill=\"#000000\">Resp&lt;27.375</text>\n</g>\n<!-- 1&#45;&gt;4 -->\n<g id=\"edge4\" class=\"edge\">\n<title>1&#45;&gt;4</title>\n<path fill=\"none\" stroke=\"#ff0000\" d=\"M3526,-434.9735C3526,-423.1918 3526,-407.5607 3526,-394.1581\"/>\n<polygon fill=\"#ff0000\" stroke=\"#ff0000\" points=\"3529.5001,-394.0033 3526,-384.0034 3522.5001,-394.0034 3529.5001,-394.0033\"/>\n<text text-anchor=\"middle\" x=\"3534\" y=\"-405.8\" font-family=\"Times,serif\" font-size=\"14.00\" fill=\"#000000\">no</text>\n</g>\n<!-- 5 -->\n<g id=\"node64\" class=\"node\">\n<title>5</title>\n<path fill=\"#78cb0e\" stroke=\"#000000\" d=\"M5724,-384C5724,-384 5662,-384 5662,-384 5656,-384 5650,-378 5650,-372 5650,-372 5650,-360 5650,-360 5650,-354 5656,-348 5662,-348 5662,-348 5724,-348 5724,-348 5730,-348 5736,-354 5736,-360 5736,-360 5736,-372 5736,-372 5736,-378 5730,-384 5724,-384\"/>\n<text text-anchor=\"middle\" x=\"5693\" y=\"-362.3\" font-family=\"Times,serif\" font-size=\"14.00\" fill=\"#000000\">HR&lt;106.75</text>\n</g>\n<!-- 2&#45;&gt;5 -->\n<g id=\"edge63\" class=\"edge\">\n<title>2&#45;&gt;5</title>\n<path fill=\"none\" stroke=\"#0000ff\" d=\"M5693,-434.9735C5693,-423.1918 5693,-407.5607 5693,-394.1581\"/>\n<polygon fill=\"#0000ff\" stroke=\"#0000ff\" points=\"5696.5001,-394.0033 5693,-384.0034 5689.5001,-394.0034 5696.5001,-394.0033\"/>\n<text text-anchor=\"middle\" x=\"5728.5\" y=\"-405.8\" font-family=\"Times,serif\" font-size=\"14.00\" fill=\"#000000\">yes, missing</text>\n</g>\n<!-- 6 -->\n<g id=\"node65\" class=\"node\">\n<title>6</title>\n<path fill=\"#78cb0e\" stroke=\"#000000\" d=\"M7344.5,-384C7344.5,-384 7273.5,-384 7273.5,-384 7267.5,-384 7261.5,-378 7261.5,-372 7261.5,-372 7261.5,-360 7261.5,-360 7261.5,-354 7267.5,-348 7273.5,-348 7273.5,-348 7344.5,-348 7344.5,-348 7350.5,-348 7356.5,-354 7356.5,-360 7356.5,-360 7356.5,-372 7356.5,-372 7356.5,-378 7350.5,-384 7344.5,-384\"/>\n<text text-anchor=\"middle\" x=\"7309\" y=\"-362.3\" font-family=\"Times,serif\" font-size=\"14.00\" fill=\"#000000\">Resp&lt;25.125</text>\n</g>\n<!-- 2&#45;&gt;6 -->\n<g id=\"edge64\" class=\"edge\">\n<title>2&#45;&gt;6</title>\n<path fill=\"none\" stroke=\"#ff0000\" d=\"M5740.9252,-450.4199C5974.8475,-437.8263 6995.7592,-382.8638 7250.9988,-369.1226\"/>\n<polygon fill=\"#ff0000\" stroke=\"#ff0000\" points=\"7251.3699,-372.6078 7261.1672,-368.5752 7250.9935,-365.6179 7251.3699,-372.6078\"/>\n<text text-anchor=\"middle\" x=\"6606\" y=\"-405.8\" font-family=\"Times,serif\" font-size=\"14.00\" fill=\"#000000\">no</text>\n</g>\n<!-- 7 -->\n<g id=\"node6\" class=\"node\">\n<title>7</title>\n<path fill=\"#78cb0e\" stroke=\"#000000\" d=\"M945,-297C945,-297 837,-297 837,-297 831,-297 825,-291 825,-285 825,-285 825,-273 825,-273 825,-267 831,-261 837,-261 837,-261 945,-261 945,-261 951,-261 957,-267 957,-273 957,-273 957,-285 957,-285 957,-291 951,-297 945,-297\"/>\n<text text-anchor=\"middle\" x=\"891\" y=\"-275.3\" font-family=\"Times,serif\" font-size=\"14.00\" fill=\"#000000\">O2Sat&lt;99.3499985</text>\n</g>\n<!-- 3&#45;&gt;7 -->\n<g id=\"edge5\" class=\"edge\">\n<title>3&#45;&gt;7</title>\n<path fill=\"none\" stroke=\"#0000ff\" d=\"M1780.8707,-361.9783C1634.3883,-348.3192 1154.6798,-303.5875 967.1251,-286.0985\"/>\n<polygon fill=\"#0000ff\" stroke=\"#0000ff\" points=\"967.3552,-282.6048 957.0734,-285.1612 966.7052,-289.5746 967.3552,-282.6048\"/>\n<text text-anchor=\"middle\" x=\"1449.5\" y=\"-318.8\" font-family=\"Times,serif\" font-size=\"14.00\" fill=\"#000000\">yes, missing</text>\n</g>\n<!-- 8 -->\n<g id=\"node7\" class=\"node\">\n<title>8</title>\n<path fill=\"#78cb0e\" stroke=\"#000000\" d=\"M1855.5,-297C1855.5,-297 1792.5,-297 1792.5,-297 1786.5,-297 1780.5,-291 1780.5,-285 1780.5,-285 1780.5,-273 1780.5,-273 1780.5,-267 1786.5,-261 1792.5,-261 1792.5,-261 1855.5,-261 1855.5,-261 1861.5,-261 1867.5,-267 1867.5,-273 1867.5,-273 1867.5,-285 1867.5,-285 1867.5,-291 1861.5,-297 1855.5,-297\"/>\n<text text-anchor=\"middle\" x=\"1824\" y=\"-275.3\" font-family=\"Times,serif\" font-size=\"14.00\" fill=\"#000000\">Resp&lt;5.125</text>\n</g>\n<!-- 3&#45;&gt;8 -->\n<g id=\"edge6\" class=\"edge\">\n<title>3&#45;&gt;8</title>\n<path fill=\"none\" stroke=\"#ff0000\" d=\"M1824,-347.9735C1824,-336.1918 1824,-320.5607 1824,-307.1581\"/>\n<polygon fill=\"#ff0000\" stroke=\"#ff0000\" points=\"1827.5001,-307.0033 1824,-297.0034 1820.5001,-307.0034 1827.5001,-307.0033\"/>\n<text text-anchor=\"middle\" x=\"1832\" y=\"-318.8\" font-family=\"Times,serif\" font-size=\"14.00\" fill=\"#000000\">no</text>\n</g>\n<!-- 9 -->\n<g id=\"node36\" class=\"node\">\n<title>9</title>\n<path fill=\"#78cb0e\" stroke=\"#000000\" d=\"M3329.5,-297C3329.5,-297 3274.5,-297 3274.5,-297 3268.5,-297 3262.5,-291 3262.5,-285 3262.5,-285 3262.5,-273 3262.5,-273 3262.5,-267 3268.5,-261 3274.5,-261 3274.5,-261 3329.5,-261 3329.5,-261 3335.5,-261 3341.5,-267 3341.5,-273 3341.5,-273 3341.5,-285 3341.5,-285 3341.5,-291 3335.5,-297 3329.5,-297\"/>\n<text text-anchor=\"middle\" x=\"3302\" y=\"-275.3\" font-family=\"Times,serif\" font-size=\"14.00\" fill=\"#000000\">HR&lt;75.75</text>\n</g>\n<!-- 4&#45;&gt;9 -->\n<g id=\"edge35\" class=\"edge\">\n<title>4&#45;&gt;9</title>\n<path fill=\"none\" stroke=\"#0000ff\" d=\"M3479.5871,-347.9735C3442.0201,-333.3828 3389.253,-312.8884 3351.0079,-298.0343\"/>\n<polygon fill=\"#0000ff\" stroke=\"#0000ff\" points=\"3352.2043,-294.7443 3341.6155,-294.3864 3349.6699,-301.2695 3352.2043,-294.7443\"/>\n<text text-anchor=\"middle\" x=\"3463.5\" y=\"-318.8\" font-family=\"Times,serif\" font-size=\"14.00\" fill=\"#000000\">yes, missing</text>\n</g>\n<!-- 10 -->\n<g id=\"node37\" class=\"node\">\n<title>10</title>\n<path fill=\"#78cb0e\" stroke=\"#000000\" d=\"M3932.5,-297C3932.5,-297 3861.5,-297 3861.5,-297 3855.5,-297 3849.5,-291 3849.5,-285 3849.5,-285 3849.5,-273 3849.5,-273 3849.5,-267 3855.5,-261 3861.5,-261 3861.5,-261 3932.5,-261 3932.5,-261 3938.5,-261 3944.5,-267 3944.5,-273 3944.5,-273 3944.5,-285 3944.5,-285 3944.5,-291 3938.5,-297 3932.5,-297\"/>\n<text text-anchor=\"middle\" x=\"3897\" y=\"-275.3\" font-family=\"Times,serif\" font-size=\"14.00\" fill=\"#000000\">Resp&lt;30.375</text>\n</g>\n<!-- 4&#45;&gt;10 -->\n<g id=\"edge36\" class=\"edge\">\n<title>4&#45;&gt;10</title>\n<path fill=\"none\" stroke=\"#ff0000\" d=\"M3573.7423,-354.8044C3641.7789,-338.8497 3766.4571,-309.6125 3839.4898,-292.4862\"/>\n<polygon fill=\"#ff0000\" stroke=\"#ff0000\" points=\"3840.5042,-295.8434 3849.441,-290.1527 3838.906,-289.0282 3840.5042,-295.8434\"/>\n<text text-anchor=\"middle\" x=\"3742\" y=\"-318.8\" font-family=\"Times,serif\" font-size=\"14.00\" fill=\"#000000\">no</text>\n</g>\n<!-- 15 -->\n<g id=\"node8\" class=\"node\">\n<title>15</title>\n<path fill=\"#78cb0e\" stroke=\"#000000\" d=\"M485.5,-210C485.5,-210 422.5,-210 422.5,-210 416.5,-210 410.5,-204 410.5,-198 410.5,-198 410.5,-186 410.5,-186 410.5,-180 416.5,-174 422.5,-174 422.5,-174 485.5,-174 485.5,-174 491.5,-174 497.5,-180 497.5,-186 497.5,-186 497.5,-198 497.5,-198 497.5,-204 491.5,-210 485.5,-210\"/>\n<text text-anchor=\"middle\" x=\"454\" y=\"-188.3\" font-family=\"Times,serif\" font-size=\"14.00\" fill=\"#000000\">Resp&lt;21.25</text>\n</g>\n<!-- 7&#45;&gt;15 -->\n<g id=\"edge7\" class=\"edge\">\n<title>7&#45;&gt;15</title>\n<path fill=\"none\" stroke=\"#0000ff\" d=\"M824.6291,-265.7866C737.8475,-248.5097 587.5064,-218.5791 507.5751,-202.666\"/>\n<polygon fill=\"#0000ff\" stroke=\"#0000ff\" points=\"508.207,-199.2232 497.716,-200.7032 506.8401,-206.0884 508.207,-199.2232\"/>\n<text text-anchor=\"middle\" x=\"734.5\" y=\"-231.8\" font-family=\"Times,serif\" font-size=\"14.00\" fill=\"#000000\">yes, missing</text>\n</g>\n<!-- 16 -->\n<g id=\"node9\" class=\"node\">\n<title>16</title>\n<path fill=\"#78cb0e\" stroke=\"#000000\" d=\"M918.5,-210C918.5,-210 863.5,-210 863.5,-210 857.5,-210 851.5,-204 851.5,-198 851.5,-198 851.5,-186 851.5,-186 851.5,-180 857.5,-174 863.5,-174 863.5,-174 918.5,-174 918.5,-174 924.5,-174 930.5,-180 930.5,-186 930.5,-186 930.5,-198 930.5,-198 930.5,-204 924.5,-210 918.5,-210\"/>\n<text text-anchor=\"middle\" x=\"891\" y=\"-188.3\" font-family=\"Times,serif\" font-size=\"14.00\" fill=\"#000000\">HR&lt;53.25</text>\n</g>\n<!-- 7&#45;&gt;16 -->\n<g id=\"edge8\" class=\"edge\">\n<title>7&#45;&gt;16</title>\n<path fill=\"none\" stroke=\"#ff0000\" d=\"M891,-260.9735C891,-249.1918 891,-233.5607 891,-220.1581\"/>\n<polygon fill=\"#ff0000\" stroke=\"#ff0000\" points=\"894.5001,-220.0033 891,-210.0034 887.5001,-220.0034 894.5001,-220.0033\"/>\n<text text-anchor=\"middle\" x=\"899\" y=\"-231.8\" font-family=\"Times,serif\" font-size=\"14.00\" fill=\"#000000\">no</text>\n</g>\n<!-- 17 -->\n<g id=\"node22\" class=\"node\">\n<title>17</title>\n<path fill=\"#78cb0e\" stroke=\"#000000\" d=\"M1710.5,-210C1710.5,-210 1639.5,-210 1639.5,-210 1633.5,-210 1627.5,-204 1627.5,-198 1627.5,-198 1627.5,-186 1627.5,-186 1627.5,-180 1633.5,-174 1639.5,-174 1639.5,-174 1710.5,-174 1710.5,-174 1716.5,-174 1722.5,-180 1722.5,-186 1722.5,-186 1722.5,-198 1722.5,-198 1722.5,-204 1716.5,-210 1710.5,-210\"/>\n<text text-anchor=\"middle\" x=\"1675\" y=\"-188.3\" font-family=\"Times,serif\" font-size=\"14.00\" fill=\"#000000\">O2Sat&lt;99.25</text>\n</g>\n<!-- 8&#45;&gt;17 -->\n<g id=\"edge21\" class=\"edge\">\n<title>8&#45;&gt;17</title>\n<path fill=\"none\" stroke=\"#0000ff\" d=\"M1793.1271,-260.9735C1770.352,-247.6753 1739.1779,-229.473 1714.5733,-215.1065\"/>\n<polygon fill=\"#0000ff\" stroke=\"#0000ff\" points=\"1716.2339,-212.0232 1705.8333,-210.0034 1712.7042,-218.0682 1716.2339,-212.0232\"/>\n<text text-anchor=\"middle\" x=\"1794.5\" y=\"-231.8\" font-family=\"Times,serif\" font-size=\"14.00\" fill=\"#000000\">yes, missing</text>\n</g>\n<!-- 18 -->\n<g id=\"node23\" class=\"node\">\n<title>18</title>\n<path fill=\"#78cb0e\" stroke=\"#000000\" d=\"M2007.5,-210C2007.5,-210 1936.5,-210 1936.5,-210 1930.5,-210 1924.5,-204 1924.5,-198 1924.5,-198 1924.5,-186 1924.5,-186 1924.5,-180 1930.5,-174 1936.5,-174 1936.5,-174 2007.5,-174 2007.5,-174 2013.5,-174 2019.5,-180 2019.5,-186 2019.5,-186 2019.5,-198 2019.5,-198 2019.5,-204 2013.5,-210 2007.5,-210\"/>\n<text text-anchor=\"middle\" x=\"1972\" y=\"-188.3\" font-family=\"Times,serif\" font-size=\"14.00\" fill=\"#000000\">O2Sat&lt;91.75</text>\n</g>\n<!-- 8&#45;&gt;18 -->\n<g id=\"edge22\" class=\"edge\">\n<title>8&#45;&gt;18</title>\n<path fill=\"none\" stroke=\"#ff0000\" d=\"M1854.6657,-260.9735C1877.288,-247.6753 1908.2528,-229.473 1932.6923,-215.1065\"/>\n<polygon fill=\"#ff0000\" stroke=\"#ff0000\" points=\"1934.5264,-218.0884 1941.3736,-210.0034 1930.979,-212.0538 1934.5264,-218.0884\"/>\n<text text-anchor=\"middle\" x=\"1915\" y=\"-231.8\" font-family=\"Times,serif\" font-size=\"14.00\" fill=\"#000000\">no</text>\n</g>\n<!-- 31 -->\n<g id=\"node10\" class=\"node\">\n<title>31</title>\n<path fill=\"#78cb0e\" stroke=\"#000000\" d=\"M257.5,-123C257.5,-123 186.5,-123 186.5,-123 180.5,-123 174.5,-117 174.5,-111 174.5,-111 174.5,-99 174.5,-99 174.5,-93 180.5,-87 186.5,-87 186.5,-87 257.5,-87 257.5,-87 263.5,-87 269.5,-93 269.5,-99 269.5,-99 269.5,-111 269.5,-111 269.5,-117 263.5,-123 257.5,-123\"/>\n<text text-anchor=\"middle\" x=\"222\" y=\"-101.3\" font-family=\"Times,serif\" font-size=\"14.00\" fill=\"#000000\">Resp&lt;15.625</text>\n</g>\n<!-- 15&#45;&gt;31 -->\n<g id=\"edge9\" class=\"edge\">\n<title>15&#45;&gt;31</title>\n<path fill=\"none\" stroke=\"#0000ff\" d=\"M410.3626,-175.636C373.2998,-161.7374 319.8276,-141.6853 279.3176,-126.4941\"/>\n<polygon fill=\"#0000ff\" stroke=\"#0000ff\" points=\"280.432,-123.1741 269.8398,-122.9399 277.9741,-129.7284 280.432,-123.1741\"/>\n<text text-anchor=\"middle\" x=\"387.5\" y=\"-144.8\" font-family=\"Times,serif\" font-size=\"14.00\" fill=\"#000000\">yes, missing</text>\n</g>\n<!-- 32 -->\n<g id=\"node11\" class=\"node\">\n<title>32</title>\n<path fill=\"#78cb0e\" stroke=\"#000000\" d=\"M481.5,-123C481.5,-123 426.5,-123 426.5,-123 420.5,-123 414.5,-117 414.5,-111 414.5,-111 414.5,-99 414.5,-99 414.5,-93 420.5,-87 426.5,-87 426.5,-87 481.5,-87 481.5,-87 487.5,-87 493.5,-93 493.5,-99 493.5,-99 493.5,-111 493.5,-111 493.5,-117 487.5,-123 481.5,-123\"/>\n<text text-anchor=\"middle\" x=\"454\" y=\"-101.3\" font-family=\"Times,serif\" font-size=\"14.00\" fill=\"#000000\">HR&lt;54.75</text>\n</g>\n<!-- 15&#45;&gt;32 -->\n<g id=\"edge10\" class=\"edge\">\n<title>15&#45;&gt;32</title>\n<path fill=\"none\" stroke=\"#ff0000\" d=\"M454,-173.9735C454,-162.1918 454,-146.5607 454,-133.1581\"/>\n<polygon fill=\"#ff0000\" stroke=\"#ff0000\" points=\"457.5001,-133.0033 454,-123.0034 450.5001,-133.0034 457.5001,-133.0033\"/>\n<text text-anchor=\"middle\" x=\"462\" y=\"-144.8\" font-family=\"Times,serif\" font-size=\"14.00\" fill=\"#000000\">no</text>\n</g>\n<!-- 33 -->\n<g id=\"node16\" class=\"node\">\n<title>33</title>\n<path fill=\"#78cb0e\" stroke=\"#000000\" d=\"M846,-123C846,-123 810,-123 810,-123 804,-123 798,-117 798,-111 798,-111 798,-99 798,-99 798,-93 804,-87 810,-87 810,-87 846,-87 846,-87 852,-87 858,-93 858,-99 858,-99 858,-111 858,-111 858,-117 852,-123 846,-123\"/>\n<text text-anchor=\"middle\" x=\"828\" y=\"-101.3\" font-family=\"Times,serif\" font-size=\"14.00\" fill=\"#000000\">HR&lt;23</text>\n</g>\n<!-- 16&#45;&gt;33 -->\n<g id=\"edge15\" class=\"edge\">\n<title>16&#45;&gt;33</title>\n<path fill=\"none\" stroke=\"#0000ff\" d=\"M874.3595,-173.7547C869.5468,-168.1961 864.407,-161.9733 860,-156 854.4091,-148.4219 848.79,-139.8612 843.8551,-131.9481\"/>\n<polygon fill=\"#0000ff\" stroke=\"#0000ff\" points=\"846.8157,-130.0805 838.6121,-123.3759 840.8441,-133.733 846.8157,-130.0805\"/>\n<text text-anchor=\"middle\" x=\"895.5\" y=\"-144.8\" font-family=\"Times,serif\" font-size=\"14.00\" fill=\"#000000\">yes, missing</text>\n</g>\n<!-- 34 -->\n<g id=\"node17\" class=\"node\">\n<title>34</title>\n<path fill=\"#78cb0e\" stroke=\"#000000\" d=\"M1014.5,-123C1014.5,-123 951.5,-123 951.5,-123 945.5,-123 939.5,-117 939.5,-111 939.5,-111 939.5,-99 939.5,-99 939.5,-93 945.5,-87 951.5,-87 951.5,-87 1014.5,-87 1014.5,-87 1020.5,-87 1026.5,-93 1026.5,-99 1026.5,-99 1026.5,-111 1026.5,-111 1026.5,-117 1020.5,-123 1014.5,-123\"/>\n<text text-anchor=\"middle\" x=\"983\" y=\"-101.3\" font-family=\"Times,serif\" font-size=\"14.00\" fill=\"#000000\">Resp&lt;16.75</text>\n</g>\n<!-- 16&#45;&gt;34 -->\n<g id=\"edge16\" class=\"edge\">\n<title>16&#45;&gt;34</title>\n<path fill=\"none\" stroke=\"#ff0000\" d=\"M911.5026,-173.8529C917.808,-168.1904 924.7358,-161.8856 931,-156 939.749,-147.7797 949.1604,-138.6424 957.5396,-130.3988\"/>\n<polygon fill=\"#ff0000\" stroke=\"#ff0000\" points=\"960.2419,-132.6491 964.8961,-123.1313 955.3223,-127.6693 960.2419,-132.6491\"/>\n<text text-anchor=\"middle\" x=\"954\" y=\"-144.8\" font-family=\"Times,serif\" font-size=\"14.00\" fill=\"#000000\">no</text>\n</g>\n<!-- 63 -->\n<g id=\"node12\" class=\"node\">\n<title>63</title>\n<polygon fill=\"#e48038\" stroke=\"#000000\" points=\"136,-36 0,-36 0,0 136,0 136,-36\"/>\n<text text-anchor=\"middle\" x=\"68\" y=\"-14.3\" font-family=\"Times,serif\" font-size=\"14.00\" fill=\"#000000\">leaf=&#45;0.0524503998</text>\n</g>\n<!-- 31&#45;&gt;63 -->\n<g id=\"edge11\" class=\"edge\">\n<title>31&#45;&gt;63</title>\n<path fill=\"none\" stroke=\"#0000ff\" d=\"M181.8225,-86.8592C170.4181,-81.4032 158.0902,-75.209 147,-69 132.1602,-60.6917 116.3154,-50.6994 102.7411,-41.7697\"/>\n<polygon fill=\"#0000ff\" stroke=\"#0000ff\" points=\"104.4484,-38.702 94.1822,-36.0835 100.5747,-44.5325 104.4484,-38.702\"/>\n<text text-anchor=\"middle\" x=\"182.5\" y=\"-57.8\" font-family=\"Times,serif\" font-size=\"14.00\" fill=\"#000000\">yes, missing</text>\n</g>\n<!-- 64 -->\n<g id=\"node13\" class=\"node\">\n<title>64</title>\n<polygon fill=\"#e48038\" stroke=\"#000000\" points=\"290,-36 154,-36 154,0 290,0 290,-36\"/>\n<text text-anchor=\"middle\" x=\"222\" y=\"-14.3\" font-family=\"Times,serif\" font-size=\"14.00\" fill=\"#000000\">leaf=&#45;0.0770512745</text>\n</g>\n<!-- 31&#45;&gt;64 -->\n<g id=\"edge12\" class=\"edge\">\n<title>31&#45;&gt;64</title>\n<path fill=\"none\" stroke=\"#ff0000\" d=\"M222,-86.9735C222,-75.1918 222,-59.5607 222,-46.1581\"/>\n<polygon fill=\"#ff0000\" stroke=\"#ff0000\" points=\"225.5001,-46.0033 222,-36.0034 218.5001,-46.0034 225.5001,-46.0033\"/>\n<text text-anchor=\"middle\" x=\"230\" y=\"-57.8\" font-family=\"Times,serif\" font-size=\"14.00\" fill=\"#000000\">no</text>\n</g>\n<!-- 65 -->\n<g id=\"node14\" class=\"node\">\n<title>65</title>\n<polygon fill=\"#e48038\" stroke=\"#000000\" points=\"444,-36 308,-36 308,0 444,0 444,-36\"/>\n<text text-anchor=\"middle\" x=\"376\" y=\"-14.3\" font-family=\"Times,serif\" font-size=\"14.00\" fill=\"#000000\">leaf=&#45;0.0716216192</text>\n</g>\n<!-- 32&#45;&gt;65 -->\n<g id=\"edge13\" class=\"edge\">\n<title>32&#45;&gt;65</title>\n<path fill=\"none\" stroke=\"#0000ff\" d=\"M437.8383,-86.9735C426.6479,-74.4919 411.5841,-57.6899 399.126,-43.7944\"/>\n<polygon fill=\"#0000ff\" stroke=\"#0000ff\" points=\"401.4224,-41.1127 392.1409,-36.0034 396.2104,-45.7855 401.4224,-41.1127\"/>\n<text text-anchor=\"middle\" x=\"455.5\" y=\"-57.8\" font-family=\"Times,serif\" font-size=\"14.00\" fill=\"#000000\">yes, missing</text>\n</g>\n<!-- 66 -->\n<g id=\"node15\" class=\"node\">\n<title>66</title>\n<polygon fill=\"#e48038\" stroke=\"#000000\" points=\"601.5,-36 462.5,-36 462.5,0 601.5,0 601.5,-36\"/>\n<text text-anchor=\"middle\" x=\"532\" y=\"-14.3\" font-family=\"Times,serif\" font-size=\"14.00\" fill=\"#000000\">leaf=0.00297805644</text>\n</g>\n<!-- 32&#45;&gt;66 -->\n<g id=\"edge14\" class=\"edge\">\n<title>32&#45;&gt;66</title>\n<path fill=\"none\" stroke=\"#ff0000\" d=\"M476.5431,-86.7981C482.7866,-81.3412 489.3858,-75.1617 495,-69 501.8171,-61.5181 508.54,-52.7818 514.3462,-44.6756\"/>\n<polygon fill=\"#ff0000\" stroke=\"#ff0000\" points=\"517.3969,-46.4199 520.2479,-36.2158 511.6558,-42.4148 517.3969,-46.4199\"/>\n<text text-anchor=\"middle\" x=\"516\" y=\"-57.8\" font-family=\"Times,serif\" font-size=\"14.00\" fill=\"#000000\">no</text>\n</g>\n<!-- 67 -->\n<g id=\"node18\" class=\"node\">\n<title>67</title>\n<polygon fill=\"#e48038\" stroke=\"#000000\" points=\"744,-36 620,-36 620,0 744,0 744,-36\"/>\n<text text-anchor=\"middle\" x=\"682\" y=\"-14.3\" font-family=\"Times,serif\" font-size=\"14.00\" fill=\"#000000\">leaf=0.149788439</text>\n</g>\n<!-- 33&#45;&gt;67 -->\n<g id=\"edge17\" class=\"edge\">\n<title>33&#45;&gt;67</title>\n<path fill=\"none\" stroke=\"#0000ff\" d=\"M797.809,-91.9768C783.8727,-85.5964 767.2869,-77.4713 753,-69 739.4233,-60.9498 725.1599,-51.0234 713.0085,-42.0738\"/>\n<polygon fill=\"#0000ff\" stroke=\"#0000ff\" points=\"715.0743,-39.2483 704.9677,-36.0691 710.8858,-44.8569 715.0743,-39.2483\"/>\n<text text-anchor=\"middle\" x=\"788.5\" y=\"-57.8\" font-family=\"Times,serif\" font-size=\"14.00\" fill=\"#000000\">yes, missing</text>\n</g>\n<!-- 68 -->\n<g id=\"node19\" class=\"node\">\n<title>68</title>\n<polygon fill=\"#e48038\" stroke=\"#000000\" points=\"893.5,-36 762.5,-36 762.5,0 893.5,0 893.5,-36\"/>\n<text text-anchor=\"middle\" x=\"828\" y=\"-14.3\" font-family=\"Times,serif\" font-size=\"14.00\" fill=\"#000000\">leaf=0.0216120165</text>\n</g>\n<!-- 33&#45;&gt;68 -->\n<g id=\"edge18\" class=\"edge\">\n<title>33&#45;&gt;68</title>\n<path fill=\"none\" stroke=\"#ff0000\" d=\"M828,-86.9735C828,-75.1918 828,-59.5607 828,-46.1581\"/>\n<polygon fill=\"#ff0000\" stroke=\"#ff0000\" points=\"831.5001,-46.0033 828,-36.0034 824.5001,-46.0034 831.5001,-46.0033\"/>\n<text text-anchor=\"middle\" x=\"836\" y=\"-57.8\" font-family=\"Times,serif\" font-size=\"14.00\" fill=\"#000000\">no</text>\n</g>\n<!-- 69 -->\n<g id=\"node20\" class=\"node\">\n<title>69</title>\n<polygon fill=\"#e48038\" stroke=\"#000000\" points=\"1054.5,-36 911.5,-36 911.5,0 1054.5,0 1054.5,-36\"/>\n<text text-anchor=\"middle\" x=\"983\" y=\"-14.3\" font-family=\"Times,serif\" font-size=\"14.00\" fill=\"#000000\">leaf=&#45;0.00985280145</text>\n</g>\n<!-- 34&#45;&gt;69 -->\n<g id=\"edge19\" class=\"edge\">\n<title>34&#45;&gt;69</title>\n<path fill=\"none\" stroke=\"#0000ff\" d=\"M983,-86.9735C983,-75.1918 983,-59.5607 983,-46.1581\"/>\n<polygon fill=\"#0000ff\" stroke=\"#0000ff\" points=\"986.5001,-46.0033 983,-36.0034 979.5001,-46.0034 986.5001,-46.0033\"/>\n<text text-anchor=\"middle\" x=\"1018.5\" y=\"-57.8\" font-family=\"Times,serif\" font-size=\"14.00\" fill=\"#000000\">yes, missing</text>\n</g>\n<!-- 70 -->\n<g id=\"node21\" class=\"node\">\n<title>70</title>\n<polygon fill=\"#e48038\" stroke=\"#000000\" points=\"1209,-36 1073,-36 1073,0 1209,0 1209,-36\"/>\n<text text-anchor=\"middle\" x=\"1141\" y=\"-14.3\" font-family=\"Times,serif\" font-size=\"14.00\" fill=\"#000000\">leaf=&#45;0.0384759419</text>\n</g>\n<!-- 34&#45;&gt;70 -->\n<g id=\"edge20\" class=\"edge\">\n<title>34&#45;&gt;70</title>\n<path fill=\"none\" stroke=\"#ff0000\" d=\"M1022.7007,-86.8849C1034.2112,-81.3805 1046.7146,-75.1543 1058,-69 1073.4933,-60.5511 1090.1456,-50.5168 1104.4382,-41.5933\"/>\n<polygon fill=\"#ff0000\" stroke=\"#ff0000\" points=\"1106.4015,-44.4932 1113.001,-36.2047 1102.6732,-38.5687 1106.4015,-44.4932\"/>\n<text text-anchor=\"middle\" x=\"1092\" y=\"-57.8\" font-family=\"Times,serif\" font-size=\"14.00\" fill=\"#000000\">no</text>\n</g>\n<!-- 35 -->\n<g id=\"node24\" class=\"node\">\n<title>35</title>\n<path fill=\"#78cb0e\" stroke=\"#000000\" d=\"M1466.5,-123C1466.5,-123 1411.5,-123 1411.5,-123 1405.5,-123 1399.5,-117 1399.5,-111 1399.5,-111 1399.5,-99 1399.5,-99 1399.5,-93 1405.5,-87 1411.5,-87 1411.5,-87 1466.5,-87 1466.5,-87 1472.5,-87 1478.5,-93 1478.5,-99 1478.5,-99 1478.5,-111 1478.5,-111 1478.5,-117 1472.5,-123 1466.5,-123\"/>\n<text text-anchor=\"middle\" x=\"1439\" y=\"-101.3\" font-family=\"Times,serif\" font-size=\"14.00\" fill=\"#000000\">HR&lt;81.75</text>\n</g>\n<!-- 17&#45;&gt;35 -->\n<g id=\"edge23\" class=\"edge\">\n<title>17&#45;&gt;35</title>\n<path fill=\"none\" stroke=\"#0000ff\" d=\"M1627.2419,-174.3943C1586.842,-159.5011 1529.1708,-138.2409 1488.3308,-123.1855\"/>\n<polygon fill=\"#0000ff\" stroke=\"#0000ff\" points=\"1489.444,-119.8657 1478.8506,-119.6907 1487.0228,-126.4336 1489.444,-119.8657\"/>\n<text text-anchor=\"middle\" x=\"1607.5\" y=\"-144.8\" font-family=\"Times,serif\" font-size=\"14.00\" fill=\"#000000\">yes, missing</text>\n</g>\n<!-- 36 -->\n<g id=\"node25\" class=\"node\">\n<title>36</title>\n<path fill=\"#78cb0e\" stroke=\"#000000\" d=\"M1702.5,-123C1702.5,-123 1647.5,-123 1647.5,-123 1641.5,-123 1635.5,-117 1635.5,-111 1635.5,-111 1635.5,-99 1635.5,-99 1635.5,-93 1641.5,-87 1647.5,-87 1647.5,-87 1702.5,-87 1702.5,-87 1708.5,-87 1714.5,-93 1714.5,-99 1714.5,-99 1714.5,-111 1714.5,-111 1714.5,-117 1708.5,-123 1702.5,-123\"/>\n<text text-anchor=\"middle\" x=\"1675\" y=\"-101.3\" font-family=\"Times,serif\" font-size=\"14.00\" fill=\"#000000\">HR&lt;72.25</text>\n</g>\n<!-- 17&#45;&gt;36 -->\n<g id=\"edge24\" class=\"edge\">\n<title>17&#45;&gt;36</title>\n<path fill=\"none\" stroke=\"#ff0000\" d=\"M1675,-173.9735C1675,-162.1918 1675,-146.5607 1675,-133.1581\"/>\n<polygon fill=\"#ff0000\" stroke=\"#ff0000\" points=\"1678.5001,-133.0033 1675,-123.0034 1671.5001,-133.0034 1678.5001,-133.0033\"/>\n<text text-anchor=\"middle\" x=\"1683\" y=\"-144.8\" font-family=\"Times,serif\" font-size=\"14.00\" fill=\"#000000\">no</text>\n</g>\n<!-- 37 -->\n<g id=\"node30\" class=\"node\">\n<title>37</title>\n<path fill=\"#78cb0e\" stroke=\"#000000\" d=\"M1999.5,-123C1999.5,-123 1944.5,-123 1944.5,-123 1938.5,-123 1932.5,-117 1932.5,-111 1932.5,-111 1932.5,-99 1932.5,-99 1932.5,-93 1938.5,-87 1944.5,-87 1944.5,-87 1999.5,-87 1999.5,-87 2005.5,-87 2011.5,-93 2011.5,-99 2011.5,-99 2011.5,-111 2011.5,-111 2011.5,-117 2005.5,-123 1999.5,-123\"/>\n<text text-anchor=\"middle\" x=\"1972\" y=\"-101.3\" font-family=\"Times,serif\" font-size=\"14.00\" fill=\"#000000\">HR&lt;69.75</text>\n</g>\n<!-- 18&#45;&gt;37 -->\n<g id=\"edge29\" class=\"edge\">\n<title>18&#45;&gt;37</title>\n<path fill=\"none\" stroke=\"#0000ff\" d=\"M1972,-173.9735C1972,-162.1918 1972,-146.5607 1972,-133.1581\"/>\n<polygon fill=\"#0000ff\" stroke=\"#0000ff\" points=\"1975.5001,-133.0033 1972,-123.0034 1968.5001,-133.0034 1975.5001,-133.0033\"/>\n<text text-anchor=\"middle\" x=\"2007.5\" y=\"-144.8\" font-family=\"Times,serif\" font-size=\"14.00\" fill=\"#000000\">yes, missing</text>\n</g>\n<!-- 38 -->\n<g id=\"node31\" class=\"node\">\n<title>38</title>\n<path fill=\"#78cb0e\" stroke=\"#000000\" d=\"M2208.5,-123C2208.5,-123 2137.5,-123 2137.5,-123 2131.5,-123 2125.5,-117 2125.5,-111 2125.5,-111 2125.5,-99 2125.5,-99 2125.5,-93 2131.5,-87 2137.5,-87 2137.5,-87 2208.5,-87 2208.5,-87 2214.5,-87 2220.5,-93 2220.5,-99 2220.5,-99 2220.5,-111 2220.5,-111 2220.5,-117 2214.5,-123 2208.5,-123\"/>\n<text text-anchor=\"middle\" x=\"2173\" y=\"-101.3\" font-family=\"Times,serif\" font-size=\"14.00\" fill=\"#000000\">O2Sat&lt;98.25</text>\n</g>\n<!-- 18&#45;&gt;38 -->\n<g id=\"edge30\" class=\"edge\">\n<title>18&#45;&gt;38</title>\n<path fill=\"none\" stroke=\"#ff0000\" d=\"M2013.6473,-173.9735C2045.1793,-160.3254 2088.6456,-141.5116 2122.2175,-126.9805\"/>\n<polygon fill=\"#ff0000\" stroke=\"#ff0000\" points=\"2123.6191,-130.1877 2131.406,-123.0034 2120.8385,-123.7636 2123.6191,-130.1877\"/>\n<text text-anchor=\"middle\" x=\"2093\" y=\"-144.8\" font-family=\"Times,serif\" font-size=\"14.00\" fill=\"#000000\">no</text>\n</g>\n<!-- 71 -->\n<g id=\"node26\" class=\"node\">\n<title>71</title>\n<polygon fill=\"#e48038\" stroke=\"#000000\" points=\"1358.5,-36 1227.5,-36 1227.5,0 1358.5,0 1358.5,-36\"/>\n<text text-anchor=\"middle\" x=\"1293\" y=\"-14.3\" font-family=\"Times,serif\" font-size=\"14.00\" fill=\"#000000\">leaf=0.0634054542</text>\n</g>\n<!-- 35&#45;&gt;71 -->\n<g id=\"edge25\" class=\"edge\">\n<title>35&#45;&gt;71</title>\n<path fill=\"none\" stroke=\"#0000ff\" d=\"M1399.3953,-87.5827C1387.7702,-82.0474 1375.1811,-75.6297 1364,-69 1350.4233,-60.9498 1336.1599,-51.0234 1324.0085,-42.0738\"/>\n<polygon fill=\"#0000ff\" stroke=\"#0000ff\" points=\"1326.0743,-39.2483 1315.9677,-36.0691 1321.8858,-44.8569 1326.0743,-39.2483\"/>\n<text text-anchor=\"middle\" x=\"1399.5\" y=\"-57.8\" font-family=\"Times,serif\" font-size=\"14.00\" fill=\"#000000\">yes, missing</text>\n</g>\n<!-- 72 -->\n<g id=\"node27\" class=\"node\">\n<title>72</title>\n<polygon fill=\"#e48038\" stroke=\"#000000\" points=\"1501,-36 1377,-36 1377,0 1501,0 1501,-36\"/>\n<text text-anchor=\"middle\" x=\"1439\" y=\"-14.3\" font-family=\"Times,serif\" font-size=\"14.00\" fill=\"#000000\">leaf=0.141689882</text>\n</g>\n<!-- 35&#45;&gt;72 -->\n<g id=\"edge26\" class=\"edge\">\n<title>35&#45;&gt;72</title>\n<path fill=\"none\" stroke=\"#ff0000\" d=\"M1439,-86.9735C1439,-75.1918 1439,-59.5607 1439,-46.1581\"/>\n<polygon fill=\"#ff0000\" stroke=\"#ff0000\" points=\"1442.5001,-46.0033 1439,-36.0034 1435.5001,-46.0034 1442.5001,-46.0033\"/>\n<text text-anchor=\"middle\" x=\"1447\" y=\"-57.8\" font-family=\"Times,serif\" font-size=\"14.00\" fill=\"#000000\">no</text>\n</g>\n<!-- 73 -->\n<g id=\"node28\" class=\"node\">\n<title>73</title>\n<polygon fill=\"#e48038\" stroke=\"#000000\" points=\"1643,-36 1519,-36 1519,0 1643,0 1643,-36\"/>\n<text text-anchor=\"middle\" x=\"1581\" y=\"-14.3\" font-family=\"Times,serif\" font-size=\"14.00\" fill=\"#000000\">leaf=0.107692316</text>\n</g>\n<!-- 36&#45;&gt;73 -->\n<g id=\"edge27\" class=\"edge\">\n<title>36&#45;&gt;73</title>\n<path fill=\"none\" stroke=\"#0000ff\" d=\"M1644.3138,-86.9796C1636.3423,-81.6606 1628.0281,-75.5061 1621,-69 1613.0727,-61.6615 1605.4659,-52.655 1599.054,-44.2635\"/>\n<polygon fill=\"#0000ff\" stroke=\"#0000ff\" points=\"1601.8279,-42.1279 1593.0727,-36.1615 1596.1963,-46.2855 1601.8279,-42.1279\"/>\n<text text-anchor=\"middle\" x=\"1656.5\" y=\"-57.8\" font-family=\"Times,serif\" font-size=\"14.00\" fill=\"#000000\">yes, missing</text>\n</g>\n<!-- 74 -->\n<g id=\"node29\" class=\"node\">\n<title>74</title>\n<polygon fill=\"#e48038\" stroke=\"#000000\" points=\"1782.5,-36 1661.5,-36 1661.5,0 1782.5,0 1782.5,-36\"/>\n<text text-anchor=\"middle\" x=\"1722\" y=\"-14.3\" font-family=\"Times,serif\" font-size=\"14.00\" fill=\"#000000\">leaf=&#45;0.01929182</text>\n</g>\n<!-- 36&#45;&gt;74 -->\n<g id=\"edge28\" class=\"edge\">\n<title>36&#45;&gt;74</title>\n<path fill=\"none\" stroke=\"#ff0000\" d=\"M1684.7384,-86.9735C1691.2923,-74.8418 1700.0512,-58.6287 1707.4301,-44.9698\"/>\n<polygon fill=\"#ff0000\" stroke=\"#ff0000\" points=\"1710.6003,-46.4652 1712.274,-36.0034 1704.4416,-43.138 1710.6003,-46.4652\"/>\n<text text-anchor=\"middle\" x=\"1710\" y=\"-57.8\" font-family=\"Times,serif\" font-size=\"14.00\" fill=\"#000000\">no</text>\n</g>\n<!-- 75 -->\n<g id=\"node32\" class=\"node\">\n<title>75</title>\n<polygon fill=\"#e48038\" stroke=\"#000000\" points=\"1937,-36 1801,-36 1801,0 1937,0 1937,-36\"/>\n<text text-anchor=\"middle\" x=\"1869\" y=\"-14.3\" font-family=\"Times,serif\" font-size=\"14.00\" fill=\"#000000\">leaf=&#45;0.0521400757</text>\n</g>\n<!-- 37&#45;&gt;75 -->\n<g id=\"edge31\" class=\"edge\">\n<title>37&#45;&gt;75</title>\n<path fill=\"none\" stroke=\"#0000ff\" d=\"M1943.1879,-86.9454C1935.1221,-81.4909 1926.512,-75.2758 1919,-69 1909.8203,-61.3309 1900.4589,-52.1997 1892.3563,-43.7972\"/>\n<polygon fill=\"#0000ff\" stroke=\"#0000ff\" points=\"1894.7249,-41.2081 1885.3103,-36.3484 1889.6396,-46.0184 1894.7249,-41.2081\"/>\n<text text-anchor=\"middle\" x=\"1954.5\" y=\"-57.8\" font-family=\"Times,serif\" font-size=\"14.00\" fill=\"#000000\">yes, missing</text>\n</g>\n<!-- 76 -->\n<g id=\"node33\" class=\"node\">\n<title>76</title>\n<polygon fill=\"#e48038\" stroke=\"#000000\" points=\"2086.5,-36 1955.5,-36 1955.5,0 2086.5,0 2086.5,-36\"/>\n<text text-anchor=\"middle\" x=\"2021\" y=\"-14.3\" font-family=\"Times,serif\" font-size=\"14.00\" fill=\"#000000\">leaf=0.0380435251</text>\n</g>\n<!-- 37&#45;&gt;76 -->\n<g id=\"edge32\" class=\"edge\">\n<title>37&#45;&gt;76</title>\n<path fill=\"none\" stroke=\"#ff0000\" d=\"M1982.1528,-86.9735C1988.9856,-74.8418 1998.1172,-58.6287 2005.8101,-44.9698\"/>\n<polygon fill=\"#ff0000\" stroke=\"#ff0000\" points=\"2009.0023,-46.4341 2010.8602,-36.0034 2002.9032,-42.9989 2009.0023,-46.4341\"/>\n<text text-anchor=\"middle\" x=\"2008\" y=\"-57.8\" font-family=\"Times,serif\" font-size=\"14.00\" fill=\"#000000\">no</text>\n</g>\n<!-- 77 -->\n<g id=\"node34\" class=\"node\">\n<title>77</title>\n<polygon fill=\"#e48038\" stroke=\"#000000\" points=\"2241,-36 2105,-36 2105,0 2241,0 2241,-36\"/>\n<text text-anchor=\"middle\" x=\"2173\" y=\"-14.3\" font-family=\"Times,serif\" font-size=\"14.00\" fill=\"#000000\">leaf=&#45;0.0337772295</text>\n</g>\n<!-- 38&#45;&gt;77 -->\n<g id=\"edge33\" class=\"edge\">\n<title>38&#45;&gt;77</title>\n<path fill=\"none\" stroke=\"#0000ff\" d=\"M2173,-86.9735C2173,-75.1918 2173,-59.5607 2173,-46.1581\"/>\n<polygon fill=\"#0000ff\" stroke=\"#0000ff\" points=\"2176.5001,-46.0033 2173,-36.0034 2169.5001,-46.0034 2176.5001,-46.0033\"/>\n<text text-anchor=\"middle\" x=\"2208.5\" y=\"-57.8\" font-family=\"Times,serif\" font-size=\"14.00\" fill=\"#000000\">yes, missing</text>\n</g>\n<!-- 78 -->\n<g id=\"node35\" class=\"node\">\n<title>78</title>\n<polygon fill=\"#e48038\" stroke=\"#000000\" points=\"2394.5,-36 2259.5,-36 2259.5,0 2394.5,0 2394.5,-36\"/>\n<text text-anchor=\"middle\" x=\"2327\" y=\"-14.3\" font-family=\"Times,serif\" font-size=\"14.00\" fill=\"#000000\">leaf=&#45;0.0116397031</text>\n</g>\n<!-- 38&#45;&gt;78 -->\n<g id=\"edge34\" class=\"edge\">\n<title>38&#45;&gt;78</title>\n<path fill=\"none\" stroke=\"#ff0000\" d=\"M2213.1775,-86.8592C2224.5819,-81.4032 2236.9098,-75.209 2248,-69 2262.8398,-60.6917 2278.6846,-50.6994 2292.2589,-41.7697\"/>\n<polygon fill=\"#ff0000\" stroke=\"#ff0000\" points=\"2294.4253,-44.5325 2300.8178,-36.0835 2290.5516,-38.702 2294.4253,-44.5325\"/>\n<text text-anchor=\"middle\" x=\"2281\" y=\"-57.8\" font-family=\"Times,serif\" font-size=\"14.00\" fill=\"#000000\">no</text>\n</g>\n<!-- 19 -->\n<g id=\"node38\" class=\"node\">\n<title>19</title>\n<path fill=\"#78cb0e\" stroke=\"#000000\" d=\"M2910.5,-210C2910.5,-210 2855.5,-210 2855.5,-210 2849.5,-210 2843.5,-204 2843.5,-198 2843.5,-198 2843.5,-186 2843.5,-186 2843.5,-180 2849.5,-174 2855.5,-174 2855.5,-174 2910.5,-174 2910.5,-174 2916.5,-174 2922.5,-180 2922.5,-186 2922.5,-186 2922.5,-198 2922.5,-198 2922.5,-204 2916.5,-210 2910.5,-210\"/>\n<text text-anchor=\"middle\" x=\"2883\" y=\"-188.3\" font-family=\"Times,serif\" font-size=\"14.00\" fill=\"#000000\">HR&lt;55.75</text>\n</g>\n<!-- 9&#45;&gt;19 -->\n<g id=\"edge37\" class=\"edge\">\n<title>9&#45;&gt;19</title>\n<path fill=\"none\" stroke=\"#0000ff\" d=\"M3262.2038,-270.7368C3185.2554,-254.7595 3016.276,-219.6731 2932.3339,-202.2435\"/>\n<polygon fill=\"#0000ff\" stroke=\"#0000ff\" points=\"2933.0332,-198.8142 2922.5305,-200.208 2931.6101,-205.668 2933.0332,-198.8142\"/>\n<text text-anchor=\"middle\" x=\"3153.5\" y=\"-231.8\" font-family=\"Times,serif\" font-size=\"14.00\" fill=\"#000000\">yes, missing</text>\n</g>\n<!-- 20 -->\n<g id=\"node39\" class=\"node\">\n<title>20</title>\n<path fill=\"#78cb0e\" stroke=\"#000000\" d=\"M3337.5,-210C3337.5,-210 3266.5,-210 3266.5,-210 3260.5,-210 3254.5,-204 3254.5,-198 3254.5,-198 3254.5,-186 3254.5,-186 3254.5,-180 3260.5,-174 3266.5,-174 3266.5,-174 3337.5,-174 3337.5,-174 3343.5,-174 3349.5,-180 3349.5,-186 3349.5,-186 3349.5,-198 3349.5,-198 3349.5,-204 3343.5,-210 3337.5,-210\"/>\n<text text-anchor=\"middle\" x=\"3302\" y=\"-188.3\" font-family=\"Times,serif\" font-size=\"14.00\" fill=\"#000000\">O2Sat&lt;92.75</text>\n</g>\n<!-- 9&#45;&gt;20 -->\n<g id=\"edge38\" class=\"edge\">\n<title>9&#45;&gt;20</title>\n<path fill=\"none\" stroke=\"#ff0000\" d=\"M3302,-260.9735C3302,-249.1918 3302,-233.5607 3302,-220.1581\"/>\n<polygon fill=\"#ff0000\" stroke=\"#ff0000\" points=\"3305.5001,-220.0033 3302,-210.0034 3298.5001,-220.0034 3305.5001,-220.0033\"/>\n<text text-anchor=\"middle\" x=\"3310\" y=\"-231.8\" font-family=\"Times,serif\" font-size=\"14.00\" fill=\"#000000\">no</text>\n</g>\n<!-- 21 -->\n<g id=\"node52\" class=\"node\">\n<title>21</title>\n<path fill=\"#78cb0e\" stroke=\"#000000\" d=\"M3924.5,-210C3924.5,-210 3869.5,-210 3869.5,-210 3863.5,-210 3857.5,-204 3857.5,-198 3857.5,-198 3857.5,-186 3857.5,-186 3857.5,-180 3863.5,-174 3869.5,-174 3869.5,-174 3924.5,-174 3924.5,-174 3930.5,-174 3936.5,-180 3936.5,-186 3936.5,-186 3936.5,-198 3936.5,-198 3936.5,-204 3930.5,-210 3924.5,-210\"/>\n<text text-anchor=\"middle\" x=\"3897\" y=\"-188.3\" font-family=\"Times,serif\" font-size=\"14.00\" fill=\"#000000\">HR&lt;85.25</text>\n</g>\n<!-- 10&#45;&gt;21 -->\n<g id=\"edge51\" class=\"edge\">\n<title>10&#45;&gt;21</title>\n<path fill=\"none\" stroke=\"#0000ff\" d=\"M3897,-260.9735C3897,-249.1918 3897,-233.5607 3897,-220.1581\"/>\n<polygon fill=\"#0000ff\" stroke=\"#0000ff\" points=\"3900.5001,-220.0033 3897,-210.0034 3893.5001,-220.0034 3900.5001,-220.0033\"/>\n<text text-anchor=\"middle\" x=\"3932.5\" y=\"-231.8\" font-family=\"Times,serif\" font-size=\"14.00\" fill=\"#000000\">yes, missing</text>\n</g>\n<!-- 22 -->\n<g id=\"node53\" class=\"node\">\n<title>22</title>\n<path fill=\"#78cb0e\" stroke=\"#000000\" d=\"M4295,-210C4295,-210 4251,-210 4251,-210 4245,-210 4239,-204 4239,-198 4239,-198 4239,-186 4239,-186 4239,-180 4245,-174 4251,-174 4251,-174 4295,-174 4295,-174 4301,-174 4307,-180 4307,-186 4307,-186 4307,-198 4307,-198 4307,-204 4301,-210 4295,-210\"/>\n<text text-anchor=\"middle\" x=\"4273\" y=\"-188.3\" font-family=\"Times,serif\" font-size=\"14.00\" fill=\"#000000\">Resp&lt;68</text>\n</g>\n<!-- 10&#45;&gt;22 -->\n<g id=\"edge52\" class=\"edge\">\n<title>10&#45;&gt;22</title>\n<path fill=\"none\" stroke=\"#ff0000\" d=\"M3944.6207,-267.9814C4017.9818,-251.0069 4157.6008,-218.7014 4228.8237,-202.2216\"/>\n<polygon fill=\"#ff0000\" stroke=\"#ff0000\" points=\"4229.8661,-205.573 4238.8197,-199.9088 4228.288,-198.7532 4229.8661,-205.573\"/>\n<text text-anchor=\"middle\" x=\"4116\" y=\"-231.8\" font-family=\"Times,serif\" font-size=\"14.00\" fill=\"#000000\">no</text>\n</g>\n<!-- 39 -->\n<g id=\"node40\" class=\"node\">\n<title>39</title>\n<path fill=\"#78cb0e\" stroke=\"#000000\" d=\"M2667.5,-123C2667.5,-123 2596.5,-123 2596.5,-123 2590.5,-123 2584.5,-117 2584.5,-111 2584.5,-111 2584.5,-99 2584.5,-99 2584.5,-93 2590.5,-87 2596.5,-87 2596.5,-87 2667.5,-87 2667.5,-87 2673.5,-87 2679.5,-93 2679.5,-99 2679.5,-99 2679.5,-111 2679.5,-111 2679.5,-117 2673.5,-123 2667.5,-123\"/>\n<text text-anchor=\"middle\" x=\"2632\" y=\"-101.3\" font-family=\"Times,serif\" font-size=\"14.00\" fill=\"#000000\">O2Sat&lt;97.75</text>\n</g>\n<!-- 19&#45;&gt;39 -->\n<g id=\"edge39\" class=\"edge\">\n<title>19&#45;&gt;39</title>\n<path fill=\"none\" stroke=\"#0000ff\" d=\"M2843.2283,-178.2146C2801.7155,-163.8257 2736.2312,-141.1279 2689.1779,-124.8186\"/>\n<polygon fill=\"#0000ff\" stroke=\"#0000ff\" points=\"2690.3239,-121.5116 2679.7292,-121.5436 2688.0314,-128.1256 2690.3239,-121.5116\"/>\n<text text-anchor=\"middle\" x=\"2808.5\" y=\"-144.8\" font-family=\"Times,serif\" font-size=\"14.00\" fill=\"#000000\">yes, missing</text>\n</g>\n<!-- 40 -->\n<g id=\"node41\" class=\"node\">\n<title>40</title>\n<path fill=\"#78cb0e\" stroke=\"#000000\" d=\"M2918.5,-123C2918.5,-123 2847.5,-123 2847.5,-123 2841.5,-123 2835.5,-117 2835.5,-111 2835.5,-111 2835.5,-99 2835.5,-99 2835.5,-93 2841.5,-87 2847.5,-87 2847.5,-87 2918.5,-87 2918.5,-87 2924.5,-87 2930.5,-93 2930.5,-99 2930.5,-99 2930.5,-111 2930.5,-111 2930.5,-117 2924.5,-123 2918.5,-123\"/>\n<text text-anchor=\"middle\" x=\"2883\" y=\"-101.3\" font-family=\"Times,serif\" font-size=\"14.00\" fill=\"#000000\">O2Sat&lt;94.75</text>\n</g>\n<!-- 19&#45;&gt;40 -->\n<g id=\"edge40\" class=\"edge\">\n<title>19&#45;&gt;40</title>\n<path fill=\"none\" stroke=\"#ff0000\" d=\"M2883,-173.9735C2883,-162.1918 2883,-146.5607 2883,-133.1581\"/>\n<polygon fill=\"#ff0000\" stroke=\"#ff0000\" points=\"2886.5001,-133.0033 2883,-123.0034 2879.5001,-133.0034 2886.5001,-133.0033\"/>\n<text text-anchor=\"middle\" x=\"2891\" y=\"-144.8\" font-family=\"Times,serif\" font-size=\"14.00\" fill=\"#000000\">no</text>\n</g>\n<!-- 41 -->\n<g id=\"node46\" class=\"node\">\n<title>41</title>\n<path fill=\"#78cb0e\" stroke=\"#000000\" d=\"M3268.5,-123C3268.5,-123 3213.5,-123 3213.5,-123 3207.5,-123 3201.5,-117 3201.5,-111 3201.5,-111 3201.5,-99 3201.5,-99 3201.5,-93 3207.5,-87 3213.5,-87 3213.5,-87 3268.5,-87 3268.5,-87 3274.5,-87 3280.5,-93 3280.5,-99 3280.5,-99 3280.5,-111 3280.5,-111 3280.5,-117 3274.5,-123 3268.5,-123\"/>\n<text text-anchor=\"middle\" x=\"3241\" y=\"-101.3\" font-family=\"Times,serif\" font-size=\"14.00\" fill=\"#000000\">HR&lt;87.75</text>\n</g>\n<!-- 20&#45;&gt;41 -->\n<g id=\"edge45\" class=\"edge\">\n<title>20&#45;&gt;41</title>\n<path fill=\"none\" stroke=\"#0000ff\" d=\"M3284.6145,-173.9362C3279.6407,-168.3827 3274.3841,-162.1172 3270,-156 3264.6266,-148.5024 3259.4258,-139.9271 3254.9478,-131.9748\"/>\n<polygon fill=\"#0000ff\" stroke=\"#0000ff\" points=\"3257.9244,-130.1229 3250.0562,-123.0277 3251.7824,-133.481 3257.9244,-130.1229\"/>\n<text text-anchor=\"middle\" x=\"3305.5\" y=\"-144.8\" font-family=\"Times,serif\" font-size=\"14.00\" fill=\"#000000\">yes, missing</text>\n</g>\n<!-- 42 -->\n<g id=\"node47\" class=\"node\">\n<title>42</title>\n<path fill=\"#78cb0e\" stroke=\"#000000\" d=\"M3425.5,-123C3425.5,-123 3354.5,-123 3354.5,-123 3348.5,-123 3342.5,-117 3342.5,-111 3342.5,-111 3342.5,-99 3342.5,-99 3342.5,-93 3348.5,-87 3354.5,-87 3354.5,-87 3425.5,-87 3425.5,-87 3431.5,-87 3437.5,-93 3437.5,-99 3437.5,-99 3437.5,-111 3437.5,-111 3437.5,-117 3431.5,-123 3425.5,-123\"/>\n<text text-anchor=\"middle\" x=\"3390\" y=\"-101.3\" font-family=\"Times,serif\" font-size=\"14.00\" fill=\"#000000\">Resp&lt;24.125</text>\n</g>\n<!-- 20&#45;&gt;42 -->\n<g id=\"edge46\" class=\"edge\">\n<title>20&#45;&gt;42</title>\n<path fill=\"none\" stroke=\"#ff0000\" d=\"M3322.056,-173.9127C3328.2065,-168.2526 3334.946,-161.9342 3341,-156 3349.3247,-147.84 3358.2139,-138.7183 3366.104,-130.4704\"/>\n<polygon fill=\"#ff0000\" stroke=\"#ff0000\" points=\"3368.6689,-132.8523 3373.0244,-123.1941 3363.5966,-128.0281 3368.6689,-132.8523\"/>\n<text text-anchor=\"middle\" x=\"3363\" y=\"-144.8\" font-family=\"Times,serif\" font-size=\"14.00\" fill=\"#000000\">no</text>\n</g>\n<!-- 79 -->\n<g id=\"node42\" class=\"node\">\n<title>79</title>\n<polygon fill=\"#e48038\" stroke=\"#000000\" points=\"2551.5,-36 2412.5,-36 2412.5,0 2551.5,0 2551.5,-36\"/>\n<text text-anchor=\"middle\" x=\"2482\" y=\"-14.3\" font-family=\"Times,serif\" font-size=\"14.00\" fill=\"#000000\">leaf=0.00482520927</text>\n</g>\n<!-- 39&#45;&gt;79 -->\n<g id=\"edge41\" class=\"edge\">\n<title>39&#45;&gt;79</title>\n<path fill=\"none\" stroke=\"#0000ff\" d=\"M2591.3363,-86.8438C2580.0401,-81.435 2567.8899,-75.2692 2557,-69 2542.9187,-60.8936 2528.0038,-51.0362 2515.2151,-42.1565\"/>\n<polygon fill=\"#0000ff\" stroke=\"#0000ff\" points=\"2516.9316,-39.0849 2506.7374,-36.1986 2512.9067,-44.8121 2516.9316,-39.0849\"/>\n<text text-anchor=\"middle\" x=\"2592.5\" y=\"-57.8\" font-family=\"Times,serif\" font-size=\"14.00\" fill=\"#000000\">yes, missing</text>\n</g>\n<!-- 80 -->\n<g id=\"node43\" class=\"node\">\n<title>80</title>\n<polygon fill=\"#e48038\" stroke=\"#000000\" points=\"2694,-36 2570,-36 2570,0 2694,0 2694,-36\"/>\n<text text-anchor=\"middle\" x=\"2632\" y=\"-14.3\" font-family=\"Times,serif\" font-size=\"14.00\" fill=\"#000000\">leaf=0.079756178</text>\n</g>\n<!-- 39&#45;&gt;80 -->\n<g id=\"edge42\" class=\"edge\">\n<title>39&#45;&gt;80</title>\n<path fill=\"none\" stroke=\"#ff0000\" d=\"M2632,-86.9735C2632,-75.1918 2632,-59.5607 2632,-46.1581\"/>\n<polygon fill=\"#ff0000\" stroke=\"#ff0000\" points=\"2635.5001,-46.0033 2632,-36.0034 2628.5001,-46.0034 2635.5001,-46.0033\"/>\n<text text-anchor=\"middle\" x=\"2640\" y=\"-57.8\" font-family=\"Times,serif\" font-size=\"14.00\" fill=\"#000000\">no</text>\n</g>\n<!-- 81 -->\n<g id=\"node44\" class=\"node\">\n<title>81</title>\n<polygon fill=\"#e48038\" stroke=\"#000000\" points=\"2843.5,-36 2712.5,-36 2712.5,0 2843.5,0 2843.5,-36\"/>\n<text text-anchor=\"middle\" x=\"2778\" y=\"-14.3\" font-family=\"Times,serif\" font-size=\"14.00\" fill=\"#000000\">leaf=0.0279350337</text>\n</g>\n<!-- 40&#45;&gt;81 -->\n<g id=\"edge43\" class=\"edge\">\n<title>40&#45;&gt;81</title>\n<path fill=\"none\" stroke=\"#0000ff\" d=\"M2855.1397,-86.9294C2847.1518,-81.4261 2838.5626,-75.1892 2831,-69 2821.3696,-61.1185 2811.3909,-51.847 2802.7246,-43.3859\"/>\n<polygon fill=\"#0000ff\" stroke=\"#0000ff\" points=\"2805.0549,-40.7676 2795.4884,-36.2143 2800.1274,-45.7396 2805.0549,-40.7676\"/>\n<text text-anchor=\"middle\" x=\"2866.5\" y=\"-57.8\" font-family=\"Times,serif\" font-size=\"14.00\" fill=\"#000000\">yes, missing</text>\n</g>\n<!-- 82 -->\n<g id=\"node45\" class=\"node\">\n<title>82</title>\n<polygon fill=\"#e48038\" stroke=\"#000000\" points=\"3008,-36 2862,-36 2862,0 3008,0 3008,-36\"/>\n<text text-anchor=\"middle\" x=\"2935\" y=\"-14.3\" font-family=\"Times,serif\" font-size=\"14.00\" fill=\"#000000\">leaf=0.000220765476</text>\n</g>\n<!-- 40&#45;&gt;82 -->\n<g id=\"edge44\" class=\"edge\">\n<title>40&#45;&gt;82</title>\n<path fill=\"none\" stroke=\"#ff0000\" d=\"M2893.7744,-86.9735C2901.0256,-74.8418 2910.7162,-58.6287 2918.8801,-44.9698\"/>\n<polygon fill=\"#ff0000\" stroke=\"#ff0000\" points=\"2922.1132,-46.3827 2924.2394,-36.0034 2916.1046,-42.7913 2922.1132,-46.3827\"/>\n<text text-anchor=\"middle\" x=\"2921\" y=\"-57.8\" font-family=\"Times,serif\" font-size=\"14.00\" fill=\"#000000\">no</text>\n</g>\n<!-- 83 -->\n<g id=\"node48\" class=\"node\">\n<title>83</title>\n<polygon fill=\"#e48038\" stroke=\"#000000\" points=\"3157.5,-36 3026.5,-36 3026.5,0 3157.5,0 3157.5,-36\"/>\n<text text-anchor=\"middle\" x=\"3092\" y=\"-14.3\" font-family=\"Times,serif\" font-size=\"14.00\" fill=\"#000000\">leaf=0.0775791332</text>\n</g>\n<!-- 41&#45;&gt;83 -->\n<g id=\"edge47\" class=\"edge\">\n<title>41&#45;&gt;83</title>\n<path fill=\"none\" stroke=\"#0000ff\" d=\"M3201.4761,-87.445C3189.8532,-81.9058 3177.2451,-75.5205 3166,-69 3152.072,-60.9238 3137.3493,-51.0722 3124.7354,-42.1887\"/>\n<polygon fill=\"#0000ff\" stroke=\"#0000ff\" points=\"3126.5493,-39.1834 3116.3753,-36.2269 3122.485,-44.8827 3126.5493,-39.1834\"/>\n<text text-anchor=\"middle\" x=\"3201.5\" y=\"-57.8\" font-family=\"Times,serif\" font-size=\"14.00\" fill=\"#000000\">yes, missing</text>\n</g>\n<!-- 84 -->\n<g id=\"node49\" class=\"node\">\n<title>84</title>\n<polygon fill=\"#e48038\" stroke=\"#000000\" points=\"3306.5,-36 3175.5,-36 3175.5,0 3306.5,0 3306.5,-36\"/>\n<text text-anchor=\"middle\" x=\"3241\" y=\"-14.3\" font-family=\"Times,serif\" font-size=\"14.00\" fill=\"#000000\">leaf=0.0463533215</text>\n</g>\n<!-- 41&#45;&gt;84 -->\n<g id=\"edge48\" class=\"edge\">\n<title>41&#45;&gt;84</title>\n<path fill=\"none\" stroke=\"#ff0000\" d=\"M3241,-86.9735C3241,-75.1918 3241,-59.5607 3241,-46.1581\"/>\n<polygon fill=\"#ff0000\" stroke=\"#ff0000\" points=\"3244.5001,-46.0033 3241,-36.0034 3237.5001,-46.0034 3244.5001,-46.0033\"/>\n<text text-anchor=\"middle\" x=\"3249\" y=\"-57.8\" font-family=\"Times,serif\" font-size=\"14.00\" fill=\"#000000\">no</text>\n</g>\n<!-- 85 -->\n<g id=\"node50\" class=\"node\">\n<title>85</title>\n<polygon fill=\"#e48038\" stroke=\"#000000\" points=\"3455.5,-36 3324.5,-36 3324.5,0 3455.5,0 3455.5,-36\"/>\n<text text-anchor=\"middle\" x=\"3390\" y=\"-14.3\" font-family=\"Times,serif\" font-size=\"14.00\" fill=\"#000000\">leaf=0.0198226552</text>\n</g>\n<!-- 42&#45;&gt;85 -->\n<g id=\"edge49\" class=\"edge\">\n<title>42&#45;&gt;85</title>\n<path fill=\"none\" stroke=\"#0000ff\" d=\"M3390,-86.9735C3390,-75.1918 3390,-59.5607 3390,-46.1581\"/>\n<polygon fill=\"#0000ff\" stroke=\"#0000ff\" points=\"3393.5001,-46.0033 3390,-36.0034 3386.5001,-46.0034 3393.5001,-46.0033\"/>\n<text text-anchor=\"middle\" x=\"3425.5\" y=\"-57.8\" font-family=\"Times,serif\" font-size=\"14.00\" fill=\"#000000\">yes, missing</text>\n</g>\n<!-- 86 -->\n<g id=\"node51\" class=\"node\">\n<title>86</title>\n<polygon fill=\"#e48038\" stroke=\"#000000\" points=\"3604.5,-36 3473.5,-36 3473.5,0 3604.5,0 3604.5,-36\"/>\n<text text-anchor=\"middle\" x=\"3539\" y=\"-14.3\" font-family=\"Times,serif\" font-size=\"14.00\" fill=\"#000000\">leaf=0.0374578461</text>\n</g>\n<!-- 42&#45;&gt;86 -->\n<g id=\"edge50\" class=\"edge\">\n<title>42&#45;&gt;86</title>\n<path fill=\"none\" stroke=\"#ff0000\" d=\"M3430.6894,-86.8883C3441.9858,-81.48 3454.1297,-75.3032 3465,-69 3478.928,-60.9238 3493.6507,-51.0722 3506.2646,-42.1887\"/>\n<polygon fill=\"#ff0000\" stroke=\"#ff0000\" points=\"3508.515,-44.8827 3514.6247,-36.2269 3504.4507,-39.1834 3508.515,-44.8827\"/>\n<text text-anchor=\"middle\" x=\"3497\" y=\"-57.8\" font-family=\"Times,serif\" font-size=\"14.00\" fill=\"#000000\">no</text>\n</g>\n<!-- 43 -->\n<g id=\"node54\" class=\"node\">\n<title>43</title>\n<path fill=\"#78cb0e\" stroke=\"#000000\" d=\"M3864.5,-123C3864.5,-123 3809.5,-123 3809.5,-123 3803.5,-123 3797.5,-117 3797.5,-111 3797.5,-111 3797.5,-99 3797.5,-99 3797.5,-93 3803.5,-87 3809.5,-87 3809.5,-87 3864.5,-87 3864.5,-87 3870.5,-87 3876.5,-93 3876.5,-99 3876.5,-99 3876.5,-111 3876.5,-111 3876.5,-117 3870.5,-123 3864.5,-123\"/>\n<text text-anchor=\"middle\" x=\"3837\" y=\"-101.3\" font-family=\"Times,serif\" font-size=\"14.00\" fill=\"#000000\">HR&lt;57.25</text>\n</g>\n<!-- 21&#45;&gt;43 -->\n<g id=\"edge53\" class=\"edge\">\n<title>21&#45;&gt;43</title>\n<path fill=\"none\" stroke=\"#0000ff\" d=\"M3878.5746,-173.7138C3873.5448,-168.2556 3868.3012,-162.0965 3864,-156 3858.7696,-148.5864 3853.8608,-140.0357 3849.7007,-132.0801\"/>\n<polygon fill=\"#0000ff\" stroke=\"#0000ff\" points=\"3852.8111,-130.4746 3845.1866,-123.1181 3846.5593,-133.6236 3852.8111,-130.4746\"/>\n<text text-anchor=\"middle\" x=\"3899.5\" y=\"-144.8\" font-family=\"Times,serif\" font-size=\"14.00\" fill=\"#000000\">yes, missing</text>\n</g>\n<!-- 44 -->\n<g id=\"node55\" class=\"node\">\n<title>44</title>\n<path fill=\"#78cb0e\" stroke=\"#000000\" d=\"M4018.5,-123C4018.5,-123 3947.5,-123 3947.5,-123 3941.5,-123 3935.5,-117 3935.5,-111 3935.5,-111 3935.5,-99 3935.5,-99 3935.5,-93 3941.5,-87 3947.5,-87 3947.5,-87 4018.5,-87 4018.5,-87 4024.5,-87 4030.5,-93 4030.5,-99 4030.5,-99 4030.5,-111 4030.5,-111 4030.5,-117 4024.5,-123 4018.5,-123\"/>\n<text text-anchor=\"middle\" x=\"3983\" y=\"-101.3\" font-family=\"Times,serif\" font-size=\"14.00\" fill=\"#000000\">O2Sat&lt;96.75</text>\n</g>\n<!-- 21&#45;&gt;44 -->\n<g id=\"edge54\" class=\"edge\">\n<title>21&#45;&gt;44</title>\n<path fill=\"none\" stroke=\"#ff0000\" d=\"M3916.5375,-173.8971C3922.5301,-168.2364 3929.0978,-161.9215 3935,-156 3943.0659,-147.9076 3951.6778,-138.8845 3959.348,-130.7043\"/>\n<polygon fill=\"#ff0000\" stroke=\"#ff0000\" points=\"3962.1059,-132.8788 3966.3648,-123.1776 3956.9858,-128.1055 3962.1059,-132.8788\"/>\n<text text-anchor=\"middle\" x=\"3957\" y=\"-144.8\" font-family=\"Times,serif\" font-size=\"14.00\" fill=\"#000000\">no</text>\n</g>\n<!-- 45 -->\n<g id=\"node60\" class=\"node\">\n<title>45</title>\n<path fill=\"#78cb0e\" stroke=\"#000000\" d=\"M4296.5,-123C4296.5,-123 4249.5,-123 4249.5,-123 4243.5,-123 4237.5,-117 4237.5,-111 4237.5,-111 4237.5,-99 4237.5,-99 4237.5,-93 4243.5,-87 4249.5,-87 4249.5,-87 4296.5,-87 4296.5,-87 4302.5,-87 4308.5,-93 4308.5,-99 4308.5,-99 4308.5,-111 4308.5,-111 4308.5,-117 4302.5,-123 4296.5,-123\"/>\n<text text-anchor=\"middle\" x=\"4273\" y=\"-101.3\" font-family=\"Times,serif\" font-size=\"14.00\" fill=\"#000000\">HR&lt;49.5</text>\n</g>\n<!-- 22&#45;&gt;45 -->\n<g id=\"edge59\" class=\"edge\">\n<title>22&#45;&gt;45</title>\n<path fill=\"none\" stroke=\"#0000ff\" d=\"M4273,-173.9735C4273,-162.1918 4273,-146.5607 4273,-133.1581\"/>\n<polygon fill=\"#0000ff\" stroke=\"#0000ff\" points=\"4276.5001,-133.0033 4273,-123.0034 4269.5001,-133.0034 4276.5001,-133.0033\"/>\n<text text-anchor=\"middle\" x=\"4308.5\" y=\"-144.8\" font-family=\"Times,serif\" font-size=\"14.00\" fill=\"#000000\">yes, missing</text>\n</g>\n<!-- 46 -->\n<g id=\"node61\" class=\"node\">\n<title>46</title>\n<polygon fill=\"#e48038\" stroke=\"#000000\" points=\"4455,-123 4327,-123 4327,-87 4455,-87 4455,-123\"/>\n<text text-anchor=\"middle\" x=\"4391\" y=\"-101.3\" font-family=\"Times,serif\" font-size=\"14.00\" fill=\"#000000\">leaf=&#45;0.127927929</text>\n</g>\n<!-- 22&#45;&gt;46 -->\n<g id=\"edge60\" class=\"edge\">\n<title>22&#45;&gt;46</title>\n<path fill=\"none\" stroke=\"#ff0000\" d=\"M4307.2278,-179.226C4320.674,-173.3034 4335.781,-165.4619 4348,-156 4357.021,-149.0145 4365.4668,-139.8528 4372.4443,-131.2242\"/>\n<polygon fill=\"#ff0000\" stroke=\"#ff0000\" points=\"4375.3,-133.2529 4378.655,-123.2033 4369.7653,-128.9673 4375.3,-133.2529\"/>\n<text text-anchor=\"middle\" x=\"4372\" y=\"-144.8\" font-family=\"Times,serif\" font-size=\"14.00\" fill=\"#000000\">no</text>\n</g>\n<!-- 87 -->\n<g id=\"node56\" class=\"node\">\n<title>87</title>\n<polygon fill=\"#e48038\" stroke=\"#000000\" points=\"3753.5,-36 3622.5,-36 3622.5,0 3753.5,0 3753.5,-36\"/>\n<text text-anchor=\"middle\" x=\"3688\" y=\"-14.3\" font-family=\"Times,serif\" font-size=\"14.00\" fill=\"#000000\">leaf=0.0984781608</text>\n</g>\n<!-- 43&#45;&gt;87 -->\n<g id=\"edge55\" class=\"edge\">\n<title>43&#45;&gt;87</title>\n<path fill=\"none\" stroke=\"#0000ff\" d=\"M3797.4761,-87.445C3785.8532,-81.9058 3773.2451,-75.5205 3762,-69 3748.072,-60.9238 3733.3493,-51.0722 3720.7354,-42.1887\"/>\n<polygon fill=\"#0000ff\" stroke=\"#0000ff\" points=\"3722.5493,-39.1834 3712.3753,-36.2269 3718.485,-44.8827 3722.5493,-39.1834\"/>\n<text text-anchor=\"middle\" x=\"3797.5\" y=\"-57.8\" font-family=\"Times,serif\" font-size=\"14.00\" fill=\"#000000\">yes, missing</text>\n</g>\n<!-- 88 -->\n<g id=\"node57\" class=\"node\">\n<title>88</title>\n<polygon fill=\"#e48038\" stroke=\"#000000\" points=\"3902.5,-36 3771.5,-36 3771.5,0 3902.5,0 3902.5,-36\"/>\n<text text-anchor=\"middle\" x=\"3837\" y=\"-14.3\" font-family=\"Times,serif\" font-size=\"14.00\" fill=\"#000000\">leaf=0.0431199409</text>\n</g>\n<!-- 43&#45;&gt;88 -->\n<g id=\"edge56\" class=\"edge\">\n<title>43&#45;&gt;88</title>\n<path fill=\"none\" stroke=\"#ff0000\" d=\"M3837,-86.9735C3837,-75.1918 3837,-59.5607 3837,-46.1581\"/>\n<polygon fill=\"#ff0000\" stroke=\"#ff0000\" points=\"3840.5001,-46.0033 3837,-36.0034 3833.5001,-46.0034 3840.5001,-46.0033\"/>\n<text text-anchor=\"middle\" x=\"3845\" y=\"-57.8\" font-family=\"Times,serif\" font-size=\"14.00\" fill=\"#000000\">no</text>\n</g>\n<!-- 89 -->\n<g id=\"node58\" class=\"node\">\n<title>89</title>\n<polygon fill=\"#e48038\" stroke=\"#000000\" points=\"4045,-36 3921,-36 3921,0 4045,0 4045,-36\"/>\n<text text-anchor=\"middle\" x=\"3983\" y=\"-14.3\" font-family=\"Times,serif\" font-size=\"14.00\" fill=\"#000000\">leaf=0.043748688</text>\n</g>\n<!-- 44&#45;&gt;89 -->\n<g id=\"edge57\" class=\"edge\">\n<title>44&#45;&gt;89</title>\n<path fill=\"none\" stroke=\"#0000ff\" d=\"M3983,-86.9735C3983,-75.1918 3983,-59.5607 3983,-46.1581\"/>\n<polygon fill=\"#0000ff\" stroke=\"#0000ff\" points=\"3986.5001,-46.0033 3983,-36.0034 3979.5001,-46.0034 3986.5001,-46.0033\"/>\n<text text-anchor=\"middle\" x=\"4018.5\" y=\"-57.8\" font-family=\"Times,serif\" font-size=\"14.00\" fill=\"#000000\">yes, missing</text>\n</g>\n<!-- 90 -->\n<g id=\"node59\" class=\"node\">\n<title>90</title>\n<polygon fill=\"#e48038\" stroke=\"#000000\" points=\"4194.5,-36 4063.5,-36 4063.5,0 4194.5,0 4194.5,-36\"/>\n<text text-anchor=\"middle\" x=\"4129\" y=\"-14.3\" font-family=\"Times,serif\" font-size=\"14.00\" fill=\"#000000\">leaf=0.0877562985</text>\n</g>\n<!-- 44&#45;&gt;90 -->\n<g id=\"edge58\" class=\"edge\">\n<title>44&#45;&gt;90</title>\n<path fill=\"none\" stroke=\"#ff0000\" d=\"M4024.1602,-86.8395C4035.3461,-81.4765 4047.3159,-75.3351 4058,-69 4071.5767,-60.9498 4085.8401,-51.0234 4097.9915,-42.0738\"/>\n<polygon fill=\"#ff0000\" stroke=\"#ff0000\" points=\"4100.1142,-44.8569 4106.0323,-36.0691 4095.9257,-39.2483 4100.1142,-44.8569\"/>\n<text text-anchor=\"middle\" x=\"4089\" y=\"-57.8\" font-family=\"Times,serif\" font-size=\"14.00\" fill=\"#000000\">no</text>\n</g>\n<!-- 91 -->\n<g id=\"node62\" class=\"node\">\n<title>91</title>\n<polygon fill=\"#e48038\" stroke=\"#000000\" points=\"4333.5,-36 4212.5,-36 4212.5,0 4333.5,0 4333.5,-36\"/>\n<text text-anchor=\"middle\" x=\"4273\" y=\"-14.3\" font-family=\"Times,serif\" font-size=\"14.00\" fill=\"#000000\">leaf=&#45;0.12523365</text>\n</g>\n<!-- 45&#45;&gt;91 -->\n<g id=\"edge61\" class=\"edge\">\n<title>45&#45;&gt;91</title>\n<path fill=\"none\" stroke=\"#0000ff\" d=\"M4273,-86.9735C4273,-75.1918 4273,-59.5607 4273,-46.1581\"/>\n<polygon fill=\"#0000ff\" stroke=\"#0000ff\" points=\"4276.5001,-46.0033 4273,-36.0034 4269.5001,-46.0034 4276.5001,-46.0033\"/>\n<text text-anchor=\"middle\" x=\"4308.5\" y=\"-57.8\" font-family=\"Times,serif\" font-size=\"14.00\" fill=\"#000000\">yes, missing</text>\n</g>\n<!-- 92 -->\n<g id=\"node63\" class=\"node\">\n<title>92</title>\n<polygon fill=\"#e48038\" stroke=\"#000000\" points=\"4482.5,-36 4351.5,-36 4351.5,0 4482.5,0 4482.5,-36\"/>\n<text text-anchor=\"middle\" x=\"4417\" y=\"-14.3\" font-family=\"Times,serif\" font-size=\"14.00\" fill=\"#000000\">leaf=0.0778157935</text>\n</g>\n<!-- 45&#45;&gt;92 -->\n<g id=\"edge62\" class=\"edge\">\n<title>45&#45;&gt;92</title>\n<path fill=\"none\" stroke=\"#ff0000\" d=\"M4308.8247,-89.4881C4321.4763,-83.5737 4335.627,-76.4507 4348,-69 4361.144,-61.0851 4374.8809,-51.2833 4386.6059,-42.3942\"/>\n<polygon fill=\"#ff0000\" stroke=\"#ff0000\" points=\"4388.9626,-44.997 4394.7507,-36.123 4384.692,-39.4506 4388.9626,-44.997\"/>\n<text text-anchor=\"middle\" x=\"4378\" y=\"-57.8\" font-family=\"Times,serif\" font-size=\"14.00\" fill=\"#000000\">no</text>\n</g>\n<!-- 11 -->\n<g id=\"node66\" class=\"node\">\n<title>11</title>\n<path fill=\"#78cb0e\" stroke=\"#000000\" d=\"M5418.5,-297C5418.5,-297 5347.5,-297 5347.5,-297 5341.5,-297 5335.5,-291 5335.5,-285 5335.5,-285 5335.5,-273 5335.5,-273 5335.5,-267 5341.5,-261 5347.5,-261 5347.5,-261 5418.5,-261 5418.5,-261 5424.5,-261 5430.5,-267 5430.5,-273 5430.5,-273 5430.5,-285 5430.5,-285 5430.5,-291 5424.5,-297 5418.5,-297\"/>\n<text text-anchor=\"middle\" x=\"5383\" y=\"-275.3\" font-family=\"Times,serif\" font-size=\"14.00\" fill=\"#000000\">O2Sat&lt;99.75</text>\n</g>\n<!-- 5&#45;&gt;11 -->\n<g id=\"edge65\" class=\"edge\">\n<title>5&#45;&gt;11</title>\n<path fill=\"none\" stroke=\"#0000ff\" d=\"M5649.8958,-353.903C5595.2898,-338.5781 5501.0101,-312.119 5440.3653,-295.0993\"/>\n<polygon fill=\"#0000ff\" stroke=\"#0000ff\" points=\"5441.1362,-291.6805 5430.5624,-292.3482 5439.2447,-298.4201 5441.1362,-291.6805\"/>\n<text text-anchor=\"middle\" x=\"5592.5\" y=\"-318.8\" font-family=\"Times,serif\" font-size=\"14.00\" fill=\"#000000\">yes, missing</text>\n</g>\n<!-- 12 -->\n<g id=\"node67\" class=\"node\">\n<title>12</title>\n<path fill=\"#78cb0e\" stroke=\"#000000\" d=\"M6054,-297C6054,-297 5992,-297 5992,-297 5986,-297 5980,-291 5980,-285 5980,-285 5980,-273 5980,-273 5980,-267 5986,-261 5992,-261 5992,-261 6054,-261 6054,-261 6060,-261 6066,-267 6066,-273 6066,-273 6066,-285 6066,-285 6066,-291 6060,-297 6054,-297\"/>\n<text text-anchor=\"middle\" x=\"6023\" y=\"-275.3\" font-family=\"Times,serif\" font-size=\"14.00\" fill=\"#000000\">HR&lt;125.75</text>\n</g>\n<!-- 5&#45;&gt;12 -->\n<g id=\"edge66\" class=\"edge\">\n<title>5&#45;&gt;12</title>\n<path fill=\"none\" stroke=\"#ff0000\" d=\"M5736.1417,-354.6263C5796.1744,-338.7995 5904.8323,-310.1533 5969.8086,-293.0232\"/>\n<polygon fill=\"#ff0000\" stroke=\"#ff0000\" points=\"5971.0703,-296.3102 5979.8477,-290.3765 5969.2858,-289.5415 5971.0703,-296.3102\"/>\n<text text-anchor=\"middle\" x=\"5886\" y=\"-318.8\" font-family=\"Times,serif\" font-size=\"14.00\" fill=\"#000000\">no</text>\n</g>\n<!-- 13 -->\n<g id=\"node96\" class=\"node\">\n<title>13</title>\n<path fill=\"#78cb0e\" stroke=\"#000000\" d=\"M7339.5,-297C7339.5,-297 7278.5,-297 7278.5,-297 7272.5,-297 7266.5,-291 7266.5,-285 7266.5,-285 7266.5,-273 7266.5,-273 7266.5,-267 7272.5,-261 7278.5,-261 7278.5,-261 7339.5,-261 7339.5,-261 7345.5,-261 7351.5,-267 7351.5,-273 7351.5,-273 7351.5,-285 7351.5,-285 7351.5,-291 7345.5,-297 7339.5,-297\"/>\n<text text-anchor=\"middle\" x=\"7309\" y=\"-275.3\" font-family=\"Times,serif\" font-size=\"14.00\" fill=\"#000000\">HR&lt;111.75</text>\n</g>\n<!-- 6&#45;&gt;13 -->\n<g id=\"edge95\" class=\"edge\">\n<title>6&#45;&gt;13</title>\n<path fill=\"none\" stroke=\"#0000ff\" d=\"M7309,-347.9735C7309,-336.1918 7309,-320.5607 7309,-307.1581\"/>\n<polygon fill=\"#0000ff\" stroke=\"#0000ff\" points=\"7312.5001,-307.0033 7309,-297.0034 7305.5001,-307.0034 7312.5001,-307.0033\"/>\n<text text-anchor=\"middle\" x=\"7344.5\" y=\"-318.8\" font-family=\"Times,serif\" font-size=\"14.00\" fill=\"#000000\">yes, missing</text>\n</g>\n<!-- 14 -->\n<g id=\"node97\" class=\"node\">\n<title>14</title>\n<path fill=\"#78cb0e\" stroke=\"#000000\" d=\"M8078,-297C8078,-297 8016,-297 8016,-297 8010,-297 8004,-291 8004,-285 8004,-285 8004,-273 8004,-273 8004,-267 8010,-261 8016,-261 8016,-261 8078,-261 8078,-261 8084,-261 8090,-267 8090,-273 8090,-273 8090,-285 8090,-285 8090,-291 8084,-297 8078,-297\"/>\n<text text-anchor=\"middle\" x=\"8047\" y=\"-275.3\" font-family=\"Times,serif\" font-size=\"14.00\" fill=\"#000000\">HR&lt;113.75</text>\n</g>\n<!-- 6&#45;&gt;14 -->\n<g id=\"edge96\" class=\"edge\">\n<title>6&#45;&gt;14</title>\n<path fill=\"none\" stroke=\"#ff0000\" d=\"M7356.5704,-360.3921C7487.9872,-344.8999 7855.404,-301.5865 7993.5662,-285.2991\"/>\n<polygon fill=\"#ff0000\" stroke=\"#ff0000\" points=\"7994.368,-288.7289 8003.8895,-284.0821 7993.5484,-281.777 7994.368,-288.7289\"/>\n<text text-anchor=\"middle\" x=\"7731\" y=\"-318.8\" font-family=\"Times,serif\" font-size=\"14.00\" fill=\"#000000\">no</text>\n</g>\n<!-- 23 -->\n<g id=\"node68\" class=\"node\">\n<title>23</title>\n<path fill=\"#78cb0e\" stroke=\"#000000\" d=\"M4979.5,-210C4979.5,-210 4908.5,-210 4908.5,-210 4902.5,-210 4896.5,-204 4896.5,-198 4896.5,-198 4896.5,-186 4896.5,-186 4896.5,-180 4902.5,-174 4908.5,-174 4908.5,-174 4979.5,-174 4979.5,-174 4985.5,-174 4991.5,-180 4991.5,-186 4991.5,-186 4991.5,-198 4991.5,-198 4991.5,-204 4985.5,-210 4979.5,-210\"/>\n<text text-anchor=\"middle\" x=\"4944\" y=\"-188.3\" font-family=\"Times,serif\" font-size=\"14.00\" fill=\"#000000\">Resp&lt;10.125</text>\n</g>\n<!-- 11&#45;&gt;23 -->\n<g id=\"edge67\" class=\"edge\">\n<title>11&#45;&gt;23</title>\n<path fill=\"none\" stroke=\"#0000ff\" d=\"M5335.1836,-269.5239C5253.9543,-253.426 5089.3281,-220.8008 5001.7836,-203.4514\"/>\n<polygon fill=\"#0000ff\" stroke=\"#0000ff\" points=\"5002.2471,-199.9753 4991.7574,-201.4645 5000.8862,-206.8417 5002.2471,-199.9753\"/>\n<text text-anchor=\"middle\" x=\"5225.5\" y=\"-231.8\" font-family=\"Times,serif\" font-size=\"14.00\" fill=\"#000000\">yes, missing</text>\n</g>\n<!-- 24 -->\n<g id=\"node69\" class=\"node\">\n<title>24</title>\n<path fill=\"#78cb0e\" stroke=\"#000000\" d=\"M5411,-210C5411,-210 5355,-210 5355,-210 5349,-210 5343,-204 5343,-198 5343,-198 5343,-186 5343,-186 5343,-180 5349,-174 5355,-174 5355,-174 5411,-174 5411,-174 5417,-174 5423,-180 5423,-186 5423,-186 5423,-198 5423,-198 5423,-204 5417,-210 5411,-210\"/>\n<text text-anchor=\"middle\" x=\"5383\" y=\"-188.3\" font-family=\"Times,serif\" font-size=\"14.00\" fill=\"#000000\">Resp&lt;5.25</text>\n</g>\n<!-- 11&#45;&gt;24 -->\n<g id=\"edge68\" class=\"edge\">\n<title>11&#45;&gt;24</title>\n<path fill=\"none\" stroke=\"#ff0000\" d=\"M5383,-260.9735C5383,-249.1918 5383,-233.5607 5383,-220.1581\"/>\n<polygon fill=\"#ff0000\" stroke=\"#ff0000\" points=\"5386.5001,-220.0033 5383,-210.0034 5379.5001,-220.0034 5386.5001,-220.0033\"/>\n<text text-anchor=\"middle\" x=\"5391\" y=\"-231.8\" font-family=\"Times,serif\" font-size=\"14.00\" fill=\"#000000\">no</text>\n</g>\n<!-- 25 -->\n<g id=\"node82\" class=\"node\">\n<title>25</title>\n<path fill=\"#78cb0e\" stroke=\"#000000\" d=\"M6051,-210C6051,-210 5995,-210 5995,-210 5989,-210 5983,-204 5983,-198 5983,-198 5983,-186 5983,-186 5983,-180 5989,-174 5995,-174 5995,-174 6051,-174 6051,-174 6057,-174 6063,-180 6063,-186 6063,-186 6063,-198 6063,-198 6063,-204 6057,-210 6051,-210\"/>\n<text text-anchor=\"middle\" x=\"6023\" y=\"-188.3\" font-family=\"Times,serif\" font-size=\"14.00\" fill=\"#000000\">Resp&lt;9.25</text>\n</g>\n<!-- 12&#45;&gt;25 -->\n<g id=\"edge81\" class=\"edge\">\n<title>12&#45;&gt;25</title>\n<path fill=\"none\" stroke=\"#0000ff\" d=\"M6023,-260.9735C6023,-249.1918 6023,-233.5607 6023,-220.1581\"/>\n<polygon fill=\"#0000ff\" stroke=\"#0000ff\" points=\"6026.5001,-220.0033 6023,-210.0034 6019.5001,-220.0034 6026.5001,-220.0033\"/>\n<text text-anchor=\"middle\" x=\"6058.5\" y=\"-231.8\" font-family=\"Times,serif\" font-size=\"14.00\" fill=\"#000000\">yes, missing</text>\n</g>\n<!-- 26 -->\n<g id=\"node83\" class=\"node\">\n<title>26</title>\n<path fill=\"#78cb0e\" stroke=\"#000000\" d=\"M6435.5,-210C6435.5,-210 6364.5,-210 6364.5,-210 6358.5,-210 6352.5,-204 6352.5,-198 6352.5,-198 6352.5,-186 6352.5,-186 6352.5,-180 6358.5,-174 6364.5,-174 6364.5,-174 6435.5,-174 6435.5,-174 6441.5,-174 6447.5,-180 6447.5,-186 6447.5,-186 6447.5,-198 6447.5,-198 6447.5,-204 6441.5,-210 6435.5,-210\"/>\n<text text-anchor=\"middle\" x=\"6400\" y=\"-188.3\" font-family=\"Times,serif\" font-size=\"14.00\" fill=\"#000000\">O2Sat&lt;98.75</text>\n</g>\n<!-- 12&#45;&gt;26 -->\n<g id=\"edge82\" class=\"edge\">\n<title>12&#45;&gt;26</title>\n<path fill=\"none\" stroke=\"#ff0000\" d=\"M6066.2467,-269.02C6134.2706,-253.3222 6266.3288,-222.8472 6342.3482,-205.3043\"/>\n<polygon fill=\"#ff0000\" stroke=\"#ff0000\" points=\"6343.2809,-208.6811 6352.2378,-203.0221 6341.7068,-201.8604 6343.2809,-208.6811\"/>\n<text text-anchor=\"middle\" x=\"6243\" y=\"-231.8\" font-family=\"Times,serif\" font-size=\"14.00\" fill=\"#000000\">no</text>\n</g>\n<!-- 47 -->\n<g id=\"node70\" class=\"node\">\n<title>47</title>\n<path fill=\"#78cb0e\" stroke=\"#000000\" d=\"M4737,-123C4737,-123 4681,-123 4681,-123 4675,-123 4669,-117 4669,-111 4669,-111 4669,-99 4669,-99 4669,-93 4675,-87 4681,-87 4681,-87 4737,-87 4737,-87 4743,-87 4749,-93 4749,-99 4749,-99 4749,-111 4749,-111 4749,-117 4743,-123 4737,-123\"/>\n<text text-anchor=\"middle\" x=\"4709\" y=\"-101.3\" font-family=\"Times,serif\" font-size=\"14.00\" fill=\"#000000\">Resp&lt;2.25</text>\n</g>\n<!-- 23&#45;&gt;47 -->\n<g id=\"edge69\" class=\"edge\">\n<title>23&#45;&gt;47</title>\n<path fill=\"none\" stroke=\"#0000ff\" d=\"M4896.4442,-174.3943C4856.3397,-159.547 4799.1431,-138.3721 4758.4988,-123.3251\"/>\n<polygon fill=\"#0000ff\" stroke=\"#0000ff\" points=\"4759.6532,-120.0204 4749.0601,-119.8308 4757.2229,-126.585 4759.6532,-120.0204\"/>\n<text text-anchor=\"middle\" x=\"4876.5\" y=\"-144.8\" font-family=\"Times,serif\" font-size=\"14.00\" fill=\"#000000\">yes, missing</text>\n</g>\n<!-- 48 -->\n<g id=\"node71\" class=\"node\">\n<title>48</title>\n<path fill=\"#78cb0e\" stroke=\"#000000\" d=\"M4979.5,-123C4979.5,-123 4908.5,-123 4908.5,-123 4902.5,-123 4896.5,-117 4896.5,-111 4896.5,-111 4896.5,-99 4896.5,-99 4896.5,-93 4902.5,-87 4908.5,-87 4908.5,-87 4979.5,-87 4979.5,-87 4985.5,-87 4991.5,-93 4991.5,-99 4991.5,-99 4991.5,-111 4991.5,-111 4991.5,-117 4985.5,-123 4979.5,-123\"/>\n<text text-anchor=\"middle\" x=\"4944\" y=\"-101.3\" font-family=\"Times,serif\" font-size=\"14.00\" fill=\"#000000\">Resp&lt;19.375</text>\n</g>\n<!-- 23&#45;&gt;48 -->\n<g id=\"edge70\" class=\"edge\">\n<title>23&#45;&gt;48</title>\n<path fill=\"none\" stroke=\"#ff0000\" d=\"M4944,-173.9735C4944,-162.1918 4944,-146.5607 4944,-133.1581\"/>\n<polygon fill=\"#ff0000\" stroke=\"#ff0000\" points=\"4947.5001,-133.0033 4944,-123.0034 4940.5001,-133.0034 4947.5001,-133.0033\"/>\n<text text-anchor=\"middle\" x=\"4952\" y=\"-144.8\" font-family=\"Times,serif\" font-size=\"14.00\" fill=\"#000000\">no</text>\n</g>\n<!-- 49 -->\n<g id=\"node76\" class=\"node\">\n<title>49</title>\n<path fill=\"#78cb0e\" stroke=\"#000000\" d=\"M5348,-123C5348,-123 5286,-123 5286,-123 5280,-123 5274,-117 5274,-111 5274,-111 5274,-99 5274,-99 5274,-93 5280,-87 5286,-87 5286,-87 5348,-87 5348,-87 5354,-87 5360,-93 5360,-99 5360,-99 5360,-111 5360,-111 5360,-117 5354,-123 5348,-123\"/>\n<text text-anchor=\"middle\" x=\"5317\" y=\"-101.3\" font-family=\"Times,serif\" font-size=\"14.00\" fill=\"#000000\">HR&lt;102.25</text>\n</g>\n<!-- 24&#45;&gt;49 -->\n<g id=\"edge75\" class=\"edge\">\n<title>24&#45;&gt;49</title>\n<path fill=\"none\" stroke=\"#0000ff\" d=\"M5362.9871,-173.7849C5357.5015,-168.3278 5351.7601,-162.1516 5347,-156 5341.3068,-148.6425 5335.8872,-140.1082 5331.2602,-132.1503\"/>\n<polygon fill=\"#0000ff\" stroke=\"#0000ff\" points=\"5334.1708,-130.1851 5326.2237,-123.1784 5328.0669,-133.6117 5334.1708,-130.1851\"/>\n<text text-anchor=\"middle\" x=\"5382.5\" y=\"-144.8\" font-family=\"Times,serif\" font-size=\"14.00\" fill=\"#000000\">yes, missing</text>\n</g>\n<!-- 50 -->\n<g id=\"node77\" class=\"node\">\n<title>50</title>\n<path fill=\"#78cb0e\" stroke=\"#000000\" d=\"M5499,-123C5499,-123 5437,-123 5437,-123 5431,-123 5425,-117 5425,-111 5425,-111 5425,-99 5425,-99 5425,-93 5431,-87 5437,-87 5437,-87 5499,-87 5499,-87 5505,-87 5511,-93 5511,-99 5511,-99 5511,-111 5511,-111 5511,-117 5505,-123 5499,-123\"/>\n<text text-anchor=\"middle\" x=\"5468\" y=\"-101.3\" font-family=\"Times,serif\" font-size=\"14.00\" fill=\"#000000\">HR&lt;105.75</text>\n</g>\n<!-- 24&#45;&gt;50 -->\n<g id=\"edge76\" class=\"edge\">\n<title>24&#45;&gt;50</title>\n<path fill=\"none\" stroke=\"#ff0000\" d=\"M5400.6121,-173.9735C5412.9208,-161.3752 5429.5297,-144.3755 5443.1785,-130.4055\"/>\n<polygon fill=\"#ff0000\" stroke=\"#ff0000\" points=\"5445.9256,-132.6021 5450.4105,-123.0034 5440.9186,-127.7103 5445.9256,-132.6021\"/>\n<text text-anchor=\"middle\" x=\"5439\" y=\"-144.8\" font-family=\"Times,serif\" font-size=\"14.00\" fill=\"#000000\">no</text>\n</g>\n<!-- 93 -->\n<g id=\"node72\" class=\"node\">\n<title>93</title>\n<polygon fill=\"#e48038\" stroke=\"#000000\" points=\"4625,-36 4501,-36 4501,0 4625,0 4625,-36\"/>\n<text text-anchor=\"middle\" x=\"4563\" y=\"-14.3\" font-family=\"Times,serif\" font-size=\"14.00\" fill=\"#000000\">leaf=0.109754279</text>\n</g>\n<!-- 47&#45;&gt;93 -->\n<g id=\"edge71\" class=\"edge\">\n<title>47&#45;&gt;93</title>\n<path fill=\"none\" stroke=\"#0000ff\" d=\"M4668.6189,-87.2124C4657.2113,-81.7621 4644.9326,-75.4824 4634,-69 4620.4233,-60.9498 4606.1599,-51.0234 4594.0085,-42.0738\"/>\n<polygon fill=\"#0000ff\" stroke=\"#0000ff\" points=\"4596.0743,-39.2483 4585.9677,-36.0691 4591.8858,-44.8569 4596.0743,-39.2483\"/>\n<text text-anchor=\"middle\" x=\"4669.5\" y=\"-57.8\" font-family=\"Times,serif\" font-size=\"14.00\" fill=\"#000000\">yes, missing</text>\n</g>\n<!-- 94 -->\n<g id=\"node73\" class=\"node\">\n<title>94</title>\n<polygon fill=\"#e48038\" stroke=\"#000000\" points=\"4774.5,-36 4643.5,-36 4643.5,0 4774.5,0 4774.5,-36\"/>\n<text text-anchor=\"middle\" x=\"4709\" y=\"-14.3\" font-family=\"Times,serif\" font-size=\"14.00\" fill=\"#000000\">leaf=0.0466246642</text>\n</g>\n<!-- 47&#45;&gt;94 -->\n<g id=\"edge72\" class=\"edge\">\n<title>47&#45;&gt;94</title>\n<path fill=\"none\" stroke=\"#ff0000\" d=\"M4709,-86.9735C4709,-75.1918 4709,-59.5607 4709,-46.1581\"/>\n<polygon fill=\"#ff0000\" stroke=\"#ff0000\" points=\"4712.5001,-46.0033 4709,-36.0034 4705.5001,-46.0034 4712.5001,-46.0033\"/>\n<text text-anchor=\"middle\" x=\"4717\" y=\"-57.8\" font-family=\"Times,serif\" font-size=\"14.00\" fill=\"#000000\">no</text>\n</g>\n<!-- 95 -->\n<g id=\"node74\" class=\"node\">\n<title>95</title>\n<polygon fill=\"#e48038\" stroke=\"#000000\" points=\"4939,-36 4793,-36 4793,0 4939,0 4939,-36\"/>\n<text text-anchor=\"middle\" x=\"4866\" y=\"-14.3\" font-family=\"Times,serif\" font-size=\"14.00\" fill=\"#000000\">leaf=0.000490546168</text>\n</g>\n<!-- 48&#45;&gt;95 -->\n<g id=\"edge73\" class=\"edge\">\n<title>48&#45;&gt;95</title>\n<path fill=\"none\" stroke=\"#0000ff\" d=\"M4927.8383,-86.9735C4916.6479,-74.4919 4901.5841,-57.6899 4889.126,-43.7944\"/>\n<polygon fill=\"#0000ff\" stroke=\"#0000ff\" points=\"4891.4224,-41.1127 4882.1409,-36.0034 4886.2104,-45.7855 4891.4224,-41.1127\"/>\n<text text-anchor=\"middle\" x=\"4945.5\" y=\"-57.8\" font-family=\"Times,serif\" font-size=\"14.00\" fill=\"#000000\">yes, missing</text>\n</g>\n<!-- 96 -->\n<g id=\"node75\" class=\"node\">\n<title>96</title>\n<polygon fill=\"#e48038\" stroke=\"#000000\" points=\"5088.5,-36 4957.5,-36 4957.5,0 5088.5,0 5088.5,-36\"/>\n<text text-anchor=\"middle\" x=\"5023\" y=\"-14.3\" font-family=\"Times,serif\" font-size=\"14.00\" fill=\"#000000\">leaf=0.0189536083</text>\n</g>\n<!-- 48&#45;&gt;96 -->\n<g id=\"edge74\" class=\"edge\">\n<title>48&#45;&gt;96</title>\n<path fill=\"none\" stroke=\"#ff0000\" d=\"M4966.4925,-86.7518C4972.7353,-81.2941 4979.3467,-75.1259 4985,-69 4992.0028,-61.4118 4998.9602,-52.562 5004.9709,-44.3848\"/>\n<polygon fill=\"#ff0000\" stroke=\"#ff0000\" points=\"5007.8665,-46.3529 5010.8541,-36.188 5002.1797,-42.2712 5007.8665,-46.3529\"/>\n<text text-anchor=\"middle\" x=\"5006\" y=\"-57.8\" font-family=\"Times,serif\" font-size=\"14.00\" fill=\"#000000\">no</text>\n</g>\n<!-- 97 -->\n<g id=\"node78\" class=\"node\">\n<title>97</title>\n<polygon fill=\"#e48038\" stroke=\"#000000\" points=\"5231,-36 5107,-36 5107,0 5231,0 5231,-36\"/>\n<text text-anchor=\"middle\" x=\"5169\" y=\"-14.3\" font-family=\"Times,serif\" font-size=\"14.00\" fill=\"#000000\">leaf=0.127028689</text>\n</g>\n<!-- 49&#45;&gt;97 -->\n<g id=\"edge77\" class=\"edge\">\n<title>49&#45;&gt;97</title>\n<path fill=\"none\" stroke=\"#0000ff\" d=\"M5276.2843,-86.9335C5264.9876,-81.5257 5252.8501,-75.3378 5242,-69 5228.1164,-60.8903 5213.4654,-50.9527 5200.9618,-42.0109\"/>\n<polygon fill=\"#0000ff\" stroke=\"#0000ff\" points=\"5202.836,-39.0467 5192.6844,-36.0141 5198.7292,-44.7154 5202.836,-39.0467\"/>\n<text text-anchor=\"middle\" x=\"5277.5\" y=\"-57.8\" font-family=\"Times,serif\" font-size=\"14.00\" fill=\"#000000\">yes, missing</text>\n</g>\n<!-- 98 -->\n<g id=\"node79\" class=\"node\">\n<title>98</title>\n<polygon fill=\"#e48038\" stroke=\"#000000\" points=\"5385,-36 5249,-36 5249,0 5385,0 5385,-36\"/>\n<text text-anchor=\"middle\" x=\"5317\" y=\"-14.3\" font-family=\"Times,serif\" font-size=\"14.00\" fill=\"#000000\">leaf=&#45;0.0202247184</text>\n</g>\n<!-- 49&#45;&gt;98 -->\n<g id=\"edge78\" class=\"edge\">\n<title>49&#45;&gt;98</title>\n<path fill=\"none\" stroke=\"#ff0000\" d=\"M5317,-86.9735C5317,-75.1918 5317,-59.5607 5317,-46.1581\"/>\n<polygon fill=\"#ff0000\" stroke=\"#ff0000\" points=\"5320.5001,-46.0033 5317,-36.0034 5313.5001,-46.0034 5320.5001,-46.0033\"/>\n<text text-anchor=\"middle\" x=\"5325\" y=\"-57.8\" font-family=\"Times,serif\" font-size=\"14.00\" fill=\"#000000\">no</text>\n</g>\n<!-- 99 -->\n<g id=\"node80\" class=\"node\">\n<title>99</title>\n<polygon fill=\"#e48038\" stroke=\"#000000\" points=\"5533,-36 5403,-36 5403,0 5533,0 5533,-36\"/>\n<text text-anchor=\"middle\" x=\"5468\" y=\"-14.3\" font-family=\"Times,serif\" font-size=\"14.00\" fill=\"#000000\">leaf=0.0311125405</text>\n</g>\n<!-- 50&#45;&gt;99 -->\n<g id=\"edge79\" class=\"edge\">\n<title>50&#45;&gt;99</title>\n<path fill=\"none\" stroke=\"#0000ff\" d=\"M5468,-86.9735C5468,-75.1918 5468,-59.5607 5468,-46.1581\"/>\n<polygon fill=\"#0000ff\" stroke=\"#0000ff\" points=\"5471.5001,-46.0033 5468,-36.0034 5464.5001,-46.0034 5471.5001,-46.0033\"/>\n<text text-anchor=\"middle\" x=\"5503.5\" y=\"-57.8\" font-family=\"Times,serif\" font-size=\"14.00\" fill=\"#000000\">yes, missing</text>\n</g>\n<!-- 100 -->\n<g id=\"node81\" class=\"node\">\n<title>100</title>\n<polygon fill=\"#e48038\" stroke=\"#000000\" points=\"5682.5,-36 5551.5,-36 5551.5,0 5682.5,0 5682.5,-36\"/>\n<text text-anchor=\"middle\" x=\"5617\" y=\"-14.3\" font-family=\"Times,serif\" font-size=\"14.00\" fill=\"#000000\">leaf=0.0767662078</text>\n</g>\n<!-- 50&#45;&gt;100 -->\n<g id=\"edge80\" class=\"edge\">\n<title>50&#45;&gt;100</title>\n<path fill=\"none\" stroke=\"#ff0000\" d=\"M5508.6894,-86.8883C5519.9858,-81.48 5532.1297,-75.3032 5543,-69 5556.928,-60.9238 5571.6507,-51.0722 5584.2646,-42.1887\"/>\n<polygon fill=\"#ff0000\" stroke=\"#ff0000\" points=\"5586.515,-44.8827 5592.6247,-36.2269 5582.4507,-39.1834 5586.515,-44.8827\"/>\n<text text-anchor=\"middle\" x=\"5575\" y=\"-57.8\" font-family=\"Times,serif\" font-size=\"14.00\" fill=\"#000000\">no</text>\n</g>\n<!-- 51 -->\n<g id=\"node84\" class=\"node\">\n<title>51</title>\n<path fill=\"#78cb0e\" stroke=\"#000000\" d=\"M5933,-123C5933,-123 5877,-123 5877,-123 5871,-123 5865,-117 5865,-111 5865,-111 5865,-99 5865,-99 5865,-93 5871,-87 5877,-87 5877,-87 5933,-87 5933,-87 5939,-87 5945,-93 5945,-99 5945,-99 5945,-111 5945,-111 5945,-117 5939,-123 5933,-123\"/>\n<text text-anchor=\"middle\" x=\"5905\" y=\"-101.3\" font-family=\"Times,serif\" font-size=\"14.00\" fill=\"#000000\">Resp&lt;2.25</text>\n</g>\n<!-- 25&#45;&gt;51 -->\n<g id=\"edge83\" class=\"edge\">\n<title>25&#45;&gt;51</title>\n<path fill=\"none\" stroke=\"#0000ff\" d=\"M5988.7124,-173.8288C5979.4644,-168.4658 5969.6343,-162.327 5961,-156 5950.3931,-148.2275 5939.5279,-138.7453 5930.2247,-130.0751\"/>\n<polygon fill=\"#0000ff\" stroke=\"#0000ff\" points=\"5932.4781,-127.3882 5922.8174,-123.0384 5927.657,-132.4634 5932.4781,-127.3882\"/>\n<text text-anchor=\"middle\" x=\"5996.5\" y=\"-144.8\" font-family=\"Times,serif\" font-size=\"14.00\" fill=\"#000000\">yes, missing</text>\n</g>\n<!-- 52 -->\n<g id=\"node85\" class=\"node\">\n<title>52</title>\n<path fill=\"#78cb0e\" stroke=\"#000000\" d=\"M6086.5,-123C6086.5,-123 6015.5,-123 6015.5,-123 6009.5,-123 6003.5,-117 6003.5,-111 6003.5,-111 6003.5,-99 6003.5,-99 6003.5,-93 6009.5,-87 6015.5,-87 6015.5,-87 6086.5,-87 6086.5,-87 6092.5,-87 6098.5,-93 6098.5,-99 6098.5,-99 6098.5,-111 6098.5,-111 6098.5,-117 6092.5,-123 6086.5,-123\"/>\n<text text-anchor=\"middle\" x=\"6051\" y=\"-101.3\" font-family=\"Times,serif\" font-size=\"14.00\" fill=\"#000000\">O2Sat&lt;91.75</text>\n</g>\n<!-- 25&#45;&gt;52 -->\n<g id=\"edge84\" class=\"edge\">\n<title>25&#45;&gt;52</title>\n<path fill=\"none\" stroke=\"#ff0000\" d=\"M6028.8016,-173.9735C6032.631,-162.0751 6037.7239,-146.2508 6042.0655,-132.7606\"/>\n<polygon fill=\"#ff0000\" stroke=\"#ff0000\" points=\"6045.4738,-133.5948 6045.2058,-123.0034 6038.8104,-131.4502 6045.4738,-133.5948\"/>\n<text text-anchor=\"middle\" x=\"6047\" y=\"-144.8\" font-family=\"Times,serif\" font-size=\"14.00\" fill=\"#000000\">no</text>\n</g>\n<!-- 53 -->\n<g id=\"node90\" class=\"node\">\n<title>53</title>\n<path fill=\"#78cb0e\" stroke=\"#000000\" d=\"M6431,-123C6431,-123 6369,-123 6369,-123 6363,-123 6357,-117 6357,-111 6357,-111 6357,-99 6357,-99 6357,-93 6363,-87 6369,-87 6369,-87 6431,-87 6431,-87 6437,-87 6443,-93 6443,-99 6443,-99 6443,-111 6443,-111 6443,-117 6437,-123 6431,-123\"/>\n<text text-anchor=\"middle\" x=\"6400\" y=\"-101.3\" font-family=\"Times,serif\" font-size=\"14.00\" fill=\"#000000\">HR&lt;137.75</text>\n</g>\n<!-- 26&#45;&gt;53 -->\n<g id=\"edge89\" class=\"edge\">\n<title>26&#45;&gt;53</title>\n<path fill=\"none\" stroke=\"#0000ff\" d=\"M6400,-173.9735C6400,-162.1918 6400,-146.5607 6400,-133.1581\"/>\n<polygon fill=\"#0000ff\" stroke=\"#0000ff\" points=\"6403.5001,-133.0033 6400,-123.0034 6396.5001,-133.0034 6403.5001,-133.0033\"/>\n<text text-anchor=\"middle\" x=\"6435.5\" y=\"-144.8\" font-family=\"Times,serif\" font-size=\"14.00\" fill=\"#000000\">yes, missing</text>\n</g>\n<!-- 54 -->\n<g id=\"node91\" class=\"node\">\n<title>54</title>\n<path fill=\"#78cb0e\" stroke=\"#000000\" d=\"M6678,-123C6678,-123 6616,-123 6616,-123 6610,-123 6604,-117 6604,-111 6604,-111 6604,-99 6604,-99 6604,-93 6610,-87 6616,-87 6616,-87 6678,-87 6678,-87 6684,-87 6690,-93 6690,-99 6690,-99 6690,-111 6690,-111 6690,-117 6684,-123 6678,-123\"/>\n<text text-anchor=\"middle\" x=\"6647\" y=\"-101.3\" font-family=\"Times,serif\" font-size=\"14.00\" fill=\"#000000\">HR&lt;174.75</text>\n</g>\n<!-- 26&#45;&gt;54 -->\n<g id=\"edge90\" class=\"edge\">\n<title>26&#45;&gt;54</title>\n<path fill=\"none\" stroke=\"#ff0000\" d=\"M6447.6241,-175.2255C6489.5901,-160.444 6550.6405,-138.9404 6594.1121,-123.6285\"/>\n<polygon fill=\"#ff0000\" stroke=\"#ff0000\" points=\"6595.3886,-126.8897 6603.6579,-120.2663 6593.063,-120.2873 6595.3886,-126.8897\"/>\n<text text-anchor=\"middle\" x=\"6547\" y=\"-144.8\" font-family=\"Times,serif\" font-size=\"14.00\" fill=\"#000000\">no</text>\n</g>\n<!-- 101 -->\n<g id=\"node86\" class=\"node\">\n<title>101</title>\n<polygon fill=\"#e48038\" stroke=\"#000000\" points=\"5825,-36 5701,-36 5701,0 5825,0 5825,-36\"/>\n<text text-anchor=\"middle\" x=\"5763\" y=\"-14.3\" font-family=\"Times,serif\" font-size=\"14.00\" fill=\"#000000\">leaf=0.145562127</text>\n</g>\n<!-- 51&#45;&gt;101 -->\n<g id=\"edge85\" class=\"edge\">\n<title>51&#45;&gt;101</title>\n<path fill=\"none\" stroke=\"#0000ff\" d=\"M5864.8901,-87.5927C5853.3707,-82.1039 5840.9649,-75.7087 5830,-69 5817.1563,-61.1418 5803.8017,-51.3511 5792.4266,-42.455\"/>\n<polygon fill=\"#0000ff\" stroke=\"#0000ff\" points=\"5794.5348,-39.6598 5784.5291,-36.1759 5790.1783,-45.139 5794.5348,-39.6598\"/>\n<text text-anchor=\"middle\" x=\"5865.5\" y=\"-57.8\" font-family=\"Times,serif\" font-size=\"14.00\" fill=\"#000000\">yes, missing</text>\n</g>\n<!-- 102 -->\n<g id=\"node87\" class=\"node\">\n<title>102</title>\n<polygon fill=\"#e48038\" stroke=\"#000000\" points=\"5967,-36 5843,-36 5843,0 5967,0 5967,-36\"/>\n<text text-anchor=\"middle\" x=\"5905\" y=\"-14.3\" font-family=\"Times,serif\" font-size=\"14.00\" fill=\"#000000\">leaf=0.100151293</text>\n</g>\n<!-- 51&#45;&gt;102 -->\n<g id=\"edge86\" class=\"edge\">\n<title>51&#45;&gt;102</title>\n<path fill=\"none\" stroke=\"#ff0000\" d=\"M5905,-86.9735C5905,-75.1918 5905,-59.5607 5905,-46.1581\"/>\n<polygon fill=\"#ff0000\" stroke=\"#ff0000\" points=\"5908.5001,-46.0033 5905,-36.0034 5901.5001,-46.0034 5908.5001,-46.0033\"/>\n<text text-anchor=\"middle\" x=\"5913\" y=\"-57.8\" font-family=\"Times,serif\" font-size=\"14.00\" fill=\"#000000\">no</text>\n</g>\n<!-- 103 -->\n<g id=\"node88\" class=\"node\">\n<title>103</title>\n<polygon fill=\"#e48038\" stroke=\"#000000\" points=\"6116.5,-36 5985.5,-36 5985.5,0 6116.5,0 6116.5,-36\"/>\n<text text-anchor=\"middle\" x=\"6051\" y=\"-14.3\" font-family=\"Times,serif\" font-size=\"14.00\" fill=\"#000000\">leaf=0.0846479237</text>\n</g>\n<!-- 52&#45;&gt;103 -->\n<g id=\"edge87\" class=\"edge\">\n<title>52&#45;&gt;103</title>\n<path fill=\"none\" stroke=\"#0000ff\" d=\"M6051,-86.9735C6051,-75.1918 6051,-59.5607 6051,-46.1581\"/>\n<polygon fill=\"#0000ff\" stroke=\"#0000ff\" points=\"6054.5001,-46.0033 6051,-36.0034 6047.5001,-46.0034 6054.5001,-46.0033\"/>\n<text text-anchor=\"middle\" x=\"6086.5\" y=\"-57.8\" font-family=\"Times,serif\" font-size=\"14.00\" fill=\"#000000\">yes, missing</text>\n</g>\n<!-- 104 -->\n<g id=\"node89\" class=\"node\">\n<title>104</title>\n<polygon fill=\"#e48038\" stroke=\"#000000\" points=\"6265.5,-36 6134.5,-36 6134.5,0 6265.5,0 6265.5,-36\"/>\n<text text-anchor=\"middle\" x=\"6200\" y=\"-14.3\" font-family=\"Times,serif\" font-size=\"14.00\" fill=\"#000000\">leaf=0.0448332392</text>\n</g>\n<!-- 52&#45;&gt;104 -->\n<g id=\"edge88\" class=\"edge\">\n<title>52&#45;&gt;104</title>\n<path fill=\"none\" stroke=\"#ff0000\" d=\"M6091.6894,-86.8883C6102.9858,-81.48 6115.1297,-75.3032 6126,-69 6139.928,-60.9238 6154.6507,-51.0722 6167.2646,-42.1887\"/>\n<polygon fill=\"#ff0000\" stroke=\"#ff0000\" points=\"6169.515,-44.8827 6175.6247,-36.2269 6165.4507,-39.1834 6169.515,-44.8827\"/>\n<text text-anchor=\"middle\" x=\"6158\" y=\"-57.8\" font-family=\"Times,serif\" font-size=\"14.00\" fill=\"#000000\">no</text>\n</g>\n<!-- 105 -->\n<g id=\"node92\" class=\"node\">\n<title>105</title>\n<polygon fill=\"#e48038\" stroke=\"#000000\" points=\"6414.5,-36 6283.5,-36 6283.5,0 6414.5,0 6414.5,-36\"/>\n<text text-anchor=\"middle\" x=\"6349\" y=\"-14.3\" font-family=\"Times,serif\" font-size=\"14.00\" fill=\"#000000\">leaf=0.0986520648</text>\n</g>\n<!-- 53&#45;&gt;105 -->\n<g id=\"edge91\" class=\"edge\">\n<title>53&#45;&gt;105</title>\n<path fill=\"none\" stroke=\"#0000ff\" d=\"M6389.4328,-86.9735C6382.3211,-74.8418 6372.8168,-58.6287 6364.8099,-44.9698\"/>\n<polygon fill=\"#0000ff\" stroke=\"#0000ff\" points=\"6367.6304,-42.8603 6359.5537,-36.0034 6361.5915,-46.4004 6367.6304,-42.8603\"/>\n<text text-anchor=\"middle\" x=\"6413.5\" y=\"-57.8\" font-family=\"Times,serif\" font-size=\"14.00\" fill=\"#000000\">yes, missing</text>\n</g>\n<!-- 106 -->\n<g id=\"node93\" class=\"node\">\n<title>106</title>\n<polygon fill=\"#e48038\" stroke=\"#000000\" points=\"6563.5,-36 6432.5,-36 6432.5,0 6563.5,0 6563.5,-36\"/>\n<text text-anchor=\"middle\" x=\"6498\" y=\"-14.3\" font-family=\"Times,serif\" font-size=\"14.00\" fill=\"#000000\">leaf=0.0663337484</text>\n</g>\n<!-- 53&#45;&gt;106 -->\n<g id=\"edge92\" class=\"edge\">\n<title>53&#45;&gt;106</title>\n<path fill=\"none\" stroke=\"#ff0000\" d=\"M6429.5793,-86.8246C6437.4859,-81.4615 6445.8223,-75.3238 6453,-69 6461.5942,-61.4282 6470.1362,-52.2724 6477.4318,-43.82\"/>\n<polygon fill=\"#ff0000\" stroke=\"#ff0000\" points=\"6480.2459,-45.9116 6484.0056,-36.0063 6474.8894,-41.4051 6480.2459,-45.9116\"/>\n<text text-anchor=\"middle\" x=\"6476\" y=\"-57.8\" font-family=\"Times,serif\" font-size=\"14.00\" fill=\"#000000\">no</text>\n</g>\n<!-- 107 -->\n<g id=\"node94\" class=\"node\">\n<title>107</title>\n<polygon fill=\"#e48038\" stroke=\"#000000\" points=\"6712.5,-36 6581.5,-36 6581.5,0 6712.5,0 6712.5,-36\"/>\n<text text-anchor=\"middle\" x=\"6647\" y=\"-14.3\" font-family=\"Times,serif\" font-size=\"14.00\" fill=\"#000000\">leaf=0.0570178293</text>\n</g>\n<!-- 54&#45;&gt;107 -->\n<g id=\"edge93\" class=\"edge\">\n<title>54&#45;&gt;107</title>\n<path fill=\"none\" stroke=\"#0000ff\" d=\"M6647,-86.9735C6647,-75.1918 6647,-59.5607 6647,-46.1581\"/>\n<polygon fill=\"#0000ff\" stroke=\"#0000ff\" points=\"6650.5001,-46.0033 6647,-36.0034 6643.5001,-46.0034 6650.5001,-46.0033\"/>\n<text text-anchor=\"middle\" x=\"6682.5\" y=\"-57.8\" font-family=\"Times,serif\" font-size=\"14.00\" fill=\"#000000\">yes, missing</text>\n</g>\n<!-- 108 -->\n<g id=\"node95\" class=\"node\">\n<title>108</title>\n<polygon fill=\"#e48038\" stroke=\"#000000\" points=\"6853.5,-36 6730.5,-36 6730.5,0 6853.5,0 6853.5,-36\"/>\n<text text-anchor=\"middle\" x=\"6792\" y=\"-14.3\" font-family=\"Times,serif\" font-size=\"14.00\" fill=\"#000000\">leaf=0.170526311</text>\n</g>\n<!-- 54&#45;&gt;108 -->\n<g id=\"edge94\" class=\"edge\">\n<title>54&#45;&gt;108</title>\n<path fill=\"none\" stroke=\"#ff0000\" d=\"M6688.1885,-86.8871C6699.3745,-81.5243 6711.3373,-75.371 6722,-69 6735.2948,-61.0563 6749.2231,-51.2489 6761.1229,-42.3634\"/>\n<polygon fill=\"#ff0000\" stroke=\"#ff0000\" points=\"6763.5361,-44.9261 6769.3913,-36.0961 6759.3077,-39.3475 6763.5361,-44.9261\"/>\n<text text-anchor=\"middle\" x=\"6752\" y=\"-57.8\" font-family=\"Times,serif\" font-size=\"14.00\" fill=\"#000000\">no</text>\n</g>\n<!-- 27 -->\n<g id=\"node98\" class=\"node\">\n<title>27</title>\n<path fill=\"#78cb0e\" stroke=\"#000000\" d=\"M7293,-210C7293,-210 7185,-210 7185,-210 7179,-210 7173,-204 7173,-198 7173,-198 7173,-186 7173,-186 7173,-180 7179,-174 7185,-174 7185,-174 7293,-174 7293,-174 7299,-174 7305,-180 7305,-186 7305,-186 7305,-198 7305,-198 7305,-204 7299,-210 7293,-210\"/>\n<text text-anchor=\"middle\" x=\"7239\" y=\"-188.3\" font-family=\"Times,serif\" font-size=\"14.00\" fill=\"#000000\">O2Sat&lt;99.4499969</text>\n</g>\n<!-- 13&#45;&gt;27 -->\n<g id=\"edge97\" class=\"edge\">\n<title>13&#45;&gt;27</title>\n<path fill=\"none\" stroke=\"#0000ff\" d=\"M7294.2434,-260.6887C7289.6764,-255.0195 7284.6291,-248.7523 7280,-243 7273.5508,-234.986 7266.5346,-226.2609 7260.1592,-218.3302\"/>\n<polygon fill=\"#0000ff\" stroke=\"#0000ff\" points=\"7262.791,-216.0178 7253.798,-210.4163 7257.3351,-220.4033 7262.791,-216.0178\"/>\n<text text-anchor=\"middle\" x=\"7315.5\" y=\"-231.8\" font-family=\"Times,serif\" font-size=\"14.00\" fill=\"#000000\">yes, missing</text>\n</g>\n<!-- 28 -->\n<g id=\"node99\" class=\"node\">\n<title>28</title>\n<path fill=\"#78cb0e\" stroke=\"#000000\" d=\"M7413.5,-210C7413.5,-210 7350.5,-210 7350.5,-210 7344.5,-210 7338.5,-204 7338.5,-198 7338.5,-198 7338.5,-186 7338.5,-186 7338.5,-180 7344.5,-174 7350.5,-174 7350.5,-174 7413.5,-174 7413.5,-174 7419.5,-174 7425.5,-180 7425.5,-186 7425.5,-186 7425.5,-198 7425.5,-198 7425.5,-204 7419.5,-210 7413.5,-210\"/>\n<text text-anchor=\"middle\" x=\"7382\" y=\"-188.3\" font-family=\"Times,serif\" font-size=\"14.00\" fill=\"#000000\">O2Sat&lt;72.5</text>\n</g>\n<!-- 13&#45;&gt;28 -->\n<g id=\"edge98\" class=\"edge\">\n<title>13&#45;&gt;28</title>\n<path fill=\"none\" stroke=\"#ff0000\" d=\"M7332.8913,-260.7861C7339.1587,-255.4229 7345.653,-249.2947 7351,-243 7357.141,-235.7705 7362.8542,-227.1897 7367.6603,-219.1485\"/>\n<polygon fill=\"#ff0000\" stroke=\"#ff0000\" points=\"7370.7386,-220.8162 7372.6755,-210.3999 7364.6657,-217.3348 7370.7386,-220.8162\"/>\n<text text-anchor=\"middle\" x=\"7370\" y=\"-231.8\" font-family=\"Times,serif\" font-size=\"14.00\" fill=\"#000000\">no</text>\n</g>\n<!-- 29 -->\n<g id=\"node110\" class=\"node\">\n<title>29</title>\n<path fill=\"#78cb0e\" stroke=\"#000000\" d=\"M8082.5,-210C8082.5,-210 8011.5,-210 8011.5,-210 8005.5,-210 7999.5,-204 7999.5,-198 7999.5,-198 7999.5,-186 7999.5,-186 7999.5,-180 8005.5,-174 8011.5,-174 8011.5,-174 8082.5,-174 8082.5,-174 8088.5,-174 8094.5,-180 8094.5,-186 8094.5,-186 8094.5,-198 8094.5,-198 8094.5,-204 8088.5,-210 8082.5,-210\"/>\n<text text-anchor=\"middle\" x=\"8047\" y=\"-188.3\" font-family=\"Times,serif\" font-size=\"14.00\" fill=\"#000000\">Resp&lt;29.375</text>\n</g>\n<!-- 14&#45;&gt;29 -->\n<g id=\"edge109\" class=\"edge\">\n<title>14&#45;&gt;29</title>\n<path fill=\"none\" stroke=\"#0000ff\" d=\"M8047,-260.9735C8047,-249.1918 8047,-233.5607 8047,-220.1581\"/>\n<polygon fill=\"#0000ff\" stroke=\"#0000ff\" points=\"8050.5001,-220.0033 8047,-210.0034 8043.5001,-220.0034 8050.5001,-220.0033\"/>\n<text text-anchor=\"middle\" x=\"8082.5\" y=\"-231.8\" font-family=\"Times,serif\" font-size=\"14.00\" fill=\"#000000\">yes, missing</text>\n</g>\n<!-- 30 -->\n<g id=\"node111\" class=\"node\">\n<title>30</title>\n<path fill=\"#78cb0e\" stroke=\"#000000\" d=\"M8527.5,-210C8527.5,-210 8456.5,-210 8456.5,-210 8450.5,-210 8444.5,-204 8444.5,-198 8444.5,-198 8444.5,-186 8444.5,-186 8444.5,-180 8450.5,-174 8456.5,-174 8456.5,-174 8527.5,-174 8527.5,-174 8533.5,-174 8539.5,-180 8539.5,-186 8539.5,-186 8539.5,-198 8539.5,-198 8539.5,-204 8533.5,-210 8527.5,-210\"/>\n<text text-anchor=\"middle\" x=\"8492\" y=\"-188.3\" font-family=\"Times,serif\" font-size=\"14.00\" fill=\"#000000\">O2Sat&lt;97.75</text>\n</g>\n<!-- 14&#45;&gt;30 -->\n<g id=\"edge110\" class=\"edge\">\n<title>14&#45;&gt;30</title>\n<path fill=\"none\" stroke=\"#ff0000\" d=\"M8090.0728,-270.579C8170.5946,-254.8366 8343.9497,-220.9447 8434.4085,-203.2595\"/>\n<polygon fill=\"#ff0000\" stroke=\"#ff0000\" points=\"8435.0803,-206.6945 8444.223,-201.3407 8433.7372,-199.8245 8435.0803,-206.6945\"/>\n<text text-anchor=\"middle\" x=\"8305\" y=\"-231.8\" font-family=\"Times,serif\" font-size=\"14.00\" fill=\"#000000\">no</text>\n</g>\n<!-- 55 -->\n<g id=\"node100\" class=\"node\">\n<title>55</title>\n<path fill=\"#78cb0e\" stroke=\"#000000\" d=\"M7117,-123C7117,-123 7055,-123 7055,-123 7049,-123 7043,-117 7043,-111 7043,-111 7043,-99 7043,-99 7043,-93 7049,-87 7055,-87 7055,-87 7117,-87 7117,-87 7123,-87 7129,-93 7129,-99 7129,-99 7129,-111 7129,-111 7129,-117 7123,-123 7117,-123\"/>\n<text text-anchor=\"middle\" x=\"7086\" y=\"-101.3\" font-family=\"Times,serif\" font-size=\"14.00\" fill=\"#000000\">HR&lt;103.25</text>\n</g>\n<!-- 27&#45;&gt;55 -->\n<g id=\"edge99\" class=\"edge\">\n<title>27&#45;&gt;55</title>\n<path fill=\"none\" stroke=\"#0000ff\" d=\"M7198.7991,-173.9008C7187.3944,-168.4456 7175.072,-162.2413 7164,-156 7149.3165,-147.723 7133.6664,-137.7366 7120.2682,-128.8028\"/>\n<polygon fill=\"#0000ff\" stroke=\"#0000ff\" points=\"7122.0707,-125.797 7111.8216,-123.1126 7118.1597,-131.6025 7122.0707,-125.797\"/>\n<text text-anchor=\"middle\" x=\"7199.5\" y=\"-144.8\" font-family=\"Times,serif\" font-size=\"14.00\" fill=\"#000000\">yes, missing</text>\n</g>\n<!-- 56 -->\n<g id=\"node101\" class=\"node\">\n<title>56</title>\n<path fill=\"#78cb0e\" stroke=\"#000000\" d=\"M7266.5,-123C7266.5,-123 7211.5,-123 7211.5,-123 7205.5,-123 7199.5,-117 7199.5,-111 7199.5,-111 7199.5,-99 7199.5,-99 7199.5,-93 7205.5,-87 7211.5,-87 7211.5,-87 7266.5,-87 7266.5,-87 7272.5,-87 7278.5,-93 7278.5,-99 7278.5,-99 7278.5,-111 7278.5,-111 7278.5,-117 7272.5,-123 7266.5,-123\"/>\n<text text-anchor=\"middle\" x=\"7239\" y=\"-101.3\" font-family=\"Times,serif\" font-size=\"14.00\" fill=\"#000000\">HR&lt;98.25</text>\n</g>\n<!-- 27&#45;&gt;56 -->\n<g id=\"edge100\" class=\"edge\">\n<title>27&#45;&gt;56</title>\n<path fill=\"none\" stroke=\"#ff0000\" d=\"M7239,-173.9735C7239,-162.1918 7239,-146.5607 7239,-133.1581\"/>\n<polygon fill=\"#ff0000\" stroke=\"#ff0000\" points=\"7242.5001,-133.0033 7239,-123.0034 7235.5001,-133.0034 7242.5001,-133.0033\"/>\n<text text-anchor=\"middle\" x=\"7247\" y=\"-144.8\" font-family=\"Times,serif\" font-size=\"14.00\" fill=\"#000000\">no</text>\n</g>\n<!-- 57 -->\n<g id=\"node106\" class=\"node\">\n<title>57</title>\n<polygon fill=\"#e48038\" stroke=\"#000000\" points=\"7446,-123 7318,-123 7318,-87 7446,-87 7446,-123\"/>\n<text text-anchor=\"middle\" x=\"7382\" y=\"-101.3\" font-family=\"Times,serif\" font-size=\"14.00\" fill=\"#000000\">leaf=&#45;0.104761913</text>\n</g>\n<!-- 28&#45;&gt;57 -->\n<g id=\"edge105\" class=\"edge\">\n<title>28&#45;&gt;57</title>\n<path fill=\"none\" stroke=\"#0000ff\" d=\"M7382,-173.9735C7382,-162.1918 7382,-146.5607 7382,-133.1581\"/>\n<polygon fill=\"#0000ff\" stroke=\"#0000ff\" points=\"7385.5001,-133.0033 7382,-123.0034 7378.5001,-133.0034 7385.5001,-133.0033\"/>\n<text text-anchor=\"middle\" x=\"7417.5\" y=\"-144.8\" font-family=\"Times,serif\" font-size=\"14.00\" fill=\"#000000\">yes, missing</text>\n</g>\n<!-- 58 -->\n<g id=\"node107\" class=\"node\">\n<title>58</title>\n<path fill=\"#78cb0e\" stroke=\"#000000\" d=\"M7565.5,-123C7565.5,-123 7494.5,-123 7494.5,-123 7488.5,-123 7482.5,-117 7482.5,-111 7482.5,-111 7482.5,-99 7482.5,-99 7482.5,-93 7488.5,-87 7494.5,-87 7494.5,-87 7565.5,-87 7565.5,-87 7571.5,-87 7577.5,-93 7577.5,-99 7577.5,-99 7577.5,-111 7577.5,-111 7577.5,-117 7571.5,-123 7565.5,-123\"/>\n<text text-anchor=\"middle\" x=\"7530\" y=\"-101.3\" font-family=\"Times,serif\" font-size=\"14.00\" fill=\"#000000\">O2Sat&lt;95.75</text>\n</g>\n<!-- 28&#45;&gt;58 -->\n<g id=\"edge106\" class=\"edge\">\n<title>28&#45;&gt;58</title>\n<path fill=\"none\" stroke=\"#ff0000\" d=\"M7422.7157,-173.9335C7434.0124,-168.5257 7446.1499,-162.3378 7457,-156 7470.8836,-147.8903 7485.5346,-137.9527 7498.0382,-129.0109\"/>\n<polygon fill=\"#ff0000\" stroke=\"#ff0000\" points=\"7500.2708,-131.7154 7506.3156,-123.0141 7496.164,-126.0467 7500.2708,-131.7154\"/>\n<text text-anchor=\"middle\" x=\"7488\" y=\"-144.8\" font-family=\"Times,serif\" font-size=\"14.00\" fill=\"#000000\">no</text>\n</g>\n<!-- 109 -->\n<g id=\"node102\" class=\"node\">\n<title>109</title>\n<polygon fill=\"#e48038\" stroke=\"#000000\" points=\"7002.5,-36 6871.5,-36 6871.5,0 7002.5,0 7002.5,-36\"/>\n<text text-anchor=\"middle\" x=\"6937\" y=\"-14.3\" font-family=\"Times,serif\" font-size=\"14.00\" fill=\"#000000\">leaf=0.0360527448</text>\n</g>\n<!-- 55&#45;&gt;109 -->\n<g id=\"edge101\" class=\"edge\">\n<title>55&#45;&gt;109</title>\n<path fill=\"none\" stroke=\"#0000ff\" d=\"M7045.3106,-86.8883C7034.0142,-81.48 7021.8703,-75.3032 7011,-69 6997.072,-60.9238 6982.3493,-51.0722 6969.7354,-42.1887\"/>\n<polygon fill=\"#0000ff\" stroke=\"#0000ff\" points=\"6971.5493,-39.1834 6961.3753,-36.2269 6967.485,-44.8827 6971.5493,-39.1834\"/>\n<text text-anchor=\"middle\" x=\"7046.5\" y=\"-57.8\" font-family=\"Times,serif\" font-size=\"14.00\" fill=\"#000000\">yes, missing</text>\n</g>\n<!-- 110 -->\n<g id=\"node103\" class=\"node\">\n<title>110</title>\n<polygon fill=\"#e48038\" stroke=\"#000000\" points=\"7151.5,-36 7020.5,-36 7020.5,0 7151.5,0 7151.5,-36\"/>\n<text text-anchor=\"middle\" x=\"7086\" y=\"-14.3\" font-family=\"Times,serif\" font-size=\"14.00\" fill=\"#000000\">leaf=0.0551912077</text>\n</g>\n<!-- 55&#45;&gt;110 -->\n<g id=\"edge102\" class=\"edge\">\n<title>55&#45;&gt;110</title>\n<path fill=\"none\" stroke=\"#ff0000\" d=\"M7086,-86.9735C7086,-75.1918 7086,-59.5607 7086,-46.1581\"/>\n<polygon fill=\"#ff0000\" stroke=\"#ff0000\" points=\"7089.5001,-46.0033 7086,-36.0034 7082.5001,-46.0034 7089.5001,-46.0033\"/>\n<text text-anchor=\"middle\" x=\"7094\" y=\"-57.8\" font-family=\"Times,serif\" font-size=\"14.00\" fill=\"#000000\">no</text>\n</g>\n<!-- 111 -->\n<g id=\"node104\" class=\"node\">\n<title>111</title>\n<polygon fill=\"#e48038\" stroke=\"#000000\" points=\"7300.5,-36 7169.5,-36 7169.5,0 7300.5,0 7300.5,-36\"/>\n<text text-anchor=\"middle\" x=\"7235\" y=\"-14.3\" font-family=\"Times,serif\" font-size=\"14.00\" fill=\"#000000\">leaf=0.0512491129</text>\n</g>\n<!-- 56&#45;&gt;111 -->\n<g id=\"edge103\" class=\"edge\">\n<title>56&#45;&gt;111</title>\n<path fill=\"none\" stroke=\"#0000ff\" d=\"M7238.1712,-86.9735C7237.6295,-75.1918 7236.9108,-59.5607 7236.2946,-46.1581\"/>\n<polygon fill=\"#0000ff\" stroke=\"#0000ff\" points=\"7239.7834,-45.832 7235.8277,-36.0034 7232.7908,-46.1536 7239.7834,-45.832\"/>\n<text text-anchor=\"middle\" x=\"7273.5\" y=\"-57.8\" font-family=\"Times,serif\" font-size=\"14.00\" fill=\"#000000\">yes, missing</text>\n</g>\n<!-- 112 -->\n<g id=\"node105\" class=\"node\">\n<title>112</title>\n<polygon fill=\"#e48038\" stroke=\"#000000\" points=\"7449.5,-36 7318.5,-36 7318.5,0 7449.5,0 7449.5,-36\"/>\n<text text-anchor=\"middle\" x=\"7384\" y=\"-14.3\" font-family=\"Times,serif\" font-size=\"14.00\" fill=\"#000000\">leaf=0.0778987259</text>\n</g>\n<!-- 56&#45;&gt;112 -->\n<g id=\"edge104\" class=\"edge\">\n<title>56&#45;&gt;112</title>\n<path fill=\"none\" stroke=\"#ff0000\" d=\"M7278.829,-87.1584C7290.0843,-81.7073 7302.2026,-75.4407 7313,-69 7326.5555,-60.9141 7340.8149,-50.981 7352.9691,-42.0361\"/>\n<polygon fill=\"#ff0000\" stroke=\"#ff0000\" points=\"7355.0898,-44.8207 7361.0127,-36.0361 7350.9044,-39.2098 7355.0898,-44.8207\"/>\n<text text-anchor=\"middle\" x=\"7344\" y=\"-57.8\" font-family=\"Times,serif\" font-size=\"14.00\" fill=\"#000000\">no</text>\n</g>\n<!-- 113 -->\n<g id=\"node108\" class=\"node\">\n<title>113</title>\n<polygon fill=\"#e48038\" stroke=\"#000000\" points=\"7592,-36 7468,-36 7468,0 7592,0 7592,-36\"/>\n<text text-anchor=\"middle\" x=\"7530\" y=\"-14.3\" font-family=\"Times,serif\" font-size=\"14.00\" fill=\"#000000\">leaf=0.105162971</text>\n</g>\n<!-- 58&#45;&gt;113 -->\n<g id=\"edge107\" class=\"edge\">\n<title>58&#45;&gt;113</title>\n<path fill=\"none\" stroke=\"#0000ff\" d=\"M7530,-86.9735C7530,-75.1918 7530,-59.5607 7530,-46.1581\"/>\n<polygon fill=\"#0000ff\" stroke=\"#0000ff\" points=\"7533.5001,-46.0033 7530,-36.0034 7526.5001,-46.0034 7533.5001,-46.0033\"/>\n<text text-anchor=\"middle\" x=\"7565.5\" y=\"-57.8\" font-family=\"Times,serif\" font-size=\"14.00\" fill=\"#000000\">yes, missing</text>\n</g>\n<!-- 114 -->\n<g id=\"node109\" class=\"node\">\n<title>114</title>\n<polygon fill=\"#e48038\" stroke=\"#000000\" points=\"7741.5,-36 7610.5,-36 7610.5,0 7741.5,0 7741.5,-36\"/>\n<text text-anchor=\"middle\" x=\"7676\" y=\"-14.3\" font-family=\"Times,serif\" font-size=\"14.00\" fill=\"#000000\">leaf=0.0872919038</text>\n</g>\n<!-- 58&#45;&gt;114 -->\n<g id=\"edge108\" class=\"edge\">\n<title>58&#45;&gt;114</title>\n<path fill=\"none\" stroke=\"#ff0000\" d=\"M7571.1602,-86.8395C7582.3461,-81.4765 7594.3159,-75.3351 7605,-69 7618.5767,-60.9498 7632.8401,-51.0234 7644.9915,-42.0738\"/>\n<polygon fill=\"#ff0000\" stroke=\"#ff0000\" points=\"7647.1142,-44.8569 7653.0323,-36.0691 7642.9257,-39.2483 7647.1142,-44.8569\"/>\n<text text-anchor=\"middle\" x=\"7636\" y=\"-57.8\" font-family=\"Times,serif\" font-size=\"14.00\" fill=\"#000000\">no</text>\n</g>\n<!-- 59 -->\n<g id=\"node112\" class=\"node\">\n<title>59</title>\n<path fill=\"#78cb0e\" stroke=\"#000000\" d=\"M8009.5,-123C8009.5,-123 7938.5,-123 7938.5,-123 7932.5,-123 7926.5,-117 7926.5,-111 7926.5,-111 7926.5,-99 7926.5,-99 7926.5,-93 7932.5,-87 7938.5,-87 7938.5,-87 8009.5,-87 8009.5,-87 8015.5,-87 8021.5,-93 8021.5,-99 8021.5,-99 8021.5,-111 8021.5,-111 8021.5,-117 8015.5,-123 8009.5,-123\"/>\n<text text-anchor=\"middle\" x=\"7974\" y=\"-101.3\" font-family=\"Times,serif\" font-size=\"14.00\" fill=\"#000000\">O2Sat&lt;98.25</text>\n</g>\n<!-- 29&#45;&gt;59 -->\n<g id=\"edge111\" class=\"edge\">\n<title>29&#45;&gt;59</title>\n<path fill=\"none\" stroke=\"#0000ff\" d=\"M8029.9353,-173.9299C8024.7272,-168.2706 8019.0461,-161.9482 8014,-156 8007.3006,-148.1029 8000.2486,-139.2926 7993.9632,-131.2464\"/>\n<polygon fill=\"#0000ff\" stroke=\"#0000ff\" points=\"7996.628,-128.9711 7987.7376,-123.2082 7991.0937,-133.2574 7996.628,-128.9711\"/>\n<text text-anchor=\"middle\" x=\"8049.5\" y=\"-144.8\" font-family=\"Times,serif\" font-size=\"14.00\" fill=\"#000000\">yes, missing</text>\n</g>\n<!-- 60 -->\n<g id=\"node113\" class=\"node\">\n<title>60</title>\n<path fill=\"#78cb0e\" stroke=\"#000000\" d=\"M8151.5,-123C8151.5,-123 8088.5,-123 8088.5,-123 8082.5,-123 8076.5,-117 8076.5,-111 8076.5,-111 8076.5,-99 8076.5,-99 8076.5,-93 8082.5,-87 8088.5,-87 8088.5,-87 8151.5,-87 8151.5,-87 8157.5,-87 8163.5,-93 8163.5,-99 8163.5,-99 8163.5,-111 8163.5,-111 8163.5,-117 8157.5,-123 8151.5,-123\"/>\n<text text-anchor=\"middle\" x=\"8120\" y=\"-101.3\" font-family=\"Times,serif\" font-size=\"14.00\" fill=\"#000000\">Resp&lt;43.75</text>\n</g>\n<!-- 29&#45;&gt;60 -->\n<g id=\"edge112\" class=\"edge\">\n<title>29&#45;&gt;60</title>\n<path fill=\"none\" stroke=\"#ff0000\" d=\"M8067.9055,-173.6933C8073.6924,-168.2348 8079.8058,-162.0807 8085,-156 8091.4539,-148.4446 8097.8149,-139.6881 8103.307,-131.5858\"/>\n<polygon fill=\"#ff0000\" stroke=\"#ff0000\" points=\"8106.2959,-133.4112 8108.8887,-123.1385 8100.4556,-129.5521 8106.2959,-133.4112\"/>\n<text text-anchor=\"middle\" x=\"8105\" y=\"-144.8\" font-family=\"Times,serif\" font-size=\"14.00\" fill=\"#000000\">no</text>\n</g>\n<!-- 61 -->\n<g id=\"node118\" class=\"node\">\n<title>61</title>\n<path fill=\"#78cb0e\" stroke=\"#000000\" d=\"M8523.5,-123C8523.5,-123 8460.5,-123 8460.5,-123 8454.5,-123 8448.5,-117 8448.5,-111 8448.5,-111 8448.5,-99 8448.5,-99 8448.5,-93 8454.5,-87 8460.5,-87 8460.5,-87 8523.5,-87 8523.5,-87 8529.5,-87 8535.5,-93 8535.5,-99 8535.5,-99 8535.5,-111 8535.5,-111 8535.5,-117 8529.5,-123 8523.5,-123\"/>\n<text text-anchor=\"middle\" x=\"8492\" y=\"-101.3\" font-family=\"Times,serif\" font-size=\"14.00\" fill=\"#000000\">O2Sat&lt;60.5</text>\n</g>\n<!-- 30&#45;&gt;61 -->\n<g id=\"edge117\" class=\"edge\">\n<title>30&#45;&gt;61</title>\n<path fill=\"none\" stroke=\"#0000ff\" d=\"M8492,-173.9735C8492,-162.1918 8492,-146.5607 8492,-133.1581\"/>\n<polygon fill=\"#0000ff\" stroke=\"#0000ff\" points=\"8495.5001,-133.0033 8492,-123.0034 8488.5001,-133.0034 8495.5001,-133.0033\"/>\n<text text-anchor=\"middle\" x=\"8527.5\" y=\"-144.8\" font-family=\"Times,serif\" font-size=\"14.00\" fill=\"#000000\">yes, missing</text>\n</g>\n<!-- 62 -->\n<g id=\"node119\" class=\"node\">\n<title>62</title>\n<path fill=\"#78cb0e\" stroke=\"#000000\" d=\"M8743,-123C8743,-123 8681,-123 8681,-123 8675,-123 8669,-117 8669,-111 8669,-111 8669,-99 8669,-99 8669,-93 8675,-87 8681,-87 8681,-87 8743,-87 8743,-87 8749,-87 8755,-93 8755,-99 8755,-99 8755,-111 8755,-111 8755,-117 8749,-123 8743,-123\"/>\n<text text-anchor=\"middle\" x=\"8712\" y=\"-101.3\" font-family=\"Times,serif\" font-size=\"14.00\" fill=\"#000000\">HR&lt;117.25</text>\n</g>\n<!-- 30&#45;&gt;62 -->\n<g id=\"edge118\" class=\"edge\">\n<title>30&#45;&gt;62</title>\n<path fill=\"none\" stroke=\"#ff0000\" d=\"M8537.5841,-173.9735C8572.9375,-159.9929 8621.9973,-140.592 8659.0828,-125.9263\"/>\n<polygon fill=\"#ff0000\" stroke=\"#ff0000\" points=\"8660.7075,-129.0476 8668.7197,-122.1154 8658.1333,-122.5381 8660.7075,-129.0476\"/>\n<text text-anchor=\"middle\" x=\"8624\" y=\"-144.8\" font-family=\"Times,serif\" font-size=\"14.00\" fill=\"#000000\">no</text>\n</g>\n<!-- 115 -->\n<g id=\"node114\" class=\"node\">\n<title>115</title>\n<polygon fill=\"#e48038\" stroke=\"#000000\" points=\"7890.5,-36 7759.5,-36 7759.5,0 7890.5,0 7890.5,-36\"/>\n<text text-anchor=\"middle\" x=\"7825\" y=\"-14.3\" font-family=\"Times,serif\" font-size=\"14.00\" fill=\"#000000\">leaf=0.0709072948</text>\n</g>\n<!-- 59&#45;&gt;115 -->\n<g id=\"edge113\" class=\"edge\">\n<title>59&#45;&gt;115</title>\n<path fill=\"none\" stroke=\"#0000ff\" d=\"M7933.3106,-86.8883C7922.0142,-81.48 7909.8703,-75.3032 7899,-69 7885.072,-60.9238 7870.3493,-51.0722 7857.7354,-42.1887\"/>\n<polygon fill=\"#0000ff\" stroke=\"#0000ff\" points=\"7859.5493,-39.1834 7849.3753,-36.2269 7855.485,-44.8827 7859.5493,-39.1834\"/>\n<text text-anchor=\"middle\" x=\"7934.5\" y=\"-57.8\" font-family=\"Times,serif\" font-size=\"14.00\" fill=\"#000000\">yes, missing</text>\n</g>\n<!-- 116 -->\n<g id=\"node115\" class=\"node\">\n<title>116</title>\n<polygon fill=\"#e48038\" stroke=\"#000000\" points=\"8039.5,-36 7908.5,-36 7908.5,0 8039.5,0 8039.5,-36\"/>\n<text text-anchor=\"middle\" x=\"7974\" y=\"-14.3\" font-family=\"Times,serif\" font-size=\"14.00\" fill=\"#000000\">leaf=0.0879788622</text>\n</g>\n<!-- 59&#45;&gt;116 -->\n<g id=\"edge114\" class=\"edge\">\n<title>59&#45;&gt;116</title>\n<path fill=\"none\" stroke=\"#ff0000\" d=\"M7974,-86.9735C7974,-75.1918 7974,-59.5607 7974,-46.1581\"/>\n<polygon fill=\"#ff0000\" stroke=\"#ff0000\" points=\"7977.5001,-46.0033 7974,-36.0034 7970.5001,-46.0034 7977.5001,-46.0033\"/>\n<text text-anchor=\"middle\" x=\"7982\" y=\"-57.8\" font-family=\"Times,serif\" font-size=\"14.00\" fill=\"#000000\">no</text>\n</g>\n<!-- 117 -->\n<g id=\"node116\" class=\"node\">\n<title>117</title>\n<polygon fill=\"#e48038\" stroke=\"#000000\" points=\"8182,-36 8058,-36 8058,0 8182,0 8182,-36\"/>\n<text text-anchor=\"middle\" x=\"8120\" y=\"-14.3\" font-family=\"Times,serif\" font-size=\"14.00\" fill=\"#000000\">leaf=0.103568032</text>\n</g>\n<!-- 60&#45;&gt;117 -->\n<g id=\"edge115\" class=\"edge\">\n<title>60&#45;&gt;117</title>\n<path fill=\"none\" stroke=\"#0000ff\" d=\"M8120,-86.9735C8120,-75.1918 8120,-59.5607 8120,-46.1581\"/>\n<polygon fill=\"#0000ff\" stroke=\"#0000ff\" points=\"8123.5001,-46.0033 8120,-36.0034 8116.5001,-46.0034 8123.5001,-46.0033\"/>\n<text text-anchor=\"middle\" x=\"8155.5\" y=\"-57.8\" font-family=\"Times,serif\" font-size=\"14.00\" fill=\"#000000\">yes, missing</text>\n</g>\n<!-- 118 -->\n<g id=\"node117\" class=\"node\">\n<title>118</title>\n<polygon fill=\"#e48038\" stroke=\"#000000\" points=\"8331.5,-36 8200.5,-36 8200.5,0 8331.5,0 8331.5,-36\"/>\n<text text-anchor=\"middle\" x=\"8266\" y=\"-14.3\" font-family=\"Times,serif\" font-size=\"14.00\" fill=\"#000000\">leaf=0.0133333346</text>\n</g>\n<!-- 60&#45;&gt;118 -->\n<g id=\"edge116\" class=\"edge\">\n<title>60&#45;&gt;118</title>\n<path fill=\"none\" stroke=\"#ff0000\" d=\"M8161.1602,-86.8395C8172.3461,-81.4765 8184.3159,-75.3351 8195,-69 8208.5767,-60.9498 8222.8401,-51.0234 8234.9915,-42.0738\"/>\n<polygon fill=\"#ff0000\" stroke=\"#ff0000\" points=\"8237.1142,-44.8569 8243.0323,-36.0691 8232.9257,-39.2483 8237.1142,-44.8569\"/>\n<text text-anchor=\"middle\" x=\"8226\" y=\"-57.8\" font-family=\"Times,serif\" font-size=\"14.00\" fill=\"#000000\">no</text>\n</g>\n<!-- 119 -->\n<g id=\"node120\" class=\"node\">\n<title>119</title>\n<polygon fill=\"#e48038\" stroke=\"#000000\" points=\"8486,-36 8350,-36 8350,0 8486,0 8486,-36\"/>\n<text text-anchor=\"middle\" x=\"8418\" y=\"-14.3\" font-family=\"Times,serif\" font-size=\"14.00\" fill=\"#000000\">leaf=&#45;0.0933333337</text>\n</g>\n<!-- 61&#45;&gt;119 -->\n<g id=\"edge119\" class=\"edge\">\n<title>61&#45;&gt;119</title>\n<path fill=\"none\" stroke=\"#0000ff\" d=\"M8476.6672,-86.9735C8466.0506,-74.4919 8451.7592,-57.6899 8439.94,-43.7944\"/>\n<polygon fill=\"#0000ff\" stroke=\"#0000ff\" points=\"8442.4583,-41.3529 8433.3132,-36.0034 8437.1262,-45.8883 8442.4583,-41.3529\"/>\n<text text-anchor=\"middle\" x=\"8495.5\" y=\"-57.8\" font-family=\"Times,serif\" font-size=\"14.00\" fill=\"#000000\">yes, missing</text>\n</g>\n<!-- 120 -->\n<g id=\"node121\" class=\"node\">\n<title>120</title>\n<polygon fill=\"#e48038\" stroke=\"#000000\" points=\"8628,-36 8504,-36 8504,0 8628,0 8628,-36\"/>\n<text text-anchor=\"middle\" x=\"8566\" y=\"-14.3\" font-family=\"Times,serif\" font-size=\"14.00\" fill=\"#000000\">leaf=0.121057309</text>\n</g>\n<!-- 61&#45;&gt;120 -->\n<g id=\"edge120\" class=\"edge\">\n<title>61&#45;&gt;120</title>\n<path fill=\"none\" stroke=\"#ff0000\" d=\"M8516.4821,-86.8592C8522.8988,-81.4963 8529.5423,-75.35 8535,-69 8541.1829,-61.8062 8546.908,-53.2356 8551.7121,-45.1928\"/>\n<polygon fill=\"#ff0000\" stroke=\"#ff0000\" points=\"8554.7928,-46.856 8556.7201,-36.4379 8548.7167,-43.3803 8554.7928,-46.856\"/>\n<text text-anchor=\"middle\" x=\"8554\" y=\"-57.8\" font-family=\"Times,serif\" font-size=\"14.00\" fill=\"#000000\">no</text>\n</g>\n<!-- 121 -->\n<g id=\"node122\" class=\"node\">\n<title>121</title>\n<polygon fill=\"#e48038\" stroke=\"#000000\" points=\"8777.5,-36 8646.5,-36 8646.5,0 8777.5,0 8777.5,-36\"/>\n<text text-anchor=\"middle\" x=\"8712\" y=\"-14.3\" font-family=\"Times,serif\" font-size=\"14.00\" fill=\"#000000\">leaf=0.0668628886</text>\n</g>\n<!-- 62&#45;&gt;121 -->\n<g id=\"edge121\" class=\"edge\">\n<title>62&#45;&gt;121</title>\n<path fill=\"none\" stroke=\"#0000ff\" d=\"M8712,-86.9735C8712,-75.1918 8712,-59.5607 8712,-46.1581\"/>\n<polygon fill=\"#0000ff\" stroke=\"#0000ff\" points=\"8715.5001,-46.0033 8712,-36.0034 8708.5001,-46.0034 8715.5001,-46.0033\"/>\n<text text-anchor=\"middle\" x=\"8747.5\" y=\"-57.8\" font-family=\"Times,serif\" font-size=\"14.00\" fill=\"#000000\">yes, missing</text>\n</g>\n<!-- 122 -->\n<g id=\"node123\" class=\"node\">\n<title>122</title>\n<polygon fill=\"#e48038\" stroke=\"#000000\" points=\"8918,-36 8796,-36 8796,0 8918,0 8918,-36\"/>\n<text text-anchor=\"middle\" x=\"8857\" y=\"-14.3\" font-family=\"Times,serif\" font-size=\"14.00\" fill=\"#000000\">leaf=0.111788645</text>\n</g>\n<!-- 62&#45;&gt;122 -->\n<g id=\"edge122\" class=\"edge\">\n<title>62&#45;&gt;122</title>\n<path fill=\"none\" stroke=\"#ff0000\" d=\"M8753.1885,-86.8871C8764.3745,-81.5243 8776.3373,-75.371 8787,-69 8800.2948,-61.0563 8814.2231,-51.2489 8826.1229,-42.3634\"/>\n<polygon fill=\"#ff0000\" stroke=\"#ff0000\" points=\"8828.5361,-44.9261 8834.3913,-36.0961 8824.3077,-39.3475 8828.5361,-44.9261\"/>\n<text text-anchor=\"middle\" x=\"8816\" y=\"-57.8\" font-family=\"Times,serif\" font-size=\"14.00\" fill=\"#000000\">no</text>\n</g>\n</g>\n</svg>\n"
          },
          "metadata": {
            "tags": []
          },
          "execution_count": 34
        }
      ]
    },
    {
      "cell_type": "code",
      "metadata": {
        "id": "652qF8H-ddvC"
      },
      "source": [
        ""
      ],
      "execution_count": null,
      "outputs": []
    },
    {
      "cell_type": "code",
      "metadata": {
        "id": "ekO0ldKGdd82"
      },
      "source": [
        ""
      ],
      "execution_count": null,
      "outputs": []
    },
    {
      "cell_type": "code",
      "metadata": {
        "id": "LtOBsCrwdd_C"
      },
      "source": [
        ""
      ],
      "execution_count": null,
      "outputs": []
    }
  ]
}